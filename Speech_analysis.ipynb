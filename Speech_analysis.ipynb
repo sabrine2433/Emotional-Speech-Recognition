{
 "cells": [
  {
   "cell_type": "markdown",
   "metadata": {},
   "source": [
    "## importation"
   ]
  },
  {
   "cell_type": "code",
   "execution_count": 16,
   "metadata": {},
   "outputs": [],
   "source": [
    "import speech_recognition as sr\n",
    "import wave \n",
    "import nltk\n",
    "from nltk.tokenize import wordpunct_tokenize\n",
    "from nltk.corpus import stopwords\n",
    "from nltk.stem.porter import PorterStemmer\n",
    "from nltk.stem.lancaster import LancasterStemmer"
   ]
  },
  {
   "cell_type": "markdown",
   "metadata": {},
   "source": [
    "## enregistrer le speech"
   ]
  },
  {
   "cell_type": "code",
   "execution_count": 113,
   "metadata": {},
   "outputs": [
    {
     "name": "stdout",
     "output_type": "stream",
     "text": [
      "say sth\n",
      "time is over, thanks\n"
     ]
    }
   ],
   "source": [
    "with sr.Microphone() as source:\n",
    "    print(\"say sth\")\n",
    "    audio=r.listen(source)\n",
    "    print(\"time is over, thanks\")\n",
    "    \n",
    "try :\n",
    "    print(\"text\" + r.recognize_google(audio))\n",
    "except:\n",
    "    pass"
   ]
  },
  {
   "cell_type": "markdown",
   "metadata": {},
   "source": [
    "## speech to text:"
   ]
  },
  {
   "cell_type": "code",
   "execution_count": 2,
   "metadata": {},
   "outputs": [],
   "source": [
    "r = sr.Recognizer()"
   ]
  },
  {
   "cell_type": "code",
   "execution_count": 4,
   "metadata": {},
   "outputs": [
    {
     "name": "stdout",
     "output_type": "stream",
     "text": [
      "The audio file contains: the pots weren't on the ship be some of the boxes were broken in transit see the customer must pay for the damage\n"
     ]
    }
   ],
   "source": [
    "with sr.AudioFile(\"C://Users//Pc//Desktop//pfa//scripts//speech recognition//ang1.wav\") as s: \n",
    "    a = r.record(s)   \n",
    "    \n",
    "try: \n",
    "    b= r.recognize_google(a,language='en')\n",
    "    print(\"The audio file contains: \" + b);\n",
    "except:\n",
    "    print(\"erreur\")"
   ]
  },
  {
   "cell_type": "markdown",
   "metadata": {},
   "source": [
    "##  tokenize:"
   ]
  },
  {
   "cell_type": "code",
   "execution_count": 5,
   "metadata": {},
   "outputs": [
    {
     "name": "stdout",
     "output_type": "stream",
     "text": [
      "['the', 'pots', 'weren', \"'\", 't', 'on', 'the', 'ship', 'be', 'some', 'of', 'the', 'boxes', 'were', 'broken', 'in', 'transit', 'see', 'the', 'customer', 'must', 'pay', 'for', 'the', 'damage']\n"
     ]
    }
   ],
   "source": [
    "c = wordpunct_tokenize(b)    \n",
    "print(c)"
   ]
  },
  {
   "cell_type": "markdown",
   "metadata": {},
   "source": [
    "## remove noise:"
   ]
  },
  {
   "cell_type": "code",
   "execution_count": 7,
   "metadata": {},
   "outputs": [
    {
     "name": "stdout",
     "output_type": "stream",
     "text": [
      "['the', 'pots', 'weren', 't', 'on', 'the', 'ship', 'be', 'some', 'of', 'the', 'boxes', 'were', 'broken', 'in', 'transit', 'see', 'the', 'customer', 'must', 'pay', 'for', 'the', 'damage']\n"
     ]
    }
   ],
   "source": [
    "for i in range(0,len(c)):\n",
    "\tfor j in range(0, len(c[i])):\n",
    "\t\t    a1=c[i][j].upper()\n",
    "\t\t    if (65 <= ord(a1)<= 90) or (a1 in ['Â','Ê','Î','Ô','Û','Ä','Ë','Ï','Ö','Ü','À','Æ','æ','Ç','É','È','Œ','œ','Ù']):\n",
    "\t\t\t    break\n",
    "\t\t    else:\n",
    "\t\t\t    c.remove(c[i])\n",
    "print(c)"
   ]
  },
  {
   "cell_type": "markdown",
   "metadata": {},
   "source": [
    "## remove stop words: "
   ]
  },
  {
   "cell_type": "code",
   "execution_count": 22,
   "metadata": {},
   "outputs": [
    {
     "name": "stderr",
     "output_type": "stream",
     "text": [
      "[nltk_data] Downloading package stopwords to\n",
      "[nltk_data]     C:\\Users\\Pc\\AppData\\Roaming\\nltk_data...\n",
      "[nltk_data]   Package stopwords is already up-to-date!\n"
     ]
    },
    {
     "name": "stdout",
     "output_type": "stream",
     "text": [
      "choose the language French(F) or Engish(E)e\n",
      "['pot', 'ship', 'box', 'brok', 'transit', 'see', 'custom', 'must', 'pay', 'dam']\n"
     ]
    }
   ],
   "source": [
    "nltk.download('stopwords')\n",
    "l=input(\"choose the language French(F) or Engish(E)\").upper()\n",
    "if l=='F':\n",
    "    sw = list(stopwords.words('french'))\n",
    "if (l=='E'):\n",
    "    sw = list(stopwords.words('english'))\n",
    "for i in range(0, len(c)):\n",
    "        if (c[i] in sw):\n",
    "            c.remove(c[i])\n",
    "print(c)"
   ]
  },
  {
   "cell_type": "markdown",
   "metadata": {},
   "source": [
    "## steamming:"
   ]
  },
  {
   "cell_type": "code",
   "execution_count": 23,
   "metadata": {},
   "outputs": [
    {
     "name": "stdout",
     "output_type": "stream",
     "text": [
      "['pot', 'ship', 'box', 'brok', 'transit', 'see', 'custom', 'must', 'pay', 'dam']\n"
     ]
    }
   ],
   "source": [
    "porter=PorterStemmer()\n",
    "for i in range(len(c)):\n",
    "    c[i]=porter.stem(c[i])\n",
    "print(c)"
   ]
  },
  {
   "cell_type": "markdown",
   "metadata": {},
   "source": [
    "## Lemmistation:"
   ]
  },
  {
   "cell_type": "code",
   "execution_count": 24,
   "metadata": {},
   "outputs": [
    {
     "name": "stdout",
     "output_type": "stream",
     "text": [
      "['pot', 'ship', 'box', 'brok', 'transit', 'see', 'custom', 'must', 'pay', 'dam']\n"
     ]
    }
   ],
   "source": [
    "l=LancasterStemmer()\n",
    "for i in range(len(c)):\n",
    "    c[i]=l.stem(c[i])\n",
    "print(c)    "
   ]
  },
  {
   "cell_type": "code",
   "execution_count": null,
   "metadata": {},
   "outputs": [],
   "source": []
  }
 ],
 "metadata": {
  "celltoolbar": "Format de la Cellule Texte Brut",
  "kernelspec": {
   "display_name": "Python 3",
   "language": "python",
   "name": "python3"
  },
  "language_info": {
   "codemirror_mode": {
    "name": "ipython",
    "version": 3
   },
   "file_extension": ".py",
   "mimetype": "text/x-python",
   "name": "python",
   "nbconvert_exporter": "python",
   "pygments_lexer": "ipython3",
   "version": "3.7.6"
  }
 },
 "nbformat": 4,
 "nbformat_minor": 4
}
