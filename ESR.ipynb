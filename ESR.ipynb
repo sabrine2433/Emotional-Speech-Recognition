{
 "cells": [
  {
   "cell_type": "markdown",
   "id": "23f50a1f",
   "metadata": {},
   "source": [
    "##  Import"
   ]
  },
  {
   "cell_type": "code",
   "execution_count": 32,
   "id": "a2a71d9d",
   "metadata": {},
   "outputs": [],
   "source": [
    "import librosa\n",
    "import soundfile\n",
    "import os, glob, pickle\n",
    "import numpy as np\n",
    "from sklearn.model_selection import train_test_split\n",
    "from sklearn.neural_network import MLPClassifier\n",
    "from sklearn.metrics import accuracy_score\n",
    "import glob"
   ]
  },
  {
   "cell_type": "markdown",
   "id": "a87595f8",
   "metadata": {},
   "source": [
    "## Extract Features"
   ]
  },
  {
   "cell_type": "code",
   "execution_count": 3,
   "id": "b15c9f2e",
   "metadata": {},
   "outputs": [],
   "source": [
    "def extract_feature(file_name, mfcc, chroma, mel):\n",
    "    with soundfile.SoundFile(file_name) as sound_file:\n",
    "        X = sound_file.read(dtype=\"float32\")\n",
    "        sample_rate=sound_file.samplerate\n",
    "        if chroma:\n",
    "            stft=np.abs(librosa.stft(X))\n",
    "        result=np.array([])\n",
    "        if mfcc:\n",
    "            mfccs=np.mean(librosa.feature.mfcc(y=X, sr=sample_rate, n_mfcc=40).T, axis=0)\n",
    "            result=np.hstack((result, mfccs))\n",
    "        if chroma:\n",
    "            chroma=np.mean(librosa.feature.chroma_stft(S=stft, sr=sample_rate).T,axis=0)\n",
    "            result=np.hstack((result, chroma))\n",
    "        if mel:\n",
    "            mel=np.mean(librosa.feature.melspectrogram(X, sr=sample_rate).T,axis=0)\n",
    "            result=np.hstack((result, mel))\n",
    "    return result\n",
    "\n",
    "\n"
   ]
  },
  {
   "cell_type": "markdown",
   "id": "fb2c9e16",
   "metadata": {},
   "source": [
    "## RAVDESS dataset"
   ]
  },
  {
   "cell_type": "code",
   "execution_count": 4,
   "id": "ab5414e5",
   "metadata": {},
   "outputs": [],
   "source": [
    "# Emotions in the RAVDESS dataset\n",
    "emotions={\n",
    "  '01':'neutral',\n",
    "  '02':'calm',\n",
    "  '03':'happy',\n",
    "  '04':'sad',\n",
    "  '05':'angry',\n",
    "  '06':'fearful',\n",
    "  '07':'disgust',\n",
    "  '08':'surprised'\n",
    "}"
   ]
  },
  {
   "cell_type": "markdown",
   "id": "2786a127",
   "metadata": {},
   "source": [
    "## Emotions to observe"
   ]
  },
  {
   "cell_type": "code",
   "execution_count": 5,
   "id": "e2a5c3a2",
   "metadata": {},
   "outputs": [],
   "source": [
    "\n",
    "observed_emotions=['calm', 'happy', 'fearful', 'disgust']"
   ]
  },
  {
   "cell_type": "markdown",
   "id": "4df0d590",
   "metadata": {},
   "source": [
    "## Load the data and extract features for each sound file"
   ]
  },
  {
   "cell_type": "code",
   "execution_count": 39,
   "id": "fed05586",
   "metadata": {},
   "outputs": [],
   "source": [
    "def load_data(test_size=0.2):\n",
    "    x,y=[],[]\n",
    "    \n",
    "    for file in glob.glob(\"/home/sabrine/Bureau/notebook/jupyterenv/Emotional Speech Recognition/ravdess data/Actor_*/*.wav\"):\n",
    "        \n",
    "        file_name=os.path.basename(file)\n",
    "        emotion=emotions[file_name.split(\"-\")[2]]\n",
    "        print(emotion)\n",
    "        if emotion not in observed_emotions:\n",
    "            continue\n",
    "        feature=extract_feature(file, mfcc=True, chroma=True, mel=True)\n",
    "        x.append(feature)\n",
    "        y.append(emotion)\n",
    "    return train_test_split(np.array(x), y, test_size=test_size, random_state=9)"
   ]
  },
  {
   "cell_type": "markdown",
   "id": "c472e35c",
   "metadata": {},
   "source": [
    "## Split the dataset"
   ]
  },
  {
   "cell_type": "code",
   "execution_count": 40,
   "id": "fa3d142c",
   "metadata": {},
   "outputs": [
    {
     "name": "stdout",
     "output_type": "stream",
     "text": [
      "happy\n",
      "calm\n",
      "fearful\n",
      "fearful\n"
     ]
    },
    {
     "name": "stderr",
     "output_type": "stream",
     "text": [
      "/tmp/ipykernel_15993/1336662531.py:15: FutureWarning: Pass y=[0. 0. 0. ... 0. 0. 0.] as keyword args. From version 0.10 passing these as positional arguments will result in an error\n",
      "  mel=np.mean(librosa.feature.melspectrogram(X, sr=sample_rate).T,axis=0)\n",
      "/tmp/ipykernel_15993/1336662531.py:15: FutureWarning: Pass y=[ 0.0000000e+00  0.0000000e+00 -3.0517578e-05 ...  0.0000000e+00\n",
      "  0.0000000e+00  0.0000000e+00] as keyword args. From version 0.10 passing these as positional arguments will result in an error\n",
      "  mel=np.mean(librosa.feature.melspectrogram(X, sr=sample_rate).T,axis=0)\n",
      "/tmp/ipykernel_15993/1336662531.py:15: FutureWarning: Pass y=[ 0.0000000e+00 -3.0517578e-05  0.0000000e+00 ...  0.0000000e+00\n",
      "  0.0000000e+00  0.0000000e+00] as keyword args. From version 0.10 passing these as positional arguments will result in an error\n",
      "  mel=np.mean(librosa.feature.melspectrogram(X, sr=sample_rate).T,axis=0)\n",
      "/tmp/ipykernel_15993/1336662531.py:15: FutureWarning: Pass y=[3.0517578e-05 0.0000000e+00 3.0517578e-05 ... 0.0000000e+00 0.0000000e+00\n",
      " 0.0000000e+00] as keyword args. From version 0.10 passing these as positional arguments will result in an error\n",
      "  mel=np.mean(librosa.feature.melspectrogram(X, sr=sample_rate).T,axis=0)\n"
     ]
    },
    {
     "name": "stdout",
     "output_type": "stream",
     "text": [
      "angry\n",
      "angry\n",
      "angry\n",
      "fearful\n",
      "surprised\n",
      "angry\n",
      "disgust\n",
      "angry\n",
      "sad\n",
      "sad\n",
      "disgust\n",
      "neutral\n",
      "calm\n"
     ]
    },
    {
     "name": "stderr",
     "output_type": "stream",
     "text": [
      "/tmp/ipykernel_15993/1336662531.py:15: FutureWarning: Pass y=[ 0.0000000e+00  0.0000000e+00  0.0000000e+00 ... -3.0517578e-05\n",
      " -3.0517578e-05  0.0000000e+00] as keyword args. From version 0.10 passing these as positional arguments will result in an error\n",
      "  mel=np.mean(librosa.feature.melspectrogram(X, sr=sample_rate).T,axis=0)\n"
     ]
    },
    {
     "name": "stdout",
     "output_type": "stream",
     "text": [
      "happy\n",
      "sad\n",
      "disgust\n",
      "calm\n",
      "happy\n",
      "angry\n",
      "calm\n",
      "happy\n",
      "surprised\n",
      "sad\n",
      "surprised\n",
      "neutral\n",
      "happy\n",
      "disgust\n",
      "happy\n",
      "sad\n",
      "fearful\n",
      "disgust\n"
     ]
    },
    {
     "name": "stderr",
     "output_type": "stream",
     "text": [
      "/tmp/ipykernel_15993/1336662531.py:15: FutureWarning: Pass y=[-3.0517578e-05  0.0000000e+00  0.0000000e+00 ...  0.0000000e+00\n",
      "  0.0000000e+00  0.0000000e+00] as keyword args. From version 0.10 passing these as positional arguments will result in an error\n",
      "  mel=np.mean(librosa.feature.melspectrogram(X, sr=sample_rate).T,axis=0)\n",
      "/tmp/ipykernel_15993/1336662531.py:15: FutureWarning: Pass y=[3.0517578e-05 0.0000000e+00 0.0000000e+00 ... 0.0000000e+00 0.0000000e+00\n",
      " 0.0000000e+00] as keyword args. From version 0.10 passing these as positional arguments will result in an error\n",
      "  mel=np.mean(librosa.feature.melspectrogram(X, sr=sample_rate).T,axis=0)\n",
      "/tmp/ipykernel_15993/1336662531.py:15: FutureWarning: Pass y=[ 0.0000000e+00  0.0000000e+00  0.0000000e+00 ...  0.0000000e+00\n",
      " -3.0517578e-05  0.0000000e+00] as keyword args. From version 0.10 passing these as positional arguments will result in an error\n",
      "  mel=np.mean(librosa.feature.melspectrogram(X, sr=sample_rate).T,axis=0)\n"
     ]
    },
    {
     "name": "stdout",
     "output_type": "stream",
     "text": [
      "angry\n",
      "sad\n",
      "surprised\n",
      "disgust\n",
      "fearful\n",
      "happy\n",
      "fearful\n",
      "calm\n",
      "calm\n",
      "disgust\n",
      "sad\n",
      "calm\n",
      "disgust\n",
      "angry\n",
      "surprised\n",
      "sad\n",
      "neutral\n",
      "neutral\n",
      "surprised\n",
      "fearful\n",
      "calm\n",
      "fearful\n"
     ]
    },
    {
     "name": "stderr",
     "output_type": "stream",
     "text": [
      "/tmp/ipykernel_15993/1336662531.py:15: FutureWarning: Pass y=[0.0000000e+00 0.0000000e+00 0.0000000e+00 ... 3.0517578e-05 0.0000000e+00\n",
      " 0.0000000e+00] as keyword args. From version 0.10 passing these as positional arguments will result in an error\n",
      "  mel=np.mean(librosa.feature.melspectrogram(X, sr=sample_rate).T,axis=0)\n"
     ]
    },
    {
     "name": "stdout",
     "output_type": "stream",
     "text": [
      "surprised\n",
      "surprised\n",
      "happy\n",
      "fearful\n",
      "happy\n",
      "sad\n",
      "disgust\n"
     ]
    },
    {
     "name": "stderr",
     "output_type": "stream",
     "text": [
      "/tmp/ipykernel_15993/1336662531.py:15: FutureWarning: Pass y=[0.0000000e+00 0.0000000e+00 0.0000000e+00 ... 0.0000000e+00 3.0517578e-05\n",
      " 0.0000000e+00] as keyword args. From version 0.10 passing these as positional arguments will result in an error\n",
      "  mel=np.mean(librosa.feature.melspectrogram(X, sr=sample_rate).T,axis=0)\n"
     ]
    },
    {
     "name": "stdout",
     "output_type": "stream",
     "text": [
      "disgust\n",
      "surprised\n",
      "surprised\n",
      "angry\n",
      "happy\n",
      "fearful\n",
      "fearful\n",
      "angry\n",
      "sad\n",
      "disgust\n",
      "happy\n",
      "sad\n",
      "sad\n",
      "happy\n",
      "angry\n",
      "neutral\n",
      "happy\n",
      "happy\n",
      "sad\n",
      "calm\n",
      "angry\n",
      "angry\n",
      "happy\n",
      "calm\n"
     ]
    },
    {
     "name": "stderr",
     "output_type": "stream",
     "text": [
      "/tmp/ipykernel_15993/1336662531.py:15: FutureWarning: Pass y=[0.0000000e+00 0.0000000e+00 0.0000000e+00 ... 0.0000000e+00 3.0517578e-05\n",
      " 3.0517578e-05] as keyword args. From version 0.10 passing these as positional arguments will result in an error\n",
      "  mel=np.mean(librosa.feature.melspectrogram(X, sr=sample_rate).T,axis=0)\n",
      "/tmp/ipykernel_15993/1336662531.py:15: FutureWarning: Pass y=[ 0.0000000e+00  0.0000000e+00  0.0000000e+00 ... -3.0517578e-05\n",
      " -3.0517578e-05 -3.0517578e-05] as keyword args. From version 0.10 passing these as positional arguments will result in an error\n",
      "  mel=np.mean(librosa.feature.melspectrogram(X, sr=sample_rate).T,axis=0)\n"
     ]
    },
    {
     "name": "stdout",
     "output_type": "stream",
     "text": [
      "sad\n",
      "calm\n",
      "surprised\n",
      "angry\n",
      "calm\n",
      "surprised\n",
      "disgust\n"
     ]
    },
    {
     "name": "stderr",
     "output_type": "stream",
     "text": [
      "/tmp/ipykernel_15993/1336662531.py:15: FutureWarning: Pass y=[0.0000000e+00 0.0000000e+00 0.0000000e+00 ... 3.0517578e-05 3.0517578e-05\n",
      " 6.1035156e-05] as keyword args. From version 0.10 passing these as positional arguments will result in an error\n",
      "  mel=np.mean(librosa.feature.melspectrogram(X, sr=sample_rate).T,axis=0)\n",
      "/tmp/ipykernel_15993/1336662531.py:15: FutureWarning: Pass y=[0.0000000e+00 0.0000000e+00 0.0000000e+00 ... 0.0000000e+00 0.0000000e+00\n",
      " 3.0517578e-05] as keyword args. From version 0.10 passing these as positional arguments will result in an error\n",
      "  mel=np.mean(librosa.feature.melspectrogram(X, sr=sample_rate).T,axis=0)\n"
     ]
    },
    {
     "name": "stdout",
     "output_type": "stream",
     "text": [
      "fearful\n",
      "disgust\n",
      "surprised\n",
      "surprised\n",
      "fearful\n",
      "calm\n",
      "calm\n",
      "sad\n",
      "surprised\n",
      "angry\n",
      "neutral\n",
      "happy\n",
      "disgust\n",
      "fearful\n",
      "calm\n",
      "calm\n",
      "surprised\n",
      "disgust\n",
      "disgust\n",
      "sad\n",
      "fearful\n"
     ]
    },
    {
     "name": "stderr",
     "output_type": "stream",
     "text": [
      "/tmp/ipykernel_15993/1336662531.py:15: FutureWarning: Pass y=[ 0.0000000e+00  0.0000000e+00  0.0000000e+00 ... -6.1035156e-05\n",
      " -3.0517578e-05  0.0000000e+00] as keyword args. From version 0.10 passing these as positional arguments will result in an error\n",
      "  mel=np.mean(librosa.feature.melspectrogram(X, sr=sample_rate).T,axis=0)\n"
     ]
    },
    {
     "name": "stdout",
     "output_type": "stream",
     "text": [
      "angry\n",
      "fearful\n",
      "neutral\n",
      "neutral\n",
      "sad\n",
      "neutral\n",
      "neutral\n",
      "calm\n",
      "surprised\n",
      "happy\n"
     ]
    },
    {
     "name": "stderr",
     "output_type": "stream",
     "text": [
      "/tmp/ipykernel_15993/1336662531.py:15: FutureWarning: Pass y=[ 1.2207031e-04  9.1552734e-05  9.1552734e-05 ...  0.0000000e+00\n",
      "  0.0000000e+00 -3.0517578e-05] as keyword args. From version 0.10 passing these as positional arguments will result in an error\n",
      "  mel=np.mean(librosa.feature.melspectrogram(X, sr=sample_rate).T,axis=0)\n",
      "/tmp/ipykernel_15993/1336662531.py:15: FutureWarning: Pass y=[0.0000000e+00 3.0517578e-05 0.0000000e+00 ... 0.0000000e+00 0.0000000e+00\n",
      " 0.0000000e+00] as keyword args. From version 0.10 passing these as positional arguments will result in an error\n",
      "  mel=np.mean(librosa.feature.melspectrogram(X, sr=sample_rate).T,axis=0)\n",
      "/tmp/ipykernel_15993/1336662531.py:15: FutureWarning: Pass y=[ 0.0000000e+00  0.0000000e+00  0.0000000e+00 ... -9.1552734e-05\n",
      " -1.2207031e-04 -9.1552734e-05] as keyword args. From version 0.10 passing these as positional arguments will result in an error\n",
      "  mel=np.mean(librosa.feature.melspectrogram(X, sr=sample_rate).T,axis=0)\n"
     ]
    },
    {
     "name": "stdout",
     "output_type": "stream",
     "text": [
      "angry\n",
      "calm\n",
      "sad\n",
      "calm\n",
      "happy\n"
     ]
    },
    {
     "name": "stderr",
     "output_type": "stream",
     "text": [
      "/tmp/ipykernel_15993/1336662531.py:15: FutureWarning: Pass y=[ 0.0000000e+00  0.0000000e+00  0.0000000e+00 ... -9.1552734e-05\n",
      " -9.1552734e-05 -9.1552734e-05] as keyword args. From version 0.10 passing these as positional arguments will result in an error\n",
      "  mel=np.mean(librosa.feature.melspectrogram(X, sr=sample_rate).T,axis=0)\n",
      "/tmp/ipykernel_15993/1336662531.py:15: FutureWarning: Pass y=[ 0.00067139  0.00076294  0.00106812 ...  0.00344849 -0.00195312\n",
      " -0.00204468] as keyword args. From version 0.10 passing these as positional arguments will result in an error\n",
      "  mel=np.mean(librosa.feature.melspectrogram(X, sr=sample_rate).T,axis=0)\n",
      "/tmp/ipykernel_15993/1336662531.py:15: FutureWarning: Pass y=[0.         0.         0.         ... 0.00018311 0.00024414 0.00024414] as keyword args. From version 0.10 passing these as positional arguments will result in an error\n",
      "  mel=np.mean(librosa.feature.melspectrogram(X, sr=sample_rate).T,axis=0)\n"
     ]
    },
    {
     "name": "stdout",
     "output_type": "stream",
     "text": [
      "angry\n",
      "fearful\n",
      "surprised\n",
      "disgust\n"
     ]
    },
    {
     "name": "stderr",
     "output_type": "stream",
     "text": [
      "/tmp/ipykernel_15993/1336662531.py:15: FutureWarning: Pass y=[0.         0.         0.         ... 0.00018311 0.00015259 0.00018311] as keyword args. From version 0.10 passing these as positional arguments will result in an error\n",
      "  mel=np.mean(librosa.feature.melspectrogram(X, sr=sample_rate).T,axis=0)\n",
      "/tmp/ipykernel_15993/1336662531.py:15: FutureWarning: Pass y=[-3.0517578e-05 -3.0517578e-05 -3.0517578e-05 ... -8.5449219e-04\n",
      " -8.5449219e-04 -8.5449219e-04] as keyword args. From version 0.10 passing these as positional arguments will result in an error\n",
      "  mel=np.mean(librosa.feature.melspectrogram(X, sr=sample_rate).T,axis=0)\n"
     ]
    },
    {
     "name": "stdout",
     "output_type": "stream",
     "text": [
      "disgust\n",
      "surprised\n",
      "happy\n"
     ]
    },
    {
     "name": "stderr",
     "output_type": "stream",
     "text": [
      "/tmp/ipykernel_15993/1336662531.py:15: FutureWarning: Pass y=[ 0.00036621  0.00045776  0.00048828 ... -0.00021362 -0.00021362\n",
      " -0.00021362] as keyword args. From version 0.10 passing these as positional arguments will result in an error\n",
      "  mel=np.mean(librosa.feature.melspectrogram(X, sr=sample_rate).T,axis=0)\n",
      "/tmp/ipykernel_15993/1336662531.py:15: FutureWarning: Pass y=[ 0.0000000e+00  0.0000000e+00 -3.0517578e-05 ...  3.0517578e-05\n",
      "  3.0517578e-05  3.0517578e-05] as keyword args. From version 0.10 passing these as positional arguments will result in an error\n",
      "  mel=np.mean(librosa.feature.melspectrogram(X, sr=sample_rate).T,axis=0)\n",
      "/tmp/ipykernel_15993/1336662531.py:15: FutureWarning: Pass y=[ 0.0000000e+00  0.0000000e+00 -3.0517578e-05 ... -1.8310547e-04\n",
      " -1.8310547e-04 -1.8310547e-04] as keyword args. From version 0.10 passing these as positional arguments will result in an error\n",
      "  mel=np.mean(librosa.feature.melspectrogram(X, sr=sample_rate).T,axis=0)\n"
     ]
    },
    {
     "name": "stdout",
     "output_type": "stream",
     "text": [
      "calm\n",
      "sad\n",
      "surprised\n",
      "sad\n",
      "fearful\n",
      "sad\n",
      "fearful\n",
      "sad\n",
      "sad\n",
      "angry\n",
      "angry\n",
      "surprised\n",
      "calm\n",
      "fearful\n"
     ]
    },
    {
     "name": "stderr",
     "output_type": "stream",
     "text": [
      "/tmp/ipykernel_15993/1336662531.py:15: FutureWarning: Pass y=[3.0517578e-05 3.0517578e-05 3.0517578e-05 ... 9.1552734e-05 1.2207031e-04\n",
      " 9.1552734e-05] as keyword args. From version 0.10 passing these as positional arguments will result in an error\n",
      "  mel=np.mean(librosa.feature.melspectrogram(X, sr=sample_rate).T,axis=0)\n",
      "/tmp/ipykernel_15993/1336662531.py:15: FutureWarning: Pass y=[0.0000000e+00 0.0000000e+00 0.0000000e+00 ... 9.1552734e-05 9.1552734e-05\n",
      " 9.1552734e-05] as keyword args. From version 0.10 passing these as positional arguments will result in an error\n",
      "  mel=np.mean(librosa.feature.melspectrogram(X, sr=sample_rate).T,axis=0)\n",
      "/tmp/ipykernel_15993/1336662531.py:15: FutureWarning: Pass y=[ 3.0517578e-05  0.0000000e+00  0.0000000e+00 ... -6.1035156e-05\n",
      " -6.1035156e-05 -9.1552734e-05] as keyword args. From version 0.10 passing these as positional arguments will result in an error\n",
      "  mel=np.mean(librosa.feature.melspectrogram(X, sr=sample_rate).T,axis=0)\n"
     ]
    },
    {
     "name": "stdout",
     "output_type": "stream",
     "text": [
      "disgust\n",
      "disgust\n"
     ]
    },
    {
     "name": "stderr",
     "output_type": "stream",
     "text": [
      "/tmp/ipykernel_15993/1336662531.py:15: FutureWarning: Pass y=[ 0.0000000e+00 -3.0517578e-05  9.1552734e-05 ...  1.0070801e-03\n",
      "  1.1901855e-03  1.8310547e-04] as keyword args. From version 0.10 passing these as positional arguments will result in an error\n",
      "  mel=np.mean(librosa.feature.melspectrogram(X, sr=sample_rate).T,axis=0)\n",
      "/tmp/ipykernel_15993/1336662531.py:15: FutureWarning: Pass y=[0.0000000e+00 3.0517578e-05 9.1552734e-05 ... 1.2207031e-04 1.5258789e-04\n",
      " 1.8310547e-04] as keyword args. From version 0.10 passing these as positional arguments will result in an error\n",
      "  mel=np.mean(librosa.feature.melspectrogram(X, sr=sample_rate).T,axis=0)\n"
     ]
    },
    {
     "name": "stdout",
     "output_type": "stream",
     "text": [
      "surprised\n",
      "angry\n",
      "fearful\n",
      "happy\n",
      "calm\n"
     ]
    },
    {
     "name": "stderr",
     "output_type": "stream",
     "text": [
      "/tmp/ipykernel_15993/1336662531.py:15: FutureWarning: Pass y=[0.         0.         0.         ... 0.00308228 0.00311279 0.00308228] as keyword args. From version 0.10 passing these as positional arguments will result in an error\n",
      "  mel=np.mean(librosa.feature.melspectrogram(X, sr=sample_rate).T,axis=0)\n",
      "/tmp/ipykernel_15993/1336662531.py:15: FutureWarning: Pass y=[ 0.          0.          0.         ... -0.00015259 -0.00015259\n",
      " -0.00012207] as keyword args. From version 0.10 passing these as positional arguments will result in an error\n",
      "  mel=np.mean(librosa.feature.melspectrogram(X, sr=sample_rate).T,axis=0)\n",
      "/tmp/ipykernel_15993/1336662531.py:15: FutureWarning: Pass y=[-6.1035156e-05 -6.1035156e-05 -6.1035156e-05 ...  0.0000000e+00\n",
      "  0.0000000e+00  0.0000000e+00] as keyword args. From version 0.10 passing these as positional arguments will result in an error\n",
      "  mel=np.mean(librosa.feature.melspectrogram(X, sr=sample_rate).T,axis=0)\n"
     ]
    },
    {
     "name": "stdout",
     "output_type": "stream",
     "text": [
      "angry\n",
      "surprised\n",
      "disgust\n",
      "surprised\n",
      "neutral\n",
      "fearful\n"
     ]
    },
    {
     "name": "stderr",
     "output_type": "stream",
     "text": [
      "/tmp/ipykernel_15993/1336662531.py:15: FutureWarning: Pass y=[-0.00082397 -0.00079346 -0.0007019  ... -0.00094604 -0.00061035\n",
      " -0.00076294] as keyword args. From version 0.10 passing these as positional arguments will result in an error\n",
      "  mel=np.mean(librosa.feature.melspectrogram(X, sr=sample_rate).T,axis=0)\n",
      "/tmp/ipykernel_15993/1336662531.py:15: FutureWarning: Pass y=[-3.0517578e-05 -3.0517578e-05 -3.0517578e-05 ...  0.0000000e+00\n",
      "  0.0000000e+00  0.0000000e+00] as keyword args. From version 0.10 passing these as positional arguments will result in an error\n",
      "  mel=np.mean(librosa.feature.melspectrogram(X, sr=sample_rate).T,axis=0)\n",
      "/tmp/ipykernel_15993/1336662531.py:15: FutureWarning: Pass y=[0.00012207 0.00012207 0.00012207 ... 0.         0.         0.        ] as keyword args. From version 0.10 passing these as positional arguments will result in an error\n",
      "  mel=np.mean(librosa.feature.melspectrogram(X, sr=sample_rate).T,axis=0)\n"
     ]
    },
    {
     "name": "stdout",
     "output_type": "stream",
     "text": [
      "happy\n",
      "angry\n",
      "disgust\n",
      "fearful\n"
     ]
    },
    {
     "name": "stderr",
     "output_type": "stream",
     "text": [
      "/tmp/ipykernel_15993/1336662531.py:15: FutureWarning: Pass y=[-3.0517578e-05  0.0000000e+00 -3.0517578e-05 ...  2.4414062e-04\n",
      "  2.1362305e-04  1.8310547e-04] as keyword args. From version 0.10 passing these as positional arguments will result in an error\n",
      "  mel=np.mean(librosa.feature.melspectrogram(X, sr=sample_rate).T,axis=0)\n",
      "/tmp/ipykernel_15993/1336662531.py:15: FutureWarning: Pass y=[-1.2207031e-04 -1.2207031e-04 -1.2207031e-04 ...  9.1552734e-05\n",
      "  9.1552734e-05  1.2207031e-04] as keyword args. From version 0.10 passing these as positional arguments will result in an error\n",
      "  mel=np.mean(librosa.feature.melspectrogram(X, sr=sample_rate).T,axis=0)\n"
     ]
    },
    {
     "name": "stdout",
     "output_type": "stream",
     "text": [
      "sad\n",
      "happy\n",
      "disgust\n",
      "calm\n"
     ]
    },
    {
     "name": "stderr",
     "output_type": "stream",
     "text": [
      "/tmp/ipykernel_15993/1336662531.py:15: FutureWarning: Pass y=[-6.1035156e-05 -3.0517578e-05 -6.1035156e-05 ... -2.4414062e-04\n",
      " -2.4414062e-04 -2.4414062e-04] as keyword args. From version 0.10 passing these as positional arguments will result in an error\n",
      "  mel=np.mean(librosa.feature.melspectrogram(X, sr=sample_rate).T,axis=0)\n",
      "/tmp/ipykernel_15993/1336662531.py:15: FutureWarning: Pass y=[-9.1552734e-05 -9.1552734e-05 -6.1035156e-05 ... -6.7138672e-04\n",
      " -7.6293945e-04 -7.3242188e-04] as keyword args. From version 0.10 passing these as positional arguments will result in an error\n",
      "  mel=np.mean(librosa.feature.melspectrogram(X, sr=sample_rate).T,axis=0)\n",
      "/tmp/ipykernel_15993/1336662531.py:15: FutureWarning: Pass y=[ 9.1552734e-05  9.1552734e-05  9.1552734e-05 ... -9.1552734e-05\n",
      " -9.1552734e-05 -9.1552734e-05] as keyword args. From version 0.10 passing these as positional arguments will result in an error\n",
      "  mel=np.mean(librosa.feature.melspectrogram(X, sr=sample_rate).T,axis=0)\n"
     ]
    },
    {
     "name": "stdout",
     "output_type": "stream",
     "text": [
      "fearful\n",
      "disgust\n",
      "happy\n"
     ]
    },
    {
     "name": "stderr",
     "output_type": "stream",
     "text": [
      "/tmp/ipykernel_15993/1336662531.py:15: FutureWarning: Pass y=[3.0517578e-05 6.1035156e-05 0.0000000e+00 ... 9.1552734e-05 6.1035156e-05\n",
      " 6.1035156e-05] as keyword args. From version 0.10 passing these as positional arguments will result in an error\n",
      "  mel=np.mean(librosa.feature.melspectrogram(X, sr=sample_rate).T,axis=0)\n",
      "/tmp/ipykernel_15993/1336662531.py:15: FutureWarning: Pass y=[-1.2207031e-04 -1.2207031e-04 -1.2207031e-04 ...  3.0517578e-05\n",
      "  3.0517578e-05  6.1035156e-05] as keyword args. From version 0.10 passing these as positional arguments will result in an error\n",
      "  mel=np.mean(librosa.feature.melspectrogram(X, sr=sample_rate).T,axis=0)\n"
     ]
    },
    {
     "name": "stdout",
     "output_type": "stream",
     "text": [
      "angry\n",
      "happy\n",
      "calm\n"
     ]
    },
    {
     "name": "stderr",
     "output_type": "stream",
     "text": [
      "/tmp/ipykernel_15993/1336662531.py:15: FutureWarning: Pass y=[ 0.          0.          0.         ... -0.00024414 -0.00024414\n",
      " -0.00021362] as keyword args. From version 0.10 passing these as positional arguments will result in an error\n",
      "  mel=np.mean(librosa.feature.melspectrogram(X, sr=sample_rate).T,axis=0)\n",
      "/tmp/ipykernel_15993/1336662531.py:15: FutureWarning: Pass y=[ 3.0517578e-05  0.0000000e+00  0.0000000e+00 ... -1.8310547e-04\n",
      " -1.8310547e-04 -1.2207031e-04] as keyword args. From version 0.10 passing these as positional arguments will result in an error\n",
      "  mel=np.mean(librosa.feature.melspectrogram(X, sr=sample_rate).T,axis=0)\n"
     ]
    },
    {
     "name": "stdout",
     "output_type": "stream",
     "text": [
      "neutral\n",
      "neutral\n",
      "fearful\n",
      "surprised\n",
      "sad\n",
      "disgust\n",
      "disgust\n"
     ]
    },
    {
     "name": "stderr",
     "output_type": "stream",
     "text": [
      "/tmp/ipykernel_15993/1336662531.py:15: FutureWarning: Pass y=[0.00018311 0.00018311 0.00021362 ... 0.         0.         0.        ] as keyword args. From version 0.10 passing these as positional arguments will result in an error\n",
      "  mel=np.mean(librosa.feature.melspectrogram(X, sr=sample_rate).T,axis=0)\n",
      "/tmp/ipykernel_15993/1336662531.py:15: FutureWarning: Pass y=[-0.00021362 -0.00021362 -0.00018311 ...  0.00015259  0.00012207\n",
      "  0.00012207] as keyword args. From version 0.10 passing these as positional arguments will result in an error\n",
      "  mel=np.mean(librosa.feature.melspectrogram(X, sr=sample_rate).T,axis=0)\n",
      "/tmp/ipykernel_15993/1336662531.py:15: FutureWarning: Pass y=[1.2207031e-04 9.1552734e-05 9.1552734e-05 ... 0.0000000e+00 0.0000000e+00\n",
      " 0.0000000e+00] as keyword args. From version 0.10 passing these as positional arguments will result in an error\n",
      "  mel=np.mean(librosa.feature.melspectrogram(X, sr=sample_rate).T,axis=0)\n"
     ]
    },
    {
     "name": "stdout",
     "output_type": "stream",
     "text": [
      "neutral\n",
      "fearful\n",
      "calm\n",
      "happy\n"
     ]
    },
    {
     "name": "stderr",
     "output_type": "stream",
     "text": [
      "/tmp/ipykernel_15993/1336662531.py:15: FutureWarning: Pass y=[-9.1552734e-05 -9.1552734e-05 -9.1552734e-05 ... -3.0517578e-05\n",
      " -6.1035156e-05 -6.1035156e-05] as keyword args. From version 0.10 passing these as positional arguments will result in an error\n",
      "  mel=np.mean(librosa.feature.melspectrogram(X, sr=sample_rate).T,axis=0)\n",
      "/tmp/ipykernel_15993/1336662531.py:15: FutureWarning: Pass y=[-9.1552734e-05 -6.1035156e-05 -6.1035156e-05 ...  6.1035156e-05\n",
      "  3.0517578e-05 -6.1035156e-05] as keyword args. From version 0.10 passing these as positional arguments will result in an error\n",
      "  mel=np.mean(librosa.feature.melspectrogram(X, sr=sample_rate).T,axis=0)\n"
     ]
    },
    {
     "name": "stdout",
     "output_type": "stream",
     "text": [
      "sad\n",
      "calm\n",
      "calm\n"
     ]
    },
    {
     "name": "stderr",
     "output_type": "stream",
     "text": [
      "/tmp/ipykernel_15993/1336662531.py:15: FutureWarning: Pass y=[6.1035156e-05 3.0517578e-05 3.0517578e-05 ... 0.0000000e+00 0.0000000e+00\n",
      " 0.0000000e+00] as keyword args. From version 0.10 passing these as positional arguments will result in an error\n",
      "  mel=np.mean(librosa.feature.melspectrogram(X, sr=sample_rate).T,axis=0)\n",
      "/tmp/ipykernel_15993/1336662531.py:15: FutureWarning: Pass y=[0.00015259 0.00015259 0.00015259 ... 0.         0.         0.        ] as keyword args. From version 0.10 passing these as positional arguments will result in an error\n",
      "  mel=np.mean(librosa.feature.melspectrogram(X, sr=sample_rate).T,axis=0)\n",
      "/tmp/ipykernel_15993/1336662531.py:15: FutureWarning: Pass y=[-1.2207031e-04 -1.2207031e-04 -1.2207031e-04 ...  3.0517578e-05\n",
      "  6.1035156e-05  3.0517578e-05] as keyword args. From version 0.10 passing these as positional arguments will result in an error\n",
      "  mel=np.mean(librosa.feature.melspectrogram(X, sr=sample_rate).T,axis=0)\n"
     ]
    },
    {
     "name": "stdout",
     "output_type": "stream",
     "text": [
      "fearful\n",
      "angry\n",
      "happy\n",
      "fearful\n"
     ]
    },
    {
     "name": "stderr",
     "output_type": "stream",
     "text": [
      "/tmp/ipykernel_15993/1336662531.py:15: FutureWarning: Pass y=[ 6.1035156e-05  6.1035156e-05  3.0517578e-05 ... -1.5258789e-04\n",
      " -1.2207031e-04 -1.5258789e-04] as keyword args. From version 0.10 passing these as positional arguments will result in an error\n",
      "  mel=np.mean(librosa.feature.melspectrogram(X, sr=sample_rate).T,axis=0)\n",
      "/tmp/ipykernel_15993/1336662531.py:15: FutureWarning: Pass y=[ 6.1035156e-05  6.1035156e-05  6.1035156e-05 ... -6.9274902e-03\n",
      " -6.9580078e-03 -6.9274902e-03] as keyword args. From version 0.10 passing these as positional arguments will result in an error\n",
      "  mel=np.mean(librosa.feature.melspectrogram(X, sr=sample_rate).T,axis=0)\n",
      "/tmp/ipykernel_15993/1336662531.py:15: FutureWarning: Pass y=[ 0.0000000e+00 -3.0517578e-05 -3.0517578e-05 ...  3.0517578e-05\n",
      "  3.0517578e-05  6.1035156e-05] as keyword args. From version 0.10 passing these as positional arguments will result in an error\n",
      "  mel=np.mean(librosa.feature.melspectrogram(X, sr=sample_rate).T,axis=0)\n",
      "/tmp/ipykernel_15993/1336662531.py:15: FutureWarning: Pass y=[-3.0517578e-05 -3.0517578e-05 -6.1035156e-05 ... -1.2207031e-04\n",
      "  6.4086914e-04  2.4414062e-04] as keyword args. From version 0.10 passing these as positional arguments will result in an error\n",
      "  mel=np.mean(librosa.feature.melspectrogram(X, sr=sample_rate).T,axis=0)\n"
     ]
    },
    {
     "name": "stdout",
     "output_type": "stream",
     "text": [
      "sad\n",
      "happy\n",
      "disgust\n",
      "fearful\n",
      "neutral\n",
      "sad\n",
      "disgust\n"
     ]
    },
    {
     "name": "stderr",
     "output_type": "stream",
     "text": [
      "/tmp/ipykernel_15993/1336662531.py:15: FutureWarning: Pass y=[ 0.00018311  0.00018311  0.00015259 ... -0.00189209 -0.00192261\n",
      " -0.00195312] as keyword args. From version 0.10 passing these as positional arguments will result in an error\n",
      "  mel=np.mean(librosa.feature.melspectrogram(X, sr=sample_rate).T,axis=0)\n",
      "/tmp/ipykernel_15993/1336662531.py:15: FutureWarning: Pass y=[0.0000000e+00 0.0000000e+00 0.0000000e+00 ... 6.1035156e-05 3.0517578e-05\n",
      " 6.1035156e-05] as keyword args. From version 0.10 passing these as positional arguments will result in an error\n",
      "  mel=np.mean(librosa.feature.melspectrogram(X, sr=sample_rate).T,axis=0)\n",
      "/tmp/ipykernel_15993/1336662531.py:15: FutureWarning: Pass y=[0.0000000e+00 0.0000000e+00 3.0517578e-05 ... 0.0000000e+00 0.0000000e+00\n",
      " 0.0000000e+00] as keyword args. From version 0.10 passing these as positional arguments will result in an error\n",
      "  mel=np.mean(librosa.feature.melspectrogram(X, sr=sample_rate).T,axis=0)\n"
     ]
    },
    {
     "name": "stdout",
     "output_type": "stream",
     "text": [
      "fearful\n",
      "angry\n",
      "surprised\n",
      "disgust\n"
     ]
    },
    {
     "name": "stderr",
     "output_type": "stream",
     "text": [
      "/tmp/ipykernel_15993/1336662531.py:15: FutureWarning: Pass y=[ 0.0000000e+00  0.0000000e+00  0.0000000e+00 ... -1.2207031e-04\n",
      " -9.1552734e-05 -1.2207031e-04] as keyword args. From version 0.10 passing these as positional arguments will result in an error\n",
      "  mel=np.mean(librosa.feature.melspectrogram(X, sr=sample_rate).T,axis=0)\n",
      "/tmp/ipykernel_15993/1336662531.py:15: FutureWarning: Pass y=[-6.1035156e-05 -6.1035156e-05 -6.1035156e-05 ...  1.2207031e-04\n",
      "  1.2207031e-04  1.2207031e-04] as keyword args. From version 0.10 passing these as positional arguments will result in an error\n",
      "  mel=np.mean(librosa.feature.melspectrogram(X, sr=sample_rate).T,axis=0)\n"
     ]
    },
    {
     "name": "stdout",
     "output_type": "stream",
     "text": [
      "surprised\n",
      "neutral\n",
      "sad\n",
      "angry\n",
      "calm\n",
      "angry\n",
      "angry\n",
      "calm\n"
     ]
    },
    {
     "name": "stderr",
     "output_type": "stream",
     "text": [
      "/tmp/ipykernel_15993/1336662531.py:15: FutureWarning: Pass y=[-1.5258789e-04 -1.5258789e-04 -1.5258789e-04 ... -1.2207031e-04\n",
      " -1.2207031e-04 -9.1552734e-05] as keyword args. From version 0.10 passing these as positional arguments will result in an error\n",
      "  mel=np.mean(librosa.feature.melspectrogram(X, sr=sample_rate).T,axis=0)\n",
      "/tmp/ipykernel_15993/1336662531.py:15: FutureWarning: Pass y=[6.1035156e-05 6.1035156e-05 6.1035156e-05 ... 9.1552734e-05 6.1035156e-05\n",
      " 6.1035156e-05] as keyword args. From version 0.10 passing these as positional arguments will result in an error\n",
      "  mel=np.mean(librosa.feature.melspectrogram(X, sr=sample_rate).T,axis=0)\n"
     ]
    },
    {
     "name": "stdout",
     "output_type": "stream",
     "text": [
      "surprised\n",
      "happy\n",
      "happy\n"
     ]
    },
    {
     "name": "stderr",
     "output_type": "stream",
     "text": [
      "/tmp/ipykernel_15993/1336662531.py:15: FutureWarning: Pass y=[3.0517578e-05 6.1035156e-05 3.0517578e-05 ... 0.0000000e+00 0.0000000e+00\n",
      " 0.0000000e+00] as keyword args. From version 0.10 passing these as positional arguments will result in an error\n",
      "  mel=np.mean(librosa.feature.melspectrogram(X, sr=sample_rate).T,axis=0)\n",
      "/tmp/ipykernel_15993/1336662531.py:15: FutureWarning: Pass y=[-1.5258789e-04 -1.5258789e-04 -1.5258789e-04 ... -3.0517578e-05\n",
      "  0.0000000e+00  0.0000000e+00] as keyword args. From version 0.10 passing these as positional arguments will result in an error\n",
      "  mel=np.mean(librosa.feature.melspectrogram(X, sr=sample_rate).T,axis=0)\n"
     ]
    },
    {
     "name": "stdout",
     "output_type": "stream",
     "text": [
      "surprised\n",
      "fearful\n",
      "surprised\n",
      "sad\n",
      "sad\n",
      "surprised\n",
      "happy\n"
     ]
    },
    {
     "name": "stderr",
     "output_type": "stream",
     "text": [
      "/tmp/ipykernel_15993/1336662531.py:15: FutureWarning: Pass y=[-6.1035156e-05 -3.0517578e-05 -6.1035156e-05 ... -2.7465820e-04\n",
      " -2.1362305e-04 -1.5258789e-04] as keyword args. From version 0.10 passing these as positional arguments will result in an error\n",
      "  mel=np.mean(librosa.feature.melspectrogram(X, sr=sample_rate).T,axis=0)\n",
      "/tmp/ipykernel_15993/1336662531.py:15: FutureWarning: Pass y=[-1.8310547e-04 -2.1362305e-04 -1.8310547e-04 ...  3.0517578e-05\n",
      "  3.0517578e-05  3.0517578e-05] as keyword args. From version 0.10 passing these as positional arguments will result in an error\n",
      "  mel=np.mean(librosa.feature.melspectrogram(X, sr=sample_rate).T,axis=0)\n"
     ]
    },
    {
     "name": "stdout",
     "output_type": "stream",
     "text": [
      "surprised\n",
      "calm\n",
      "happy\n"
     ]
    },
    {
     "name": "stderr",
     "output_type": "stream",
     "text": [
      "/tmp/ipykernel_15993/1336662531.py:15: FutureWarning: Pass y=[ 6.1035156e-05  6.1035156e-05  3.0517578e-05 ...  0.0000000e+00\n",
      "  0.0000000e+00 -3.0517578e-05] as keyword args. From version 0.10 passing these as positional arguments will result in an error\n",
      "  mel=np.mean(librosa.feature.melspectrogram(X, sr=sample_rate).T,axis=0)\n",
      "/tmp/ipykernel_15993/1336662531.py:15: FutureWarning: Pass y=[ 1.5258789e-04  1.5258789e-04  1.2207031e-04 ... -9.1552734e-05\n",
      " -6.1035156e-05  0.0000000e+00] as keyword args. From version 0.10 passing these as positional arguments will result in an error\n",
      "  mel=np.mean(librosa.feature.melspectrogram(X, sr=sample_rate).T,axis=0)\n",
      "/tmp/ipykernel_15993/1336662531.py:15: FutureWarning: Pass y=[-6.1035156e-05 -6.1035156e-05 -9.1552734e-05 ... -6.1035156e-05\n",
      " -6.1035156e-05 -6.1035156e-05] as keyword args. From version 0.10 passing these as positional arguments will result in an error\n",
      "  mel=np.mean(librosa.feature.melspectrogram(X, sr=sample_rate).T,axis=0)\n"
     ]
    },
    {
     "name": "stdout",
     "output_type": "stream",
     "text": [
      "angry\n",
      "fearful\n",
      "disgust\n",
      "disgust\n"
     ]
    },
    {
     "name": "stderr",
     "output_type": "stream",
     "text": [
      "/tmp/ipykernel_15993/1336662531.py:15: FutureWarning: Pass y=[ 6.1035156e-05  6.1035156e-05  6.1035156e-05 ... -6.1035156e-05\n",
      " -3.0517578e-05 -6.1035156e-05] as keyword args. From version 0.10 passing these as positional arguments will result in an error\n",
      "  mel=np.mean(librosa.feature.melspectrogram(X, sr=sample_rate).T,axis=0)\n",
      "/tmp/ipykernel_15993/1336662531.py:15: FutureWarning: Pass y=[0.0000000e+00 0.0000000e+00 0.0000000e+00 ... 3.0517578e-05 3.0517578e-05\n",
      " 3.0517578e-05] as keyword args. From version 0.10 passing these as positional arguments will result in an error\n",
      "  mel=np.mean(librosa.feature.melspectrogram(X, sr=sample_rate).T,axis=0)\n"
     ]
    },
    {
     "name": "stdout",
     "output_type": "stream",
     "text": [
      "calm\n",
      "disgust\n",
      "calm\n",
      "happy\n",
      "angry\n",
      "angry\n",
      "sad\n",
      "fearful\n",
      "surprised\n",
      "disgust\n"
     ]
    },
    {
     "name": "stderr",
     "output_type": "stream",
     "text": [
      "/tmp/ipykernel_15993/1336662531.py:15: FutureWarning: Pass y=[ 9.1552734e-05  9.1552734e-05  9.1552734e-05 ... -3.6621094e-04\n",
      " -3.6621094e-04 -3.6621094e-04] as keyword args. From version 0.10 passing these as positional arguments will result in an error\n",
      "  mel=np.mean(librosa.feature.melspectrogram(X, sr=sample_rate).T,axis=0)\n"
     ]
    },
    {
     "name": "stdout",
     "output_type": "stream",
     "text": [
      "angry\n",
      "fearful\n",
      "surprised\n",
      "calm\n",
      "calm\n",
      "happy\n",
      "neutral\n",
      "surprised\n",
      "angry\n",
      "surprised\n",
      "neutral\n",
      "neutral\n",
      "sad\n",
      "sad\n",
      "calm\n",
      "calm\n",
      "calm\n",
      "happy\n",
      "sad\n",
      "happy\n",
      "calm\n",
      "fearful\n",
      "happy\n",
      "angry\n",
      "disgust\n",
      "disgust\n",
      "neutral\n",
      "disgust\n",
      "surprised\n",
      "fearful\n",
      "happy\n",
      "fearful\n",
      "surprised\n",
      "happy\n",
      "angry\n",
      "angry\n",
      "disgust\n",
      "sad\n",
      "angry\n",
      "sad\n",
      "surprised\n",
      "fearful\n",
      "angry\n",
      "disgust\n",
      "disgust\n",
      "fearful\n",
      "sad\n",
      "happy\n",
      "fearful\n",
      "surprised\n",
      "sad\n",
      "calm\n"
     ]
    },
    {
     "name": "stderr",
     "output_type": "stream",
     "text": [
      "/tmp/ipykernel_15993/1336662531.py:15: FutureWarning: Pass y=[0.00033569 0.00015259 0.00021362 ... 0.         0.         0.        ] as keyword args. From version 0.10 passing these as positional arguments will result in an error\n",
      "  mel=np.mean(librosa.feature.melspectrogram(X, sr=sample_rate).T,axis=0)\n"
     ]
    },
    {
     "name": "stdout",
     "output_type": "stream",
     "text": [
      "angry\n",
      "sad\n",
      "happy\n",
      "calm\n",
      "disgust\n",
      "fearful\n",
      "disgust\n",
      "surprised\n",
      "calm\n",
      "neutral\n",
      "surprised\n",
      "calm\n"
     ]
    },
    {
     "name": "stderr",
     "output_type": "stream",
     "text": [
      "/tmp/ipykernel_15993/1336662531.py:15: FutureWarning: Pass y=[ 0.0000000e+00  0.0000000e+00  0.0000000e+00 ... -6.1035156e-05\n",
      " -3.0517578e-05 -3.0517578e-05] as keyword args. From version 0.10 passing these as positional arguments will result in an error\n",
      "  mel=np.mean(librosa.feature.melspectrogram(X, sr=sample_rate).T,axis=0)\n",
      "/tmp/ipykernel_15993/1336662531.py:15: FutureWarning: Pass y=[ 0.0000000e+00  3.0517578e-05  3.0517578e-05 ... -3.0517578e-05\n",
      " -3.0517578e-05 -6.1035156e-05] as keyword args. From version 0.10 passing these as positional arguments will result in an error\n",
      "  mel=np.mean(librosa.feature.melspectrogram(X, sr=sample_rate).T,axis=0)\n"
     ]
    },
    {
     "name": "stdout",
     "output_type": "stream",
     "text": [
      "calm\n",
      "calm\n",
      "disgust\n"
     ]
    },
    {
     "name": "stderr",
     "output_type": "stream",
     "text": [
      "/tmp/ipykernel_15993/1336662531.py:15: FutureWarning: Pass y=[0.0000000e+00 0.0000000e+00 0.0000000e+00 ... 6.1035156e-05 9.1552734e-05\n",
      " 6.1035156e-05] as keyword args. From version 0.10 passing these as positional arguments will result in an error\n",
      "  mel=np.mean(librosa.feature.melspectrogram(X, sr=sample_rate).T,axis=0)\n",
      "/tmp/ipykernel_15993/1336662531.py:15: FutureWarning: Pass y=[ 7.6293945e-04 -3.0517578e-05  0.0000000e+00 ... -1.2207031e-04\n",
      " -1.5258789e-04 -1.2207031e-04] as keyword args. From version 0.10 passing these as positional arguments will result in an error\n",
      "  mel=np.mean(librosa.feature.melspectrogram(X, sr=sample_rate).T,axis=0)\n"
     ]
    },
    {
     "name": "stdout",
     "output_type": "stream",
     "text": [
      "surprised\n",
      "fearful\n",
      "fearful\n",
      "calm\n",
      "calm\n",
      "sad\n",
      "angry\n",
      "fearful\n",
      "angry\n",
      "surprised\n",
      "sad\n",
      "neutral\n",
      "disgust\n",
      "surprised\n",
      "fearful\n",
      "sad\n",
      "happy\n"
     ]
    },
    {
     "name": "stderr",
     "output_type": "stream",
     "text": [
      "/tmp/ipykernel_15993/1336662531.py:15: FutureWarning: Pass y=[-3.0517578e-05 -6.1035156e-05 -3.0517578e-05 ...  3.0517578e-05\n",
      "  0.0000000e+00  0.0000000e+00] as keyword args. From version 0.10 passing these as positional arguments will result in an error\n",
      "  mel=np.mean(librosa.feature.melspectrogram(X, sr=sample_rate).T,axis=0)\n",
      "/tmp/ipykernel_15993/1336662531.py:15: FutureWarning: Pass y=[-3.0517578e-05 -3.0517578e-05  0.0000000e+00 ...  0.0000000e+00\n",
      "  0.0000000e+00  0.0000000e+00] as keyword args. From version 0.10 passing these as positional arguments will result in an error\n",
      "  mel=np.mean(librosa.feature.melspectrogram(X, sr=sample_rate).T,axis=0)\n",
      "/tmp/ipykernel_15993/1336662531.py:15: FutureWarning: Pass y=[-3.0517578e-05 -3.0517578e-05 -3.0517578e-05 ...  3.0517578e-05\n",
      "  6.1035156e-05  6.1035156e-05] as keyword args. From version 0.10 passing these as positional arguments will result in an error\n",
      "  mel=np.mean(librosa.feature.melspectrogram(X, sr=sample_rate).T,axis=0)\n",
      "/tmp/ipykernel_15993/1336662531.py:15: FutureWarning: Pass y=[3.0517578e-05 3.0517578e-05 3.0517578e-05 ... 0.0000000e+00 0.0000000e+00\n",
      " 0.0000000e+00] as keyword args. From version 0.10 passing these as positional arguments will result in an error\n",
      "  mel=np.mean(librosa.feature.melspectrogram(X, sr=sample_rate).T,axis=0)\n"
     ]
    },
    {
     "name": "stdout",
     "output_type": "stream",
     "text": [
      "surprised\n",
      "happy\n",
      "angry\n",
      "disgust\n"
     ]
    },
    {
     "name": "stderr",
     "output_type": "stream",
     "text": [
      "/tmp/ipykernel_15993/1336662531.py:15: FutureWarning: Pass y=[-3.0517578e-05 -6.1035156e-05 -3.0517578e-05 ...  9.1552734e-05\n",
      "  1.2207031e-04  9.1552734e-05] as keyword args. From version 0.10 passing these as positional arguments will result in an error\n",
      "  mel=np.mean(librosa.feature.melspectrogram(X, sr=sample_rate).T,axis=0)\n"
     ]
    },
    {
     "name": "stdout",
     "output_type": "stream",
     "text": [
      "sad\n",
      "disgust\n",
      "angry\n",
      "happy\n",
      "neutral\n",
      "happy\n",
      "happy\n",
      "disgust\n",
      "happy\n",
      "calm\n"
     ]
    },
    {
     "name": "stderr",
     "output_type": "stream",
     "text": [
      "/tmp/ipykernel_15993/1336662531.py:15: FutureWarning: Pass y=[0.0000000e+00 0.0000000e+00 0.0000000e+00 ... 3.0517578e-05 6.1035156e-05\n",
      " 9.1552734e-05] as keyword args. From version 0.10 passing these as positional arguments will result in an error\n",
      "  mel=np.mean(librosa.feature.melspectrogram(X, sr=sample_rate).T,axis=0)\n",
      "/tmp/ipykernel_15993/1336662531.py:15: FutureWarning: Pass y=[ 0.0000000e+00  0.0000000e+00  0.0000000e+00 ... -3.0517578e-05\n",
      " -6.1035156e-05 -3.0517578e-05] as keyword args. From version 0.10 passing these as positional arguments will result in an error\n",
      "  mel=np.mean(librosa.feature.melspectrogram(X, sr=sample_rate).T,axis=0)\n"
     ]
    },
    {
     "name": "stdout",
     "output_type": "stream",
     "text": [
      "sad\n",
      "surprised\n",
      "surprised\n",
      "sad\n",
      "angry\n",
      "disgust\n",
      "neutral\n",
      "happy\n",
      "sad\n",
      "calm\n"
     ]
    },
    {
     "name": "stderr",
     "output_type": "stream",
     "text": [
      "/tmp/ipykernel_15993/1336662531.py:15: FutureWarning: Pass y=[-3.0517578e-05 -3.0517578e-05 -3.0517578e-05 ...  0.0000000e+00\n",
      " -3.0517578e-05  0.0000000e+00] as keyword args. From version 0.10 passing these as positional arguments will result in an error\n",
      "  mel=np.mean(librosa.feature.melspectrogram(X, sr=sample_rate).T,axis=0)\n",
      "/tmp/ipykernel_15993/1336662531.py:15: FutureWarning: Pass y=[-1.5258789e-04 -1.5258789e-04 -1.5258789e-04 ...  0.0000000e+00\n",
      "  3.0517578e-05  3.0517578e-05] as keyword args. From version 0.10 passing these as positional arguments will result in an error\n",
      "  mel=np.mean(librosa.feature.melspectrogram(X, sr=sample_rate).T,axis=0)\n",
      "/tmp/ipykernel_15993/1336662531.py:15: FutureWarning: Pass y=[6.1035156e-05 6.1035156e-05 6.1035156e-05 ... 0.0000000e+00 0.0000000e+00\n",
      " 0.0000000e+00] as keyword args. From version 0.10 passing these as positional arguments will result in an error\n",
      "  mel=np.mean(librosa.feature.melspectrogram(X, sr=sample_rate).T,axis=0)\n"
     ]
    },
    {
     "name": "stdout",
     "output_type": "stream",
     "text": [
      "fearful\n",
      "fearful\n",
      "angry\n",
      "disgust\n"
     ]
    },
    {
     "name": "stderr",
     "output_type": "stream",
     "text": [
      "/tmp/ipykernel_15993/1336662531.py:15: FutureWarning: Pass y=[ 0.0000000e+00  0.0000000e+00  0.0000000e+00 ... -6.1035156e-05\n",
      " -6.1035156e-05 -6.1035156e-05] as keyword args. From version 0.10 passing these as positional arguments will result in an error\n",
      "  mel=np.mean(librosa.feature.melspectrogram(X, sr=sample_rate).T,axis=0)\n",
      "/tmp/ipykernel_15993/1336662531.py:15: FutureWarning: Pass y=[-2.4414062e-04 -2.4414062e-04 -2.4414062e-04 ...  6.1035156e-05\n",
      "  3.0517578e-05  3.0517578e-05] as keyword args. From version 0.10 passing these as positional arguments will result in an error\n",
      "  mel=np.mean(librosa.feature.melspectrogram(X, sr=sample_rate).T,axis=0)\n"
     ]
    },
    {
     "name": "stdout",
     "output_type": "stream",
     "text": [
      "sad\n",
      "angry\n",
      "happy\n",
      "fearful\n",
      "angry\n",
      "disgust\n"
     ]
    },
    {
     "name": "stderr",
     "output_type": "stream",
     "text": [
      "/tmp/ipykernel_15993/1336662531.py:15: FutureWarning: Pass y=[ 0.0000000e+00 -3.0517578e-05 -1.2207031e-04 ... -3.0517578e-05\n",
      " -6.1035156e-05 -3.0517578e-05] as keyword args. From version 0.10 passing these as positional arguments will result in an error\n",
      "  mel=np.mean(librosa.feature.melspectrogram(X, sr=sample_rate).T,axis=0)\n",
      "/tmp/ipykernel_15993/1336662531.py:15: FutureWarning: Pass y=[ 0.0000000e+00  3.0517578e-05  3.0517578e-05 ... -1.8310547e-04\n",
      " -1.2207031e-04 -1.8310547e-04] as keyword args. From version 0.10 passing these as positional arguments will result in an error\n",
      "  mel=np.mean(librosa.feature.melspectrogram(X, sr=sample_rate).T,axis=0)\n"
     ]
    },
    {
     "name": "stdout",
     "output_type": "stream",
     "text": [
      "calm\n",
      "sad\n",
      "surprised\n",
      "fearful\n",
      "disgust\n"
     ]
    },
    {
     "name": "stderr",
     "output_type": "stream",
     "text": [
      "/tmp/ipykernel_15993/1336662531.py:15: FutureWarning: Pass y=[-9.1552734e-05 -9.1552734e-05 -1.2207031e-04 ...  0.0000000e+00\n",
      "  0.0000000e+00  0.0000000e+00] as keyword args. From version 0.10 passing these as positional arguments will result in an error\n",
      "  mel=np.mean(librosa.feature.melspectrogram(X, sr=sample_rate).T,axis=0)\n",
      "/tmp/ipykernel_15993/1336662531.py:15: FutureWarning: Pass y=[ 1.2207031e-04  1.2207031e-04  1.2207031e-04 ... -9.1552734e-05\n",
      " -9.1552734e-05 -9.1552734e-05] as keyword args. From version 0.10 passing these as positional arguments will result in an error\n",
      "  mel=np.mean(librosa.feature.melspectrogram(X, sr=sample_rate).T,axis=0)\n"
     ]
    },
    {
     "name": "stdout",
     "output_type": "stream",
     "text": [
      "calm\n",
      "calm\n"
     ]
    },
    {
     "name": "stderr",
     "output_type": "stream",
     "text": [
      "/tmp/ipykernel_15993/1336662531.py:15: FutureWarning: Pass y=[6.1035156e-05 9.1552734e-05 6.1035156e-05 ... 3.0517578e-05 6.1035156e-05\n",
      " 6.1035156e-05] as keyword args. From version 0.10 passing these as positional arguments will result in an error\n",
      "  mel=np.mean(librosa.feature.melspectrogram(X, sr=sample_rate).T,axis=0)\n",
      "/tmp/ipykernel_15993/1336662531.py:15: FutureWarning: Pass y=[ 0.0000000e+00  0.0000000e+00  0.0000000e+00 ... -3.0517578e-05\n",
      "  0.0000000e+00 -3.0517578e-05] as keyword args. From version 0.10 passing these as positional arguments will result in an error\n",
      "  mel=np.mean(librosa.feature.melspectrogram(X, sr=sample_rate).T,axis=0)\n"
     ]
    },
    {
     "name": "stdout",
     "output_type": "stream",
     "text": [
      "neutral\n",
      "surprised\n",
      "fearful\n",
      "disgust\n"
     ]
    },
    {
     "name": "stderr",
     "output_type": "stream",
     "text": [
      "/tmp/ipykernel_15993/1336662531.py:15: FutureWarning: Pass y=[-3.0517578e-05 -3.0517578e-05 -3.0517578e-05 ... -1.5258789e-04\n",
      " -1.2207031e-04 -1.2207031e-04] as keyword args. From version 0.10 passing these as positional arguments will result in an error\n",
      "  mel=np.mean(librosa.feature.melspectrogram(X, sr=sample_rate).T,axis=0)\n",
      "/tmp/ipykernel_15993/1336662531.py:15: FutureWarning: Pass y=[ 0.00018311  0.00018311  0.00018311 ... -0.00015259 -0.00015259\n",
      " -0.00018311] as keyword args. From version 0.10 passing these as positional arguments will result in an error\n",
      "  mel=np.mean(librosa.feature.melspectrogram(X, sr=sample_rate).T,axis=0)\n"
     ]
    },
    {
     "name": "stdout",
     "output_type": "stream",
     "text": [
      "sad\n",
      "angry\n",
      "calm\n",
      "angry\n",
      "neutral\n",
      "calm\n",
      "disgust\n",
      "sad\n",
      "happy\n"
     ]
    },
    {
     "name": "stderr",
     "output_type": "stream",
     "text": [
      "/tmp/ipykernel_15993/1336662531.py:15: FutureWarning: Pass y=[3.0517578e-05 3.0517578e-05 6.1035156e-05 ... 3.0517578e-05 0.0000000e+00\n",
      " 3.0517578e-05] as keyword args. From version 0.10 passing these as positional arguments will result in an error\n",
      "  mel=np.mean(librosa.feature.melspectrogram(X, sr=sample_rate).T,axis=0)\n",
      "/tmp/ipykernel_15993/1336662531.py:15: FutureWarning: Pass y=[ 0.0000000e+00  3.0517578e-05  3.0517578e-05 ... -3.0517578e-05\n",
      " -3.0517578e-05 -3.0517578e-05] as keyword args. From version 0.10 passing these as positional arguments will result in an error\n",
      "  mel=np.mean(librosa.feature.melspectrogram(X, sr=sample_rate).T,axis=0)\n",
      "/tmp/ipykernel_15993/1336662531.py:15: FutureWarning: Pass y=[6.1035156e-05 9.1552734e-05 1.2207031e-04 ... 3.3569336e-04 2.4414062e-04\n",
      " 2.7465820e-04] as keyword args. From version 0.10 passing these as positional arguments will result in an error\n",
      "  mel=np.mean(librosa.feature.melspectrogram(X, sr=sample_rate).T,axis=0)\n"
     ]
    },
    {
     "name": "stdout",
     "output_type": "stream",
     "text": [
      "surprised\n",
      "sad\n",
      "fearful\n",
      "fearful\n",
      "fearful\n"
     ]
    },
    {
     "name": "stderr",
     "output_type": "stream",
     "text": [
      "/tmp/ipykernel_15993/1336662531.py:15: FutureWarning: Pass y=[-1.5258789e-04 -9.1552734e-05  6.1035156e-05 ...  9.1552734e-05\n",
      "  9.1552734e-05  6.1035156e-05] as keyword args. From version 0.10 passing these as positional arguments will result in an error\n",
      "  mel=np.mean(librosa.feature.melspectrogram(X, sr=sample_rate).T,axis=0)\n",
      "/tmp/ipykernel_15993/1336662531.py:15: FutureWarning: Pass y=[0.0000000e+00 0.0000000e+00 3.0517578e-05 ... 3.0517578e-05 3.0517578e-05\n",
      " 3.0517578e-05] as keyword args. From version 0.10 passing these as positional arguments will result in an error\n",
      "  mel=np.mean(librosa.feature.melspectrogram(X, sr=sample_rate).T,axis=0)\n",
      "/tmp/ipykernel_15993/1336662531.py:15: FutureWarning: Pass y=[0.         0.         0.         ... 0.00015259 0.00015259 0.00012207] as keyword args. From version 0.10 passing these as positional arguments will result in an error\n",
      "  mel=np.mean(librosa.feature.melspectrogram(X, sr=sample_rate).T,axis=0)\n"
     ]
    },
    {
     "name": "stdout",
     "output_type": "stream",
     "text": [
      "angry\n",
      "fearful\n",
      "disgust\n",
      "angry\n",
      "surprised\n",
      "sad\n",
      "fearful\n"
     ]
    },
    {
     "name": "stderr",
     "output_type": "stream",
     "text": [
      "/tmp/ipykernel_15993/1336662531.py:15: FutureWarning: Pass y=[ 3.0517578e-05  3.0517578e-05  3.0517578e-05 ... -3.0517578e-05\n",
      " -3.0517578e-05  0.0000000e+00] as keyword args. From version 0.10 passing these as positional arguments will result in an error\n",
      "  mel=np.mean(librosa.feature.melspectrogram(X, sr=sample_rate).T,axis=0)\n"
     ]
    },
    {
     "name": "stdout",
     "output_type": "stream",
     "text": [
      "angry\n",
      "sad\n",
      "sad\n",
      "neutral\n",
      "angry\n",
      "angry\n",
      "disgust\n",
      "angry\n",
      "happy\n",
      "happy\n"
     ]
    },
    {
     "name": "stderr",
     "output_type": "stream",
     "text": [
      "/tmp/ipykernel_15993/1336662531.py:15: FutureWarning: Pass y=[3.0517578e-05 3.0517578e-05 3.0517578e-05 ... 6.1035156e-05 6.1035156e-05\n",
      " 6.1035156e-05] as keyword args. From version 0.10 passing these as positional arguments will result in an error\n",
      "  mel=np.mean(librosa.feature.melspectrogram(X, sr=sample_rate).T,axis=0)\n",
      "/tmp/ipykernel_15993/1336662531.py:15: FutureWarning: Pass y=[ 9.1552734e-05  6.1035156e-05  6.1035156e-05 ... -8.2702637e-03\n",
      " -8.2397461e-03 -8.1787109e-03] as keyword args. From version 0.10 passing these as positional arguments will result in an error\n",
      "  mel=np.mean(librosa.feature.melspectrogram(X, sr=sample_rate).T,axis=0)\n",
      "/tmp/ipykernel_15993/1336662531.py:15: FutureWarning: Pass y=[0.0000000e+00 0.0000000e+00 0.0000000e+00 ... 9.1552734e-05 6.1035156e-05\n",
      " 9.1552734e-05] as keyword args. From version 0.10 passing these as positional arguments will result in an error\n",
      "  mel=np.mean(librosa.feature.melspectrogram(X, sr=sample_rate).T,axis=0)\n"
     ]
    },
    {
     "name": "stdout",
     "output_type": "stream",
     "text": [
      "sad\n",
      "neutral\n",
      "surprised\n",
      "disgust\n",
      "happy\n",
      "disgust\n",
      "surprised\n",
      "happy\n",
      "fearful\n"
     ]
    },
    {
     "name": "stderr",
     "output_type": "stream",
     "text": [
      "/tmp/ipykernel_15993/1336662531.py:15: FutureWarning: Pass y=[ 0.0000000e+00  0.0000000e+00  0.0000000e+00 ... -2.1362305e-04\n",
      "  3.0517578e-05  0.0000000e+00] as keyword args. From version 0.10 passing these as positional arguments will result in an error\n",
      "  mel=np.mean(librosa.feature.melspectrogram(X, sr=sample_rate).T,axis=0)\n",
      "/tmp/ipykernel_15993/1336662531.py:15: FutureWarning: Pass y=[3.0517578e-05 6.1035156e-05 6.1035156e-05 ... 3.0517578e-05 3.0517578e-05\n",
      " 3.0517578e-05] as keyword args. From version 0.10 passing these as positional arguments will result in an error\n",
      "  mel=np.mean(librosa.feature.melspectrogram(X, sr=sample_rate).T,axis=0)\n",
      "/tmp/ipykernel_15993/1336662531.py:15: FutureWarning: Pass y=[1.2207031e-04 9.1552734e-05 9.1552734e-05 ... 1.8310547e-04 1.8310547e-04\n",
      " 1.8310547e-04] as keyword args. From version 0.10 passing these as positional arguments will result in an error\n",
      "  mel=np.mean(librosa.feature.melspectrogram(X, sr=sample_rate).T,axis=0)\n"
     ]
    },
    {
     "name": "stdout",
     "output_type": "stream",
     "text": [
      "calm\n",
      "happy\n",
      "calm\n"
     ]
    },
    {
     "name": "stderr",
     "output_type": "stream",
     "text": [
      "/tmp/ipykernel_15993/1336662531.py:15: FutureWarning: Pass y=[-1.2207031e-04 -6.1035156e-05 -9.1552734e-05 ... -3.0517578e-05\n",
      " -6.1035156e-05 -6.1035156e-05] as keyword args. From version 0.10 passing these as positional arguments will result in an error\n",
      "  mel=np.mean(librosa.feature.melspectrogram(X, sr=sample_rate).T,axis=0)\n",
      "/tmp/ipykernel_15993/1336662531.py:15: FutureWarning: Pass y=[ 0.0000000e+00 -3.0517578e-05 -3.0517578e-05 ...  3.0517578e-05\n",
      "  2.1362305e-04  1.2207031e-04] as keyword args. From version 0.10 passing these as positional arguments will result in an error\n",
      "  mel=np.mean(librosa.feature.melspectrogram(X, sr=sample_rate).T,axis=0)\n",
      "/tmp/ipykernel_15993/1336662531.py:15: FutureWarning: Pass y=[-0.00012207 -0.00012207 -0.00012207 ...  0.          0.\n",
      "  0.        ] as keyword args. From version 0.10 passing these as positional arguments will result in an error\n",
      "  mel=np.mean(librosa.feature.melspectrogram(X, sr=sample_rate).T,axis=0)\n",
      "/tmp/ipykernel_15993/1336662531.py:15: FutureWarning: Pass y=[-9.1552734e-05 -9.1552734e-05 -6.1035156e-05 ... -3.0517578e-05\n",
      " -6.1035156e-05 -6.1035156e-05] as keyword args. From version 0.10 passing these as positional arguments will result in an error\n",
      "  mel=np.mean(librosa.feature.melspectrogram(X, sr=sample_rate).T,axis=0)\n"
     ]
    },
    {
     "name": "stdout",
     "output_type": "stream",
     "text": [
      "surprised\n",
      "happy\n",
      "surprised\n",
      "calm\n",
      "happy\n",
      "neutral\n",
      "sad\n",
      "happy\n",
      "fearful\n",
      "sad\n",
      "surprised\n",
      "neutral\n",
      "surprised\n",
      "happy\n",
      "fearful\n"
     ]
    },
    {
     "name": "stderr",
     "output_type": "stream",
     "text": [
      "/tmp/ipykernel_15993/1336662531.py:15: FutureWarning: Pass y=[-0.00177002 -0.00064087  0.00164795 ...  0.00042725  0.00170898\n",
      "  0.00057983] as keyword args. From version 0.10 passing these as positional arguments will result in an error\n",
      "  mel=np.mean(librosa.feature.melspectrogram(X, sr=sample_rate).T,axis=0)\n",
      "/tmp/ipykernel_15993/1336662531.py:15: FutureWarning: Pass y=[ 0.0000000e+00  0.0000000e+00  0.0000000e+00 ...  0.0000000e+00\n",
      "  3.0517578e-05 -6.1035156e-05] as keyword args. From version 0.10 passing these as positional arguments will result in an error\n",
      "  mel=np.mean(librosa.feature.melspectrogram(X, sr=sample_rate).T,axis=0)\n"
     ]
    },
    {
     "name": "stdout",
     "output_type": "stream",
     "text": [
      "surprised\n",
      "surprised\n",
      "sad\n",
      "disgust\n",
      "calm\n",
      "happy\n"
     ]
    },
    {
     "name": "stderr",
     "output_type": "stream",
     "text": [
      "/tmp/ipykernel_15993/1336662531.py:15: FutureWarning: Pass y=[ 0.0000000e+00  0.0000000e+00  0.0000000e+00 ...  0.0000000e+00\n",
      "  0.0000000e+00 -3.0517578e-05] as keyword args. From version 0.10 passing these as positional arguments will result in an error\n",
      "  mel=np.mean(librosa.feature.melspectrogram(X, sr=sample_rate).T,axis=0)\n"
     ]
    },
    {
     "name": "stdout",
     "output_type": "stream",
     "text": [
      "disgust\n",
      "calm\n",
      "fearful\n",
      "angry\n",
      "disgust\n",
      "happy\n",
      "fearful\n"
     ]
    },
    {
     "name": "stderr",
     "output_type": "stream",
     "text": [
      "/tmp/ipykernel_15993/1336662531.py:15: FutureWarning: Pass y=[ 0.0000000e+00  0.0000000e+00  0.0000000e+00 ... -2.4414062e-04\n",
      " -1.2207031e-04 -9.1552734e-05] as keyword args. From version 0.10 passing these as positional arguments will result in an error\n",
      "  mel=np.mean(librosa.feature.melspectrogram(X, sr=sample_rate).T,axis=0)\n",
      "/tmp/ipykernel_15993/1336662531.py:15: FutureWarning: Pass y=[0.0000000e+00 6.1035156e-05 3.0517578e-05 ... 0.0000000e+00 0.0000000e+00\n",
      " 0.0000000e+00] as keyword args. From version 0.10 passing these as positional arguments will result in an error\n",
      "  mel=np.mean(librosa.feature.melspectrogram(X, sr=sample_rate).T,axis=0)\n"
     ]
    },
    {
     "name": "stdout",
     "output_type": "stream",
     "text": [
      "angry\n",
      "calm\n",
      "angry\n",
      "calm\n",
      "sad\n",
      "disgust\n",
      "fearful\n",
      "surprised\n",
      "angry\n",
      "calm\n",
      "disgust\n",
      "angry\n",
      "happy\n",
      "sad\n",
      "angry\n",
      "neutral\n",
      "surprised\n",
      "disgust\n",
      "disgust\n",
      "fearful\n",
      "disgust\n",
      "calm\n",
      "surprised\n",
      "happy\n",
      "sad\n",
      "happy\n",
      "fearful\n"
     ]
    },
    {
     "name": "stderr",
     "output_type": "stream",
     "text": [
      "/tmp/ipykernel_15993/1336662531.py:15: FutureWarning: Pass y=[-0.00091553 -0.00115967  0.0012207  ... -0.00064087  0.00033569\n",
      " -0.00048828] as keyword args. From version 0.10 passing these as positional arguments will result in an error\n",
      "  mel=np.mean(librosa.feature.melspectrogram(X, sr=sample_rate).T,axis=0)\n"
     ]
    },
    {
     "name": "stdout",
     "output_type": "stream",
     "text": [
      "sad\n",
      "calm\n",
      "angry\n",
      "angry\n",
      "calm\n",
      "surprised\n",
      "sad\n",
      "neutral\n",
      "happy\n",
      "fearful\n"
     ]
    },
    {
     "name": "stderr",
     "output_type": "stream",
     "text": [
      "/tmp/ipykernel_15993/1336662531.py:15: FutureWarning: Pass y=[ 5.4931641e-04  1.1901855e-03  5.4931641e-04 ...  3.0517578e-05\n",
      " -1.4343262e-03 -8.5449219e-04] as keyword args. From version 0.10 passing these as positional arguments will result in an error\n",
      "  mel=np.mean(librosa.feature.melspectrogram(X, sr=sample_rate).T,axis=0)\n",
      "/tmp/ipykernel_15993/1336662531.py:15: FutureWarning: Pass y=[ 3.0517578e-05  3.0517578e-05  6.1035156e-05 ... -3.0517578e-05\n",
      " -3.0517578e-05  0.0000000e+00] as keyword args. From version 0.10 passing these as positional arguments will result in an error\n",
      "  mel=np.mean(librosa.feature.melspectrogram(X, sr=sample_rate).T,axis=0)\n"
     ]
    },
    {
     "name": "stdout",
     "output_type": "stream",
     "text": [
      "disgust\n",
      "fearful\n",
      "fearful\n",
      "happy\n",
      "happy\n",
      "angry\n",
      "happy\n",
      "neutral\n",
      "disgust\n"
     ]
    },
    {
     "name": "stderr",
     "output_type": "stream",
     "text": [
      "/tmp/ipykernel_15993/1336662531.py:15: FutureWarning: Pass y=[3.0517578e-05 3.0517578e-05 0.0000000e+00 ... 0.0000000e+00 0.0000000e+00\n",
      " 0.0000000e+00] as keyword args. From version 0.10 passing these as positional arguments will result in an error\n",
      "  mel=np.mean(librosa.feature.melspectrogram(X, sr=sample_rate).T,axis=0)\n",
      "/tmp/ipykernel_15993/1336662531.py:15: FutureWarning: Pass y=[-3.0517578e-05  0.0000000e+00  0.0000000e+00 ...  3.0517578e-05\n",
      "  3.0517578e-05  3.0517578e-05] as keyword args. From version 0.10 passing these as positional arguments will result in an error\n",
      "  mel=np.mean(librosa.feature.melspectrogram(X, sr=sample_rate).T,axis=0)\n"
     ]
    },
    {
     "name": "stdout",
     "output_type": "stream",
     "text": [
      "calm\n",
      "sad\n",
      "sad\n",
      "neutral\n",
      "disgust\n",
      "happy\n",
      "surprised\n",
      "sad\n",
      "sad\n",
      "neutral\n",
      "angry\n",
      "angry\n",
      "calm\n",
      "disgust\n",
      "surprised\n",
      "calm\n",
      "fearful\n",
      "angry\n",
      "fearful\n",
      "surprised\n",
      "sad\n",
      "surprised\n",
      "calm\n",
      "sad\n",
      "sad\n",
      "surprised\n",
      "disgust\n",
      "calm\n",
      "angry\n",
      "surprised\n",
      "happy\n",
      "surprised\n",
      "neutral\n",
      "disgust\n",
      "fearful\n",
      "disgust\n",
      "surprised\n",
      "fearful\n"
     ]
    },
    {
     "name": "stderr",
     "output_type": "stream",
     "text": [
      "/tmp/ipykernel_15993/1336662531.py:15: FutureWarning: Pass y=[ 3.0517578e-05  3.0517578e-05  3.0517578e-05 ... -6.1035156e-05\n",
      " -6.1035156e-05 -6.1035156e-05] as keyword args. From version 0.10 passing these as positional arguments will result in an error\n",
      "  mel=np.mean(librosa.feature.melspectrogram(X, sr=sample_rate).T,axis=0)\n",
      "/tmp/ipykernel_15993/1336662531.py:15: FutureWarning: Pass y=[ 0.0000000e+00  0.0000000e+00  0.0000000e+00 ... -6.1035156e-05\n",
      " -3.0517578e-05 -6.1035156e-05] as keyword args. From version 0.10 passing these as positional arguments will result in an error\n",
      "  mel=np.mean(librosa.feature.melspectrogram(X, sr=sample_rate).T,axis=0)\n"
     ]
    },
    {
     "name": "stdout",
     "output_type": "stream",
     "text": [
      "angry\n",
      "angry\n",
      "fearful\n",
      "fearful\n",
      "angry\n",
      "disgust\n",
      "calm\n"
     ]
    },
    {
     "name": "stderr",
     "output_type": "stream",
     "text": [
      "/tmp/ipykernel_15993/1336662531.py:15: FutureWarning: Pass y=[ 0.0000000e+00  0.0000000e+00  0.0000000e+00 ...  0.0000000e+00\n",
      " -3.0517578e-05 -3.0517578e-05] as keyword args. From version 0.10 passing these as positional arguments will result in an error\n",
      "  mel=np.mean(librosa.feature.melspectrogram(X, sr=sample_rate).T,axis=0)\n",
      "/tmp/ipykernel_15993/1336662531.py:15: FutureWarning: Pass y=[ 6.1035156e-05  3.0517578e-05  3.0517578e-05 ... -6.1035156e-05\n",
      " -9.1552734e-05 -6.1035156e-05] as keyword args. From version 0.10 passing these as positional arguments will result in an error\n",
      "  mel=np.mean(librosa.feature.melspectrogram(X, sr=sample_rate).T,axis=0)\n"
     ]
    },
    {
     "name": "stdout",
     "output_type": "stream",
     "text": [
      "happy\n",
      "calm\n",
      "happy\n",
      "calm\n",
      "happy\n",
      "sad\n",
      "sad\n",
      "fearful\n",
      "sad\n",
      "calm\n",
      "neutral\n",
      "happy\n",
      "happy\n",
      "calm\n",
      "surprised\n",
      "happy\n",
      "fearful\n",
      "surprised\n",
      "happy\n",
      "angry\n",
      "sad\n",
      "neutral\n",
      "happy\n",
      "disgust\n",
      "calm\n",
      "surprised\n",
      "disgust\n",
      "sad\n",
      "fearful\n",
      "neutral\n",
      "disgust\n"
     ]
    },
    {
     "name": "stderr",
     "output_type": "stream",
     "text": [
      "/tmp/ipykernel_15993/1336662531.py:15: FutureWarning: Pass y=[ 0.0000000e+00 -6.1035156e-05 -6.1035156e-05 ...  0.0000000e+00\n",
      "  0.0000000e+00  0.0000000e+00] as keyword args. From version 0.10 passing these as positional arguments will result in an error\n",
      "  mel=np.mean(librosa.feature.melspectrogram(X, sr=sample_rate).T,axis=0)\n"
     ]
    },
    {
     "name": "stdout",
     "output_type": "stream",
     "text": [
      "angry\n",
      "disgust\n",
      "surprised\n",
      "sad\n",
      "angry\n",
      "angry\n",
      "fearful\n",
      "neutral\n",
      "disgust\n",
      "surprised\n",
      "calm\n",
      "sad\n",
      "fearful\n",
      "sad\n",
      "angry\n",
      "calm\n"
     ]
    },
    {
     "name": "stderr",
     "output_type": "stream",
     "text": [
      "/tmp/ipykernel_15993/1336662531.py:15: FutureWarning: Pass y=[0.         0.         0.         ... 0.00024414 0.00024414 0.00024414] as keyword args. From version 0.10 passing these as positional arguments will result in an error\n",
      "  mel=np.mean(librosa.feature.melspectrogram(X, sr=sample_rate).T,axis=0)\n"
     ]
    },
    {
     "name": "stdout",
     "output_type": "stream",
     "text": [
      "happy\n",
      "disgust\n",
      "sad\n",
      "disgust\n",
      "calm\n",
      "happy\n",
      "calm\n",
      "surprised\n",
      "happy\n",
      "surprised\n",
      "angry\n",
      "angry\n",
      "fearful\n",
      "surprised\n",
      "disgust\n",
      "angry\n",
      "fearful\n"
     ]
    },
    {
     "name": "stderr",
     "output_type": "stream",
     "text": [
      "/tmp/ipykernel_15993/1336662531.py:15: FutureWarning: Pass y=[ 0.0000000e+00  0.0000000e+00  0.0000000e+00 ... -3.0517578e-05\n",
      "  0.0000000e+00  0.0000000e+00] as keyword args. From version 0.10 passing these as positional arguments will result in an error\n",
      "  mel=np.mean(librosa.feature.melspectrogram(X, sr=sample_rate).T,axis=0)\n"
     ]
    },
    {
     "name": "stdout",
     "output_type": "stream",
     "text": [
      "calm\n",
      "fearful\n",
      "fearful\n",
      "fearful\n",
      "disgust\n",
      "surprised\n",
      "sad\n",
      "fearful\n",
      "surprised\n",
      "surprised\n",
      "calm\n",
      "sad\n",
      "happy\n",
      "calm\n"
     ]
    },
    {
     "name": "stderr",
     "output_type": "stream",
     "text": [
      "/tmp/ipykernel_15993/1336662531.py:15: FutureWarning: Pass y=[0.0000000e+00 0.0000000e+00 0.0000000e+00 ... 3.0517578e-05 3.0517578e-05\n",
      " 0.0000000e+00] as keyword args. From version 0.10 passing these as positional arguments will result in an error\n",
      "  mel=np.mean(librosa.feature.melspectrogram(X, sr=sample_rate).T,axis=0)\n",
      "/tmp/ipykernel_15993/1336662531.py:15: FutureWarning: Pass y=[0.0000000e+00 0.0000000e+00 0.0000000e+00 ... 6.1035156e-05 3.0517578e-05\n",
      " 3.0517578e-05] as keyword args. From version 0.10 passing these as positional arguments will result in an error\n",
      "  mel=np.mean(librosa.feature.melspectrogram(X, sr=sample_rate).T,axis=0)\n"
     ]
    },
    {
     "name": "stdout",
     "output_type": "stream",
     "text": [
      "sad\n",
      "fearful\n",
      "angry\n",
      "calm\n",
      "neutral\n",
      "happy\n",
      "fearful\n",
      "surprised\n",
      "neutral\n",
      "happy\n",
      "disgust\n",
      "disgust\n",
      "surprised\n",
      "angry\n",
      "sad\n",
      "calm\n",
      "sad\n",
      "angry\n",
      "disgust\n",
      "angry\n",
      "calm\n",
      "happy\n",
      "disgust\n"
     ]
    },
    {
     "name": "stderr",
     "output_type": "stream",
     "text": [
      "/tmp/ipykernel_15993/1336662531.py:15: FutureWarning: Pass y=[3.0517578e-05 0.0000000e+00 3.0517578e-05 ... 0.0000000e+00 3.0517578e-05\n",
      " 3.0517578e-05] as keyword args. From version 0.10 passing these as positional arguments will result in an error\n",
      "  mel=np.mean(librosa.feature.melspectrogram(X, sr=sample_rate).T,axis=0)\n"
     ]
    },
    {
     "name": "stdout",
     "output_type": "stream",
     "text": [
      "surprised\n",
      "sad\n",
      "happy\n",
      "happy\n",
      "surprised\n",
      "disgust\n",
      "neutral\n",
      "calm\n",
      "fearful\n",
      "angry\n",
      "fearful\n",
      "calm\n",
      "sad\n",
      "angry\n",
      "neutral\n",
      "angry\n",
      "fearful\n",
      "calm\n",
      "happy\n",
      "surprised\n",
      "disgust\n",
      "sad\n",
      "happy\n",
      "disgust\n",
      "angry\n",
      "angry\n",
      "fearful\n"
     ]
    },
    {
     "name": "stderr",
     "output_type": "stream",
     "text": [
      "/tmp/ipykernel_15993/1336662531.py:15: FutureWarning: Pass y=[ 0.0000000e+00  0.0000000e+00  0.0000000e+00 ... -6.1035156e-05\n",
      "  0.0000000e+00  0.0000000e+00] as keyword args. From version 0.10 passing these as positional arguments will result in an error\n",
      "  mel=np.mean(librosa.feature.melspectrogram(X, sr=sample_rate).T,axis=0)\n"
     ]
    },
    {
     "name": "stdout",
     "output_type": "stream",
     "text": [
      "angry\n",
      "sad\n",
      "neutral\n",
      "angry\n",
      "calm\n",
      "disgust\n",
      "sad\n",
      "happy\n",
      "angry\n",
      "happy\n",
      "fearful\n"
     ]
    },
    {
     "name": "stderr",
     "output_type": "stream",
     "text": [
      "/tmp/ipykernel_15993/1336662531.py:15: FutureWarning: Pass y=[ 0.0000000e+00  0.0000000e+00  0.0000000e+00 ...  3.0517578e-05\n",
      " -3.0517578e-05  1.2207031e-04] as keyword args. From version 0.10 passing these as positional arguments will result in an error\n",
      "  mel=np.mean(librosa.feature.melspectrogram(X, sr=sample_rate).T,axis=0)\n",
      "/tmp/ipykernel_15993/1336662531.py:15: FutureWarning: Pass y=[6.1035156e-05 6.1035156e-05 3.0517578e-05 ... 0.0000000e+00 0.0000000e+00\n",
      " 0.0000000e+00] as keyword args. From version 0.10 passing these as positional arguments will result in an error\n",
      "  mel=np.mean(librosa.feature.melspectrogram(X, sr=sample_rate).T,axis=0)\n"
     ]
    },
    {
     "name": "stdout",
     "output_type": "stream",
     "text": [
      "sad\n",
      "surprised\n",
      "surprised\n",
      "disgust\n",
      "calm\n",
      "disgust\n",
      "happy\n",
      "surprised\n",
      "disgust\n",
      "surprised\n",
      "fearful\n"
     ]
    },
    {
     "name": "stderr",
     "output_type": "stream",
     "text": [
      "/tmp/ipykernel_15993/1336662531.py:15: FutureWarning: Pass y=[-1.2817383e-03 -1.6479492e-03 -3.0517578e-05 ...  4.2724609e-04\n",
      "  5.1879883e-04 -9.1552734e-05] as keyword args. From version 0.10 passing these as positional arguments will result in an error\n",
      "  mel=np.mean(librosa.feature.melspectrogram(X, sr=sample_rate).T,axis=0)\n"
     ]
    },
    {
     "name": "stdout",
     "output_type": "stream",
     "text": [
      "surprised\n",
      "happy\n",
      "disgust\n",
      "angry\n",
      "happy\n",
      "calm\n",
      "disgust\n",
      "disgust\n"
     ]
    },
    {
     "name": "stderr",
     "output_type": "stream",
     "text": [
      "/tmp/ipykernel_15993/1336662531.py:15: FutureWarning: Pass y=[ 0.          0.          0.         ... -0.00018311 -0.00015259\n",
      " -0.00015259] as keyword args. From version 0.10 passing these as positional arguments will result in an error\n",
      "  mel=np.mean(librosa.feature.melspectrogram(X, sr=sample_rate).T,axis=0)\n"
     ]
    },
    {
     "name": "stdout",
     "output_type": "stream",
     "text": [
      "disgust\n",
      "calm\n",
      "fearful\n"
     ]
    },
    {
     "name": "stderr",
     "output_type": "stream",
     "text": [
      "/tmp/ipykernel_15993/1336662531.py:15: FutureWarning: Pass y=[ 3.0517578e-05  6.1035156e-05  3.0517578e-05 ... -2.0751953e-03\n",
      "  8.2397461e-04 -6.7138672e-04] as keyword args. From version 0.10 passing these as positional arguments will result in an error\n",
      "  mel=np.mean(librosa.feature.melspectrogram(X, sr=sample_rate).T,axis=0)\n",
      "/tmp/ipykernel_15993/1336662531.py:15: FutureWarning: Pass y=[0.0000000e+00 0.0000000e+00 3.0517578e-05 ... 6.1035156e-05 9.1552734e-05\n",
      " 6.1035156e-05] as keyword args. From version 0.10 passing these as positional arguments will result in an error\n",
      "  mel=np.mean(librosa.feature.melspectrogram(X, sr=sample_rate).T,axis=0)\n",
      "/tmp/ipykernel_15993/1336662531.py:15: FutureWarning: Pass y=[ 3.0517578e-05  0.0000000e+00  0.0000000e+00 ... -6.1035156e-05\n",
      " -3.0517578e-05  0.0000000e+00] as keyword args. From version 0.10 passing these as positional arguments will result in an error\n",
      "  mel=np.mean(librosa.feature.melspectrogram(X, sr=sample_rate).T,axis=0)\n"
     ]
    },
    {
     "name": "stdout",
     "output_type": "stream",
     "text": [
      "calm\n",
      "sad\n",
      "calm\n",
      "fearful\n"
     ]
    },
    {
     "name": "stderr",
     "output_type": "stream",
     "text": [
      "/tmp/ipykernel_15993/1336662531.py:15: FutureWarning: Pass y=[ 2.1362305e-04  1.5258789e-04 -3.0517578e-05 ...  4.8828125e-04\n",
      "  3.0517578e-05 -3.0517578e-04] as keyword args. From version 0.10 passing these as positional arguments will result in an error\n",
      "  mel=np.mean(librosa.feature.melspectrogram(X, sr=sample_rate).T,axis=0)\n",
      "/tmp/ipykernel_15993/1336662531.py:15: FutureWarning: Pass y=[3.0517578e-05 6.1035156e-05 3.0517578e-05 ... 6.1035156e-04 6.1035156e-04\n",
      " 5.7983398e-04] as keyword args. From version 0.10 passing these as positional arguments will result in an error\n",
      "  mel=np.mean(librosa.feature.melspectrogram(X, sr=sample_rate).T,axis=0)\n"
     ]
    },
    {
     "name": "stdout",
     "output_type": "stream",
     "text": [
      "sad\n",
      "sad\n",
      "surprised\n",
      "happy\n",
      "neutral\n",
      "neutral\n",
      "fearful\n",
      "sad\n",
      "happy\n",
      "happy\n",
      "surprised\n",
      "angry\n",
      "surprised\n",
      "calm\n",
      "calm\n",
      "sad\n",
      "neutral\n",
      "fearful\n",
      "angry\n",
      "angry\n",
      "fearful\n"
     ]
    },
    {
     "name": "stderr",
     "output_type": "stream",
     "text": [
      "/tmp/ipykernel_15993/1336662531.py:15: FutureWarning: Pass y=[ 0.0000000e+00 -6.1035156e-05 -9.1552734e-05 ...  0.0000000e+00\n",
      "  0.0000000e+00  0.0000000e+00] as keyword args. From version 0.10 passing these as positional arguments will result in an error\n",
      "  mel=np.mean(librosa.feature.melspectrogram(X, sr=sample_rate).T,axis=0)\n",
      "/tmp/ipykernel_15993/1336662531.py:15: FutureWarning: Pass y=[ 3.6621094e-04  2.4414062e-04 -3.6621094e-04 ...  3.0517578e-05\n",
      " -6.1035156e-05 -1.2207031e-04] as keyword args. From version 0.10 passing these as positional arguments will result in an error\n",
      "  mel=np.mean(librosa.feature.melspectrogram(X, sr=sample_rate).T,axis=0)\n"
     ]
    },
    {
     "name": "stdout",
     "output_type": "stream",
     "text": [
      "surprised\n",
      "happy\n",
      "surprised\n",
      "calm\n",
      "happy\n",
      "angry\n",
      "fearful\n"
     ]
    },
    {
     "name": "stderr",
     "output_type": "stream",
     "text": [
      "/tmp/ipykernel_15993/1336662531.py:15: FutureWarning: Pass y=[ 0.0000000e+00  0.0000000e+00  0.0000000e+00 ... -9.1552734e-05\n",
      " -1.2207031e-04 -1.2207031e-04] as keyword args. From version 0.10 passing these as positional arguments will result in an error\n",
      "  mel=np.mean(librosa.feature.melspectrogram(X, sr=sample_rate).T,axis=0)\n",
      "/tmp/ipykernel_15993/1336662531.py:15: FutureWarning: Pass y=[ 0.0000000e+00  0.0000000e+00  0.0000000e+00 ... -1.2207031e-04\n",
      " -1.2207031e-04 -9.1552734e-05] as keyword args. From version 0.10 passing these as positional arguments will result in an error\n",
      "  mel=np.mean(librosa.feature.melspectrogram(X, sr=sample_rate).T,axis=0)\n",
      "/tmp/ipykernel_15993/1336662531.py:15: FutureWarning: Pass y=[0.00170898 0.00170898 0.00167847 ... 0.         0.         0.        ] as keyword args. From version 0.10 passing these as positional arguments will result in an error\n",
      "  mel=np.mean(librosa.feature.melspectrogram(X, sr=sample_rate).T,axis=0)\n"
     ]
    },
    {
     "name": "stdout",
     "output_type": "stream",
     "text": [
      "happy\n",
      "surprised\n",
      "sad\n",
      "fearful\n",
      "disgust\n",
      "calm\n"
     ]
    },
    {
     "name": "stderr",
     "output_type": "stream",
     "text": [
      "/tmp/ipykernel_15993/1336662531.py:15: FutureWarning: Pass y=[-6.1035156e-05 -6.1035156e-05 -3.0517578e-05 ... -6.1035156e-05\n",
      " -9.1552734e-05 -3.0517578e-05] as keyword args. From version 0.10 passing these as positional arguments will result in an error\n",
      "  mel=np.mean(librosa.feature.melspectrogram(X, sr=sample_rate).T,axis=0)\n",
      "/tmp/ipykernel_15993/1336662531.py:15: FutureWarning: Pass y=[-6.1035156e-05 -6.1035156e-05 -6.1035156e-05 ...  3.9672852e-04\n",
      "  3.6621094e-04  3.6621094e-04] as keyword args. From version 0.10 passing these as positional arguments will result in an error\n",
      "  mel=np.mean(librosa.feature.melspectrogram(X, sr=sample_rate).T,axis=0)\n",
      "/tmp/ipykernel_15993/1336662531.py:15: FutureWarning: Pass y=[ 0.          0.          0.         ... -0.00021362 -0.00024414\n",
      " -0.00018311] as keyword args. From version 0.10 passing these as positional arguments will result in an error\n",
      "  mel=np.mean(librosa.feature.melspectrogram(X, sr=sample_rate).T,axis=0)\n"
     ]
    },
    {
     "name": "stdout",
     "output_type": "stream",
     "text": [
      "disgust\n",
      "neutral\n",
      "sad\n",
      "neutral\n",
      "sad\n",
      "angry\n",
      "surprised\n",
      "angry\n",
      "happy\n",
      "calm\n",
      "sad\n",
      "angry\n",
      "happy\n",
      "surprised\n",
      "disgust\n",
      "calm\n",
      "happy\n",
      "sad\n",
      "calm\n"
     ]
    },
    {
     "name": "stderr",
     "output_type": "stream",
     "text": [
      "/tmp/ipykernel_15993/1336662531.py:15: FutureWarning: Pass y=[ 0.0000000e+00 -3.0517578e-05  0.0000000e+00 ... -3.0517578e-05\n",
      "  0.0000000e+00  0.0000000e+00] as keyword args. From version 0.10 passing these as positional arguments will result in an error\n",
      "  mel=np.mean(librosa.feature.melspectrogram(X, sr=sample_rate).T,axis=0)\n",
      "/tmp/ipykernel_15993/1336662531.py:15: FutureWarning: Pass y=[ 0.0000000e+00 -3.0517578e-05  0.0000000e+00 ...  3.0517578e-05\n",
      "  3.0517578e-05  3.0517578e-05] as keyword args. From version 0.10 passing these as positional arguments will result in an error\n",
      "  mel=np.mean(librosa.feature.melspectrogram(X, sr=sample_rate).T,axis=0)\n"
     ]
    },
    {
     "name": "stdout",
     "output_type": "stream",
     "text": [
      "calm\n",
      "happy\n",
      "fearful\n",
      "disgust\n"
     ]
    },
    {
     "name": "stderr",
     "output_type": "stream",
     "text": [
      "/tmp/ipykernel_15993/1336662531.py:15: FutureWarning: Pass y=[ 0.          0.          0.         ... -0.00085449 -0.00088501\n",
      " -0.00091553] as keyword args. From version 0.10 passing these as positional arguments will result in an error\n",
      "  mel=np.mean(librosa.feature.melspectrogram(X, sr=sample_rate).T,axis=0)\n",
      "/tmp/ipykernel_15993/1336662531.py:15: FutureWarning: Pass y=[-1.2207031e-04 -1.2207031e-04 -9.1552734e-05 ...  0.0000000e+00\n",
      "  0.0000000e+00  0.0000000e+00] as keyword args. From version 0.10 passing these as positional arguments will result in an error\n",
      "  mel=np.mean(librosa.feature.melspectrogram(X, sr=sample_rate).T,axis=0)\n"
     ]
    },
    {
     "name": "stdout",
     "output_type": "stream",
     "text": [
      "disgust\n",
      "happy\n",
      "calm\n"
     ]
    },
    {
     "name": "stderr",
     "output_type": "stream",
     "text": [
      "/tmp/ipykernel_15993/1336662531.py:15: FutureWarning: Pass y=[ 0.0000000e+00  0.0000000e+00  0.0000000e+00 ... -3.0517578e-05\n",
      " -6.1035156e-05 -6.1035156e-05] as keyword args. From version 0.10 passing these as positional arguments will result in an error\n",
      "  mel=np.mean(librosa.feature.melspectrogram(X, sr=sample_rate).T,axis=0)\n",
      "/tmp/ipykernel_15993/1336662531.py:15: FutureWarning: Pass y=[ 0.0000000e+00  0.0000000e+00  0.0000000e+00 ... -6.1035156e-05\n",
      " -6.1035156e-05  0.0000000e+00] as keyword args. From version 0.10 passing these as positional arguments will result in an error\n",
      "  mel=np.mean(librosa.feature.melspectrogram(X, sr=sample_rate).T,axis=0)\n",
      "/tmp/ipykernel_15993/1336662531.py:15: FutureWarning: Pass y=[-6.1035156e-05 -6.1035156e-05 -3.0517578e-05 ...  0.0000000e+00\n",
      " -3.0517578e-05 -3.0517578e-05] as keyword args. From version 0.10 passing these as positional arguments will result in an error\n",
      "  mel=np.mean(librosa.feature.melspectrogram(X, sr=sample_rate).T,axis=0)\n"
     ]
    },
    {
     "name": "stdout",
     "output_type": "stream",
     "text": [
      "disgust\n",
      "fearful\n",
      "fearful\n",
      "angry\n",
      "neutral\n",
      "disgust\n"
     ]
    },
    {
     "name": "stderr",
     "output_type": "stream",
     "text": [
      "/tmp/ipykernel_15993/1336662531.py:15: FutureWarning: Pass y=[ 0.0000000e+00  0.0000000e+00 -3.0517578e-05 ...  6.1035156e-05\n",
      "  3.0517578e-05  3.0517578e-05] as keyword args. From version 0.10 passing these as positional arguments will result in an error\n",
      "  mel=np.mean(librosa.feature.melspectrogram(X, sr=sample_rate).T,axis=0)\n",
      "/tmp/ipykernel_15993/1336662531.py:15: FutureWarning: Pass y=[ 0.          0.          0.         ... -0.00042725 -0.00042725\n",
      " -0.00039673] as keyword args. From version 0.10 passing these as positional arguments will result in an error\n",
      "  mel=np.mean(librosa.feature.melspectrogram(X, sr=sample_rate).T,axis=0)\n"
     ]
    },
    {
     "name": "stdout",
     "output_type": "stream",
     "text": [
      "angry\n",
      "sad\n",
      "fearful\n",
      "fearful\n",
      "calm\n",
      "angry\n",
      "surprised\n",
      "surprised\n",
      "sad\n",
      "surprised\n",
      "angry\n",
      "fearful\n"
     ]
    },
    {
     "name": "stderr",
     "output_type": "stream",
     "text": [
      "/tmp/ipykernel_15993/1336662531.py:15: FutureWarning: Pass y=[ 0.          0.          0.         ... -0.00161743 -0.00164795\n",
      " -0.00161743] as keyword args. From version 0.10 passing these as positional arguments will result in an error\n",
      "  mel=np.mean(librosa.feature.melspectrogram(X, sr=sample_rate).T,axis=0)\n",
      "/tmp/ipykernel_15993/1336662531.py:15: FutureWarning: Pass y=[6.1035156e-05 6.1035156e-05 6.1035156e-05 ... 3.0517578e-05 0.0000000e+00\n",
      " 0.0000000e+00] as keyword args. From version 0.10 passing these as positional arguments will result in an error\n",
      "  mel=np.mean(librosa.feature.melspectrogram(X, sr=sample_rate).T,axis=0)\n",
      "/tmp/ipykernel_15993/1336662531.py:15: FutureWarning: Pass y=[0.0000000e+00 0.0000000e+00 0.0000000e+00 ... 6.1035156e-05 9.1552734e-05\n",
      " 9.1552734e-05] as keyword args. From version 0.10 passing these as positional arguments will result in an error\n",
      "  mel=np.mean(librosa.feature.melspectrogram(X, sr=sample_rate).T,axis=0)\n"
     ]
    },
    {
     "name": "stdout",
     "output_type": "stream",
     "text": [
      "disgust\n",
      "sad\n",
      "neutral\n",
      "angry\n",
      "angry\n",
      "happy\n",
      "disgust\n",
      "surprised\n",
      "neutral\n",
      "happy\n",
      "happy\n",
      "surprised\n",
      "disgust\n",
      "calm\n"
     ]
    },
    {
     "name": "stderr",
     "output_type": "stream",
     "text": [
      "/tmp/ipykernel_15993/1336662531.py:15: FutureWarning: Pass y=[ 0.          0.          0.         ... -0.00057983 -0.00054932\n",
      " -0.00057983] as keyword args. From version 0.10 passing these as positional arguments will result in an error\n",
      "  mel=np.mean(librosa.feature.melspectrogram(X, sr=sample_rate).T,axis=0)\n"
     ]
    },
    {
     "name": "stdout",
     "output_type": "stream",
     "text": [
      "calm\n",
      "sad\n",
      "calm\n",
      "calm\n",
      "sad\n",
      "neutral\n",
      "angry\n",
      "fearful\n",
      "angry\n",
      "calm\n",
      "sad\n",
      "sad\n",
      "surprised\n",
      "calm\n",
      "neutral\n",
      "angry\n",
      "surprised\n",
      "sad\n",
      "fearful\n",
      "fearful\n",
      "disgust\n",
      "fearful\n",
      "disgust\n",
      "sad\n",
      "happy\n",
      "surprised\n",
      "disgust\n",
      "sad\n",
      "fearful\n",
      "surprised\n",
      "angry\n",
      "disgust\n",
      "fearful\n",
      "surprised\n",
      "happy\n",
      "happy\n",
      "angry\n",
      "fearful\n",
      "disgust\n",
      "angry\n",
      "calm\n",
      "happy\n"
     ]
    },
    {
     "name": "stderr",
     "output_type": "stream",
     "text": [
      "/tmp/ipykernel_15993/1336662531.py:15: FutureWarning: Pass y=[ 0.0000000e+00 -3.0517578e-05  0.0000000e+00 ...  3.0517578e-05\n",
      "  0.0000000e+00  0.0000000e+00] as keyword args. From version 0.10 passing these as positional arguments will result in an error\n",
      "  mel=np.mean(librosa.feature.melspectrogram(X, sr=sample_rate).T,axis=0)\n"
     ]
    },
    {
     "name": "stdout",
     "output_type": "stream",
     "text": [
      "sad\n",
      "calm\n",
      "disgust\n",
      "happy\n",
      "neutral\n",
      "surprised\n",
      "fearful\n",
      "happy\n",
      "happy\n",
      "fearful\n"
     ]
    },
    {
     "name": "stderr",
     "output_type": "stream",
     "text": [
      "/tmp/ipykernel_15993/1336662531.py:15: FutureWarning: Pass y=[ 0.0000000e+00  0.0000000e+00  0.0000000e+00 ... -6.1035156e-05\n",
      " -9.1552734e-05 -9.1552734e-05] as keyword args. From version 0.10 passing these as positional arguments will result in an error\n",
      "  mel=np.mean(librosa.feature.melspectrogram(X, sr=sample_rate).T,axis=0)\n",
      "/tmp/ipykernel_15993/1336662531.py:15: FutureWarning: Pass y=[ 9.1552734e-05  1.2207031e-04  1.2207031e-04 ... -3.0517578e-05\n",
      " -6.1035156e-05  0.0000000e+00] as keyword args. From version 0.10 passing these as positional arguments will result in an error\n",
      "  mel=np.mean(librosa.feature.melspectrogram(X, sr=sample_rate).T,axis=0)\n"
     ]
    },
    {
     "name": "stdout",
     "output_type": "stream",
     "text": [
      "happy\n",
      "surprised\n",
      "angry\n",
      "neutral\n",
      "fearful\n",
      "sad\n",
      "surprised\n",
      "disgust\n",
      "surprised\n",
      "fearful\n"
     ]
    },
    {
     "name": "stderr",
     "output_type": "stream",
     "text": [
      "/tmp/ipykernel_15993/1336662531.py:15: FutureWarning: Pass y=[ 0.          0.          0.         ... -0.00015259 -0.00012207\n",
      " -0.00012207] as keyword args. From version 0.10 passing these as positional arguments will result in an error\n",
      "  mel=np.mean(librosa.feature.melspectrogram(X, sr=sample_rate).T,axis=0)\n",
      "/tmp/ipykernel_15993/1336662531.py:15: FutureWarning: Pass y=[-6.1035156e-05 -6.1035156e-05 -3.0517578e-05 ... -1.2207031e-04\n",
      " -1.2207031e-04 -1.2207031e-04] as keyword args. From version 0.10 passing these as positional arguments will result in an error\n",
      "  mel=np.mean(librosa.feature.melspectrogram(X, sr=sample_rate).T,axis=0)\n",
      "/tmp/ipykernel_15993/1336662531.py:15: FutureWarning: Pass y=[3.0517578e-05 6.1035156e-05 6.1035156e-05 ... 9.4604492e-04 8.5449219e-04\n",
      " 8.2397461e-04] as keyword args. From version 0.10 passing these as positional arguments will result in an error\n",
      "  mel=np.mean(librosa.feature.melspectrogram(X, sr=sample_rate).T,axis=0)\n"
     ]
    },
    {
     "name": "stdout",
     "output_type": "stream",
     "text": [
      "happy\n",
      "angry\n",
      "surprised\n",
      "angry\n",
      "angry\n",
      "fearful\n",
      "happy\n",
      "calm\n",
      "fearful\n",
      "surprised\n",
      "fearful\n",
      "sad\n",
      "calm\n",
      "happy\n"
     ]
    },
    {
     "name": "stderr",
     "output_type": "stream",
     "text": [
      "/tmp/ipykernel_15993/1336662531.py:15: FutureWarning: Pass y=[ 3.0517578e-05  3.0517578e-05 -1.5258789e-04 ...  3.0517578e-05\n",
      "  3.0517578e-05  6.1035156e-05] as keyword args. From version 0.10 passing these as positional arguments will result in an error\n",
      "  mel=np.mean(librosa.feature.melspectrogram(X, sr=sample_rate).T,axis=0)\n",
      "/tmp/ipykernel_15993/1336662531.py:15: FutureWarning: Pass y=[0.0000000e+00 0.0000000e+00 0.0000000e+00 ... 3.0517578e-05 0.0000000e+00\n",
      " 3.0517578e-05] as keyword args. From version 0.10 passing these as positional arguments will result in an error\n",
      "  mel=np.mean(librosa.feature.melspectrogram(X, sr=sample_rate).T,axis=0)\n",
      "/tmp/ipykernel_15993/1336662531.py:15: FutureWarning: Pass y=[0.         0.         0.         ... 0.00033569 0.00036621 0.00036621] as keyword args. From version 0.10 passing these as positional arguments will result in an error\n",
      "  mel=np.mean(librosa.feature.melspectrogram(X, sr=sample_rate).T,axis=0)\n",
      "/tmp/ipykernel_15993/1336662531.py:15: FutureWarning: Pass y=[0.0007019  0.00067139 0.00067139 ... 0.         0.         0.        ] as keyword args. From version 0.10 passing these as positional arguments will result in an error\n",
      "  mel=np.mean(librosa.feature.melspectrogram(X, sr=sample_rate).T,axis=0)\n"
     ]
    },
    {
     "name": "stdout",
     "output_type": "stream",
     "text": [
      "disgust\n",
      "fearful\n",
      "calm\n",
      "sad\n",
      "surprised\n",
      "happy\n"
     ]
    },
    {
     "name": "stderr",
     "output_type": "stream",
     "text": [
      "/tmp/ipykernel_15993/1336662531.py:15: FutureWarning: Pass y=[ 0.          0.          0.         ... -0.00100708 -0.00100708\n",
      " -0.00100708] as keyword args. From version 0.10 passing these as positional arguments will result in an error\n",
      "  mel=np.mean(librosa.feature.melspectrogram(X, sr=sample_rate).T,axis=0)\n",
      "/tmp/ipykernel_15993/1336662531.py:15: FutureWarning: Pass y=[-6.1035156e-05  3.0517578e-05  3.0517578e-05 ...  6.1035156e-05\n",
      " -3.0517578e-05 -9.1552734e-05] as keyword args. From version 0.10 passing these as positional arguments will result in an error\n",
      "  mel=np.mean(librosa.feature.melspectrogram(X, sr=sample_rate).T,axis=0)\n"
     ]
    },
    {
     "name": "stdout",
     "output_type": "stream",
     "text": [
      "neutral\n",
      "angry\n",
      "sad\n",
      "sad\n",
      "disgust\n",
      "happy\n",
      "sad\n",
      "calm\n"
     ]
    },
    {
     "name": "stderr",
     "output_type": "stream",
     "text": [
      "/tmp/ipykernel_15993/1336662531.py:15: FutureWarning: Pass y=[-3.0517578e-05  0.0000000e+00  0.0000000e+00 ...  3.0517578e-05\n",
      "  0.0000000e+00  3.0517578e-05] as keyword args. From version 0.10 passing these as positional arguments will result in an error\n",
      "  mel=np.mean(librosa.feature.melspectrogram(X, sr=sample_rate).T,axis=0)\n",
      "/tmp/ipykernel_15993/1336662531.py:15: FutureWarning: Pass y=[-9.1552734e-05 -9.1552734e-05 -9.1552734e-05 ...  0.0000000e+00\n",
      "  0.0000000e+00  0.0000000e+00] as keyword args. From version 0.10 passing these as positional arguments will result in an error\n",
      "  mel=np.mean(librosa.feature.melspectrogram(X, sr=sample_rate).T,axis=0)\n"
     ]
    },
    {
     "name": "stdout",
     "output_type": "stream",
     "text": [
      "fearful\n",
      "disgust\n",
      "angry\n",
      "angry\n",
      "disgust\n",
      "disgust\n"
     ]
    },
    {
     "name": "stderr",
     "output_type": "stream",
     "text": [
      "/tmp/ipykernel_15993/1336662531.py:15: FutureWarning: Pass y=[ 0.0000000e+00  3.0517578e-05  0.0000000e+00 ... -3.0517578e-05\n",
      " -3.0517578e-05 -3.0517578e-05] as keyword args. From version 0.10 passing these as positional arguments will result in an error\n",
      "  mel=np.mean(librosa.feature.melspectrogram(X, sr=sample_rate).T,axis=0)\n",
      "/tmp/ipykernel_15993/1336662531.py:15: FutureWarning: Pass y=[0.0000000e+00 0.0000000e+00 0.0000000e+00 ... 9.1552734e-05 3.0517578e-05\n",
      " 3.0517578e-05] as keyword args. From version 0.10 passing these as positional arguments will result in an error\n",
      "  mel=np.mean(librosa.feature.melspectrogram(X, sr=sample_rate).T,axis=0)\n"
     ]
    },
    {
     "name": "stdout",
     "output_type": "stream",
     "text": [
      "disgust\n",
      "calm\n",
      "sad\n",
      "surprised\n",
      "calm\n",
      "disgust\n"
     ]
    },
    {
     "name": "stderr",
     "output_type": "stream",
     "text": [
      "/tmp/ipykernel_15993/1336662531.py:15: FutureWarning: Pass y=[ 0.0000000e+00 -3.0517578e-05 -3.0517578e-05 ... -3.0517578e-04\n",
      " -2.4414062e-04 -2.4414062e-04] as keyword args. From version 0.10 passing these as positional arguments will result in an error\n",
      "  mel=np.mean(librosa.feature.melspectrogram(X, sr=sample_rate).T,axis=0)\n"
     ]
    },
    {
     "name": "stdout",
     "output_type": "stream",
     "text": [
      "surprised\n",
      "calm\n",
      "calm\n",
      "sad\n",
      "neutral\n",
      "neutral\n",
      "angry\n",
      "neutral\n",
      "happy\n",
      "calm\n",
      "neutral\n",
      "fearful\n",
      "disgust\n",
      "disgust\n",
      "sad\n",
      "disgust\n",
      "angry\n",
      "sad\n",
      "fearful\n",
      "calm\n"
     ]
    },
    {
     "name": "stderr",
     "output_type": "stream",
     "text": [
      "/tmp/ipykernel_15993/1336662531.py:15: FutureWarning: Pass y=[3.0517578e-05 6.1035156e-05 6.1035156e-05 ... 0.0000000e+00 0.0000000e+00\n",
      " 3.0517578e-05] as keyword args. From version 0.10 passing these as positional arguments will result in an error\n",
      "  mel=np.mean(librosa.feature.melspectrogram(X, sr=sample_rate).T,axis=0)\n",
      "/tmp/ipykernel_15993/1336662531.py:15: FutureWarning: Pass y=[0.         0.         0.         ... 0.00012207 0.00012207 0.00012207] as keyword args. From version 0.10 passing these as positional arguments will result in an error\n",
      "  mel=np.mean(librosa.feature.melspectrogram(X, sr=sample_rate).T,axis=0)\n"
     ]
    },
    {
     "name": "stdout",
     "output_type": "stream",
     "text": [
      "happy\n",
      "sad\n",
      "angry\n",
      "surprised\n",
      "angry\n",
      "happy\n",
      "angry\n",
      "happy\n"
     ]
    },
    {
     "name": "stderr",
     "output_type": "stream",
     "text": [
      "/tmp/ipykernel_15993/1336662531.py:15: FutureWarning: Pass y=[ 0.0000000e+00 -3.0517578e-05 -3.0517578e-05 ...  6.1035156e-05\n",
      "  9.1552734e-05  9.1552734e-05] as keyword args. From version 0.10 passing these as positional arguments will result in an error\n",
      "  mel=np.mean(librosa.feature.melspectrogram(X, sr=sample_rate).T,axis=0)\n",
      "/tmp/ipykernel_15993/1336662531.py:15: FutureWarning: Pass y=[-6.1035156e-05 -3.0517578e-05 -6.1035156e-05 ... -3.3569336e-04\n",
      " -3.9672852e-04 -4.2724609e-04] as keyword args. From version 0.10 passing these as positional arguments will result in an error\n",
      "  mel=np.mean(librosa.feature.melspectrogram(X, sr=sample_rate).T,axis=0)\n"
     ]
    },
    {
     "name": "stdout",
     "output_type": "stream",
     "text": [
      "calm\n",
      "disgust\n",
      "surprised\n",
      "calm\n"
     ]
    },
    {
     "name": "stderr",
     "output_type": "stream",
     "text": [
      "/tmp/ipykernel_15993/1336662531.py:15: FutureWarning: Pass y=[ 6.1035156e-05 -2.4414062e-04 -3.0517578e-05 ...  0.0000000e+00\n",
      "  0.0000000e+00  0.0000000e+00] as keyword args. From version 0.10 passing these as positional arguments will result in an error\n",
      "  mel=np.mean(librosa.feature.melspectrogram(X, sr=sample_rate).T,axis=0)\n",
      "/tmp/ipykernel_15993/1336662531.py:15: FutureWarning: Pass y=[6.1035156e-05 9.1552734e-05 9.1552734e-05 ... 0.0000000e+00 0.0000000e+00\n",
      " 0.0000000e+00] as keyword args. From version 0.10 passing these as positional arguments will result in an error\n",
      "  mel=np.mean(librosa.feature.melspectrogram(X, sr=sample_rate).T,axis=0)\n",
      "/tmp/ipykernel_15993/1336662531.py:15: FutureWarning: Pass y=[6.1035156e-05 6.1035156e-05 6.1035156e-05 ... 9.1552734e-05 9.1552734e-05\n",
      " 6.1035156e-05] as keyword args. From version 0.10 passing these as positional arguments will result in an error\n",
      "  mel=np.mean(librosa.feature.melspectrogram(X, sr=sample_rate).T,axis=0)\n",
      "/tmp/ipykernel_15993/1336662531.py:15: FutureWarning: Pass y=[ 9.1552734e-05  9.1552734e-05  9.1552734e-05 ... -1.5258789e-04\n",
      " -1.5258789e-04 -1.2207031e-04] as keyword args. From version 0.10 passing these as positional arguments will result in an error\n",
      "  mel=np.mean(librosa.feature.melspectrogram(X, sr=sample_rate).T,axis=0)\n",
      "/tmp/ipykernel_15993/1336662531.py:15: FutureWarning: Pass y=[ 0.0000000e+00 -3.0517578e-05 -1.2207031e-04 ... -6.1035156e-05\n",
      " -6.1035156e-05 -3.0517578e-05] as keyword args. From version 0.10 passing these as positional arguments will result in an error\n",
      "  mel=np.mean(librosa.feature.melspectrogram(X, sr=sample_rate).T,axis=0)\n"
     ]
    },
    {
     "name": "stdout",
     "output_type": "stream",
     "text": [
      "angry\n",
      "calm\n",
      "calm\n",
      "calm\n",
      "surprised\n",
      "fearful\n"
     ]
    },
    {
     "name": "stderr",
     "output_type": "stream",
     "text": [
      "/tmp/ipykernel_15993/1336662531.py:15: FutureWarning: Pass y=[9.1552734e-05 6.1035156e-05 0.0000000e+00 ... 0.0000000e+00 0.0000000e+00\n",
      " 0.0000000e+00] as keyword args. From version 0.10 passing these as positional arguments will result in an error\n",
      "  mel=np.mean(librosa.feature.melspectrogram(X, sr=sample_rate).T,axis=0)\n",
      "/tmp/ipykernel_15993/1336662531.py:15: FutureWarning: Pass y=[-6.1035156e-05  0.0000000e+00  3.0517578e-05 ...  2.7465820e-04\n",
      "  2.4414062e-04  2.7465820e-04] as keyword args. From version 0.10 passing these as positional arguments will result in an error\n",
      "  mel=np.mean(librosa.feature.melspectrogram(X, sr=sample_rate).T,axis=0)\n"
     ]
    },
    {
     "name": "stdout",
     "output_type": "stream",
     "text": [
      "happy\n",
      "disgust\n",
      "fearful\n",
      "surprised\n",
      "disgust\n",
      "sad\n",
      "surprised\n",
      "calm\n"
     ]
    },
    {
     "name": "stderr",
     "output_type": "stream",
     "text": [
      "/tmp/ipykernel_15993/1336662531.py:15: FutureWarning: Pass y=[9.1552734e-05 9.1552734e-05 9.1552734e-05 ... 2.7465820e-04 2.4414062e-04\n",
      " 2.4414062e-04] as keyword args. From version 0.10 passing these as positional arguments will result in an error\n",
      "  mel=np.mean(librosa.feature.melspectrogram(X, sr=sample_rate).T,axis=0)\n",
      "/tmp/ipykernel_15993/1336662531.py:15: FutureWarning: Pass y=[ 3.0517578e-04 -3.0517578e-05  6.1035156e-05 ... -1.0375977e-03\n",
      " -9.7656250e-04 -1.0375977e-03] as keyword args. From version 0.10 passing these as positional arguments will result in an error\n",
      "  mel=np.mean(librosa.feature.melspectrogram(X, sr=sample_rate).T,axis=0)\n"
     ]
    },
    {
     "name": "stdout",
     "output_type": "stream",
     "text": [
      "sad\n",
      "happy\n",
      "fearful\n",
      "disgust\n"
     ]
    },
    {
     "name": "stderr",
     "output_type": "stream",
     "text": [
      "/tmp/ipykernel_15993/1336662531.py:15: FutureWarning: Pass y=[ 2.1362305e-04  7.9345703e-04 -1.2207031e-04 ...  6.1035156e-05\n",
      "  6.1035156e-05  0.0000000e+00] as keyword args. From version 0.10 passing these as positional arguments will result in an error\n",
      "  mel=np.mean(librosa.feature.melspectrogram(X, sr=sample_rate).T,axis=0)\n"
     ]
    },
    {
     "name": "stdout",
     "output_type": "stream",
     "text": [
      "angry\n",
      "happy\n",
      "angry\n",
      "sad\n",
      "happy\n",
      "surprised\n",
      "surprised\n",
      "sad\n",
      "neutral\n",
      "fearful\n"
     ]
    },
    {
     "name": "stderr",
     "output_type": "stream",
     "text": [
      "/tmp/ipykernel_15993/1336662531.py:15: FutureWarning: Pass y=[-3.0517578e-05  4.2724609e-04  6.4086914e-04 ...  1.2207031e-04\n",
      "  9.1552734e-05  1.5258789e-04] as keyword args. From version 0.10 passing these as positional arguments will result in an error\n",
      "  mel=np.mean(librosa.feature.melspectrogram(X, sr=sample_rate).T,axis=0)\n",
      "/tmp/ipykernel_15993/1336662531.py:15: FutureWarning: Pass y=[0.0000000e+00 0.0000000e+00 0.0000000e+00 ... 0.0000000e+00 6.1035156e-05\n",
      " 3.0517578e-05] as keyword args. From version 0.10 passing these as positional arguments will result in an error\n",
      "  mel=np.mean(librosa.feature.melspectrogram(X, sr=sample_rate).T,axis=0)\n"
     ]
    },
    {
     "name": "stdout",
     "output_type": "stream",
     "text": [
      "surprised\n",
      "neutral\n",
      "angry\n",
      "fearful\n",
      "sad\n",
      "fearful\n"
     ]
    },
    {
     "name": "stderr",
     "output_type": "stream",
     "text": [
      "/tmp/ipykernel_15993/1336662531.py:15: FutureWarning: Pass y=[-6.1035156e-04 -5.7983398e-04 -5.7983398e-04 ... -3.0517578e-05\n",
      "  0.0000000e+00  0.0000000e+00] as keyword args. From version 0.10 passing these as positional arguments will result in an error\n",
      "  mel=np.mean(librosa.feature.melspectrogram(X, sr=sample_rate).T,axis=0)\n"
     ]
    },
    {
     "name": "stdout",
     "output_type": "stream",
     "text": [
      "disgust\n",
      "surprised\n",
      "disgust\n"
     ]
    },
    {
     "name": "stderr",
     "output_type": "stream",
     "text": [
      "/tmp/ipykernel_15993/1336662531.py:15: FutureWarning: Pass y=[ 0.0000000e+00  0.0000000e+00  0.0000000e+00 ...  0.0000000e+00\n",
      " -6.1035156e-05 -3.0517578e-05] as keyword args. From version 0.10 passing these as positional arguments will result in an error\n",
      "  mel=np.mean(librosa.feature.melspectrogram(X, sr=sample_rate).T,axis=0)\n"
     ]
    },
    {
     "name": "stdout",
     "output_type": "stream",
     "text": [
      "surprised\n",
      "angry\n",
      "surprised\n",
      "sad\n",
      "happy\n",
      "surprised\n",
      "surprised\n",
      "disgust\n",
      "fearful\n",
      "fearful\n",
      "surprised\n",
      "fearful\n",
      "surprised\n",
      "happy\n",
      "happy\n",
      "fearful\n",
      "happy\n",
      "disgust\n"
     ]
    },
    {
     "name": "stderr",
     "output_type": "stream",
     "text": [
      "/tmp/ipykernel_15993/1336662531.py:15: FutureWarning: Pass y=[ 0.0000000e+00  0.0000000e+00  0.0000000e+00 ... -6.1035156e-05\n",
      " -1.2207031e-04 -3.0517578e-05] as keyword args. From version 0.10 passing these as positional arguments will result in an error\n",
      "  mel=np.mean(librosa.feature.melspectrogram(X, sr=sample_rate).T,axis=0)\n",
      "/tmp/ipykernel_15993/1336662531.py:15: FutureWarning: Pass y=[0.0000000e+00 0.0000000e+00 0.0000000e+00 ... 6.1035156e-05 6.1035156e-05\n",
      " 3.0517578e-05] as keyword args. From version 0.10 passing these as positional arguments will result in an error\n",
      "  mel=np.mean(librosa.feature.melspectrogram(X, sr=sample_rate).T,axis=0)\n"
     ]
    },
    {
     "name": "stdout",
     "output_type": "stream",
     "text": [
      "disgust\n",
      "disgust\n",
      "sad\n",
      "disgust\n",
      "calm\n",
      "angry\n",
      "sad\n",
      "angry\n",
      "angry\n",
      "fearful\n",
      "angry\n",
      "calm\n",
      "sad\n",
      "sad\n",
      "happy\n",
      "fearful\n",
      "angry\n",
      "calm\n",
      "disgust\n",
      "calm\n",
      "neutral\n",
      "happy\n",
      "sad\n",
      "happy\n",
      "fearful\n",
      "angry\n",
      "disgust\n",
      "neutral\n",
      "sad\n",
      "calm\n",
      "calm\n",
      "neutral\n",
      "happy\n",
      "calm\n",
      "sad\n",
      "surprised\n",
      "calm\n",
      "angry\n",
      "fearful\n",
      "neutral\n",
      "happy\n",
      "calm\n",
      "angry\n",
      "happy\n",
      "sad\n",
      "calm\n"
     ]
    },
    {
     "name": "stderr",
     "output_type": "stream",
     "text": [
      "/tmp/ipykernel_15993/1336662531.py:15: FutureWarning: Pass y=[ 3.0517578e-05  3.0517578e-05  3.0517578e-05 ...  0.0000000e+00\n",
      " -3.0517578e-05 -3.0517578e-05] as keyword args. From version 0.10 passing these as positional arguments will result in an error\n",
      "  mel=np.mean(librosa.feature.melspectrogram(X, sr=sample_rate).T,axis=0)\n",
      "/tmp/ipykernel_15993/1336662531.py:15: FutureWarning: Pass y=[-9.1552734e-05 -9.1552734e-05 -6.1035156e-05 ...  3.0517578e-05\n",
      "  6.1035156e-05  3.0517578e-05] as keyword args. From version 0.10 passing these as positional arguments will result in an error\n",
      "  mel=np.mean(librosa.feature.melspectrogram(X, sr=sample_rate).T,axis=0)\n",
      "/tmp/ipykernel_15993/1336662531.py:15: FutureWarning: Pass y=[ 3.0517578e-05  0.0000000e+00  3.0517578e-05 ...  0.0000000e+00\n",
      " -9.1552734e-05  3.0517578e-05] as keyword args. From version 0.10 passing these as positional arguments will result in an error\n",
      "  mel=np.mean(librosa.feature.melspectrogram(X, sr=sample_rate).T,axis=0)\n",
      "/tmp/ipykernel_15993/1336662531.py:15: FutureWarning: Pass y=[ 0.0000000e+00  0.0000000e+00  0.0000000e+00 ... -9.1552734e-05\n",
      " -6.1035156e-05 -6.1035156e-05] as keyword args. From version 0.10 passing these as positional arguments will result in an error\n",
      "  mel=np.mean(librosa.feature.melspectrogram(X, sr=sample_rate).T,axis=0)\n"
     ]
    },
    {
     "name": "stdout",
     "output_type": "stream",
     "text": [
      "calm\n",
      "fearful\n",
      "angry\n",
      "angry\n",
      "disgust\n"
     ]
    },
    {
     "name": "stderr",
     "output_type": "stream",
     "text": [
      "/tmp/ipykernel_15993/1336662531.py:15: FutureWarning: Pass y=[ 6.1035156e-05 -6.1035156e-05  2.1362305e-04 ...  6.1035156e-05\n",
      "  6.1035156e-05  3.0517578e-05] as keyword args. From version 0.10 passing these as positional arguments will result in an error\n",
      "  mel=np.mean(librosa.feature.melspectrogram(X, sr=sample_rate).T,axis=0)\n",
      "/tmp/ipykernel_15993/1336662531.py:15: FutureWarning: Pass y=[-3.0517578e-05 -3.0517578e-05 -3.0517578e-05 ...  0.0000000e+00\n",
      " -3.0517578e-05 -3.0517578e-05] as keyword args. From version 0.10 passing these as positional arguments will result in an error\n",
      "  mel=np.mean(librosa.feature.melspectrogram(X, sr=sample_rate).T,axis=0)\n",
      "/tmp/ipykernel_15993/1336662531.py:15: FutureWarning: Pass y=[-3.0517578e-05  0.0000000e+00  1.2207031e-04 ...  6.4086914e-04\n",
      "  6.4086914e-04  3.9672852e-04] as keyword args. From version 0.10 passing these as positional arguments will result in an error\n",
      "  mel=np.mean(librosa.feature.melspectrogram(X, sr=sample_rate).T,axis=0)\n",
      "/tmp/ipykernel_15993/1336662531.py:15: FutureWarning: Pass y=[-6.1035156e-05 -6.1035156e-05 -3.0517578e-05 ... -3.0517578e-05\n",
      "  0.0000000e+00 -3.0517578e-05] as keyword args. From version 0.10 passing these as positional arguments will result in an error\n",
      "  mel=np.mean(librosa.feature.melspectrogram(X, sr=sample_rate).T,axis=0)\n",
      "/tmp/ipykernel_15993/1336662531.py:15: FutureWarning: Pass y=[ 0.0000000e+00  0.0000000e+00  6.1035156e-05 ... -6.1035156e-05\n",
      " -9.1552734e-05  0.0000000e+00] as keyword args. From version 0.10 passing these as positional arguments will result in an error\n",
      "  mel=np.mean(librosa.feature.melspectrogram(X, sr=sample_rate).T,axis=0)\n"
     ]
    },
    {
     "name": "stdout",
     "output_type": "stream",
     "text": [
      "happy\n",
      "angry\n",
      "surprised\n",
      "calm\n",
      "disgust\n"
     ]
    },
    {
     "name": "stderr",
     "output_type": "stream",
     "text": [
      "/tmp/ipykernel_15993/1336662531.py:15: FutureWarning: Pass y=[ 3.0517578e-05  6.1035156e-05  6.1035156e-05 ... -1.2207031e-04\n",
      " -6.1035156e-05  0.0000000e+00] as keyword args. From version 0.10 passing these as positional arguments will result in an error\n",
      "  mel=np.mean(librosa.feature.melspectrogram(X, sr=sample_rate).T,axis=0)\n",
      "/tmp/ipykernel_15993/1336662531.py:15: FutureWarning: Pass y=[-3.0517578e-05 -3.0517578e-05  0.0000000e+00 ...  0.0000000e+00\n",
      "  0.0000000e+00  3.0517578e-05] as keyword args. From version 0.10 passing these as positional arguments will result in an error\n",
      "  mel=np.mean(librosa.feature.melspectrogram(X, sr=sample_rate).T,axis=0)\n",
      "/tmp/ipykernel_15993/1336662531.py:15: FutureWarning: Pass y=[ 2.4414062e-04 -3.0517578e-05 -1.2207031e-04 ...  2.4414062e-04\n",
      "  1.2207031e-04  9.1552734e-05] as keyword args. From version 0.10 passing these as positional arguments will result in an error\n",
      "  mel=np.mean(librosa.feature.melspectrogram(X, sr=sample_rate).T,axis=0)\n",
      "/tmp/ipykernel_15993/1336662531.py:15: FutureWarning: Pass y=[ 9.1552734e-05  1.2207031e-04  9.1552734e-05 ... -3.0517578e-05\n",
      "  0.0000000e+00  0.0000000e+00] as keyword args. From version 0.10 passing these as positional arguments will result in an error\n",
      "  mel=np.mean(librosa.feature.melspectrogram(X, sr=sample_rate).T,axis=0)\n"
     ]
    },
    {
     "name": "stdout",
     "output_type": "stream",
     "text": [
      "happy\n",
      "neutral\n",
      "angry\n",
      "sad\n",
      "neutral\n",
      "sad\n",
      "calm\n",
      "surprised\n",
      "angry\n",
      "fearful\n",
      "fearful\n",
      "fearful\n",
      "disgust\n",
      "happy\n"
     ]
    },
    {
     "name": "stderr",
     "output_type": "stream",
     "text": [
      "/tmp/ipykernel_15993/1336662531.py:15: FutureWarning: Pass y=[ 3.0517578e-05  3.0517578e-05  3.0517578e-05 ...  0.0000000e+00\n",
      " -3.0517578e-05  0.0000000e+00] as keyword args. From version 0.10 passing these as positional arguments will result in an error\n",
      "  mel=np.mean(librosa.feature.melspectrogram(X, sr=sample_rate).T,axis=0)\n",
      "/tmp/ipykernel_15993/1336662531.py:15: FutureWarning: Pass y=[ 3.0517578e-05  0.0000000e+00  0.0000000e+00 ... -6.1035156e-05\n",
      " -6.1035156e-05 -6.1035156e-05] as keyword args. From version 0.10 passing these as positional arguments will result in an error\n",
      "  mel=np.mean(librosa.feature.melspectrogram(X, sr=sample_rate).T,axis=0)\n",
      "/tmp/ipykernel_15993/1336662531.py:15: FutureWarning: Pass y=[ 3.0517578e-05  3.0517578e-05  3.0517578e-05 ... -3.0517578e-05\n",
      " -3.0517578e-05 -3.0517578e-05] as keyword args. From version 0.10 passing these as positional arguments will result in an error\n",
      "  mel=np.mean(librosa.feature.melspectrogram(X, sr=sample_rate).T,axis=0)\n",
      "/tmp/ipykernel_15993/1336662531.py:15: FutureWarning: Pass y=[-6.1035156e-05 -3.0517578e-05 -6.1035156e-05 ...  6.1035156e-05\n",
      "  6.1035156e-05  3.0517578e-05] as keyword args. From version 0.10 passing these as positional arguments will result in an error\n",
      "  mel=np.mean(librosa.feature.melspectrogram(X, sr=sample_rate).T,axis=0)\n",
      "/tmp/ipykernel_15993/1336662531.py:15: FutureWarning: Pass y=[-2.7465820e-04  1.8310547e-04 -6.1035156e-05 ...  9.1552734e-05\n",
      "  1.2207031e-04  9.1552734e-05] as keyword args. From version 0.10 passing these as positional arguments will result in an error\n",
      "  mel=np.mean(librosa.feature.melspectrogram(X, sr=sample_rate).T,axis=0)\n"
     ]
    },
    {
     "name": "stdout",
     "output_type": "stream",
     "text": [
      "neutral\n",
      "sad\n",
      "fearful\n",
      "sad\n",
      "surprised\n",
      "calm\n",
      "happy\n",
      "surprised\n",
      "disgust\n"
     ]
    },
    {
     "name": "stderr",
     "output_type": "stream",
     "text": [
      "/tmp/ipykernel_15993/1336662531.py:15: FutureWarning: Pass y=[6.1035156e-05 6.1035156e-05 6.1035156e-05 ... 0.0000000e+00 6.1035156e-05\n",
      " 6.1035156e-05] as keyword args. From version 0.10 passing these as positional arguments will result in an error\n",
      "  mel=np.mean(librosa.feature.melspectrogram(X, sr=sample_rate).T,axis=0)\n",
      "/tmp/ipykernel_15993/1336662531.py:15: FutureWarning: Pass y=[ 0.0000000e+00  9.1552734e-05  1.8310547e-04 ... -1.8310547e-04\n",
      " -6.1035156e-05  6.1035156e-05] as keyword args. From version 0.10 passing these as positional arguments will result in an error\n",
      "  mel=np.mean(librosa.feature.melspectrogram(X, sr=sample_rate).T,axis=0)\n"
     ]
    },
    {
     "name": "stdout",
     "output_type": "stream",
     "text": [
      "happy\n",
      "surprised\n",
      "surprised\n",
      "surprised\n",
      "disgust\n",
      "sad\n",
      "fearful\n"
     ]
    },
    {
     "name": "stderr",
     "output_type": "stream",
     "text": [
      "/tmp/ipykernel_15993/1336662531.py:15: FutureWarning: Pass y=[-3.0517578e-05 -6.1035156e-05 -6.1035156e-05 ...  0.0000000e+00\n",
      "  0.0000000e+00  3.0517578e-05] as keyword args. From version 0.10 passing these as positional arguments will result in an error\n",
      "  mel=np.mean(librosa.feature.melspectrogram(X, sr=sample_rate).T,axis=0)\n",
      "/tmp/ipykernel_15993/1336662531.py:15: FutureWarning: Pass y=[3.0517578e-05 3.0517578e-05 3.0517578e-05 ... 1.2207031e-04 1.2207031e-04\n",
      " 1.2207031e-04] as keyword args. From version 0.10 passing these as positional arguments will result in an error\n",
      "  mel=np.mean(librosa.feature.melspectrogram(X, sr=sample_rate).T,axis=0)\n",
      "/tmp/ipykernel_15993/1336662531.py:15: FutureWarning: Pass y=[ 3.9672852e-04 -9.1552734e-05 -1.8310547e-04 ... -9.1552734e-05\n",
      " -9.1552734e-05 -9.1552734e-05] as keyword args. From version 0.10 passing these as positional arguments will result in an error\n",
      "  mel=np.mean(librosa.feature.melspectrogram(X, sr=sample_rate).T,axis=0)\n"
     ]
    },
    {
     "name": "stdout",
     "output_type": "stream",
     "text": [
      "fearful\n",
      "angry\n",
      "calm\n",
      "disgust\n",
      "fearful\n"
     ]
    },
    {
     "name": "stderr",
     "output_type": "stream",
     "text": [
      "/tmp/ipykernel_15993/1336662531.py:15: FutureWarning: Pass y=[ 0.0000000e+00  0.0000000e+00  3.0517578e-05 ... -1.2207031e-04\n",
      " -9.1552734e-05 -9.1552734e-05] as keyword args. From version 0.10 passing these as positional arguments will result in an error\n",
      "  mel=np.mean(librosa.feature.melspectrogram(X, sr=sample_rate).T,axis=0)\n",
      "/tmp/ipykernel_15993/1336662531.py:15: FutureWarning: Pass y=[ 3.0517578e-05  0.0000000e+00  3.0517578e-05 ... -2.1362305e-04\n",
      " -1.2207031e-04  9.1552734e-05] as keyword args. From version 0.10 passing these as positional arguments will result in an error\n",
      "  mel=np.mean(librosa.feature.melspectrogram(X, sr=sample_rate).T,axis=0)\n",
      "/tmp/ipykernel_15993/1336662531.py:15: FutureWarning: Pass y=[ 0.0000000e+00  0.0000000e+00  3.0517578e-05 ...  3.9672852e-04\n",
      "  4.5776367e-04 -2.7465820e-04] as keyword args. From version 0.10 passing these as positional arguments will result in an error\n",
      "  mel=np.mean(librosa.feature.melspectrogram(X, sr=sample_rate).T,axis=0)\n",
      "/tmp/ipykernel_15993/1336662531.py:15: FutureWarning: Pass y=[ 2.7465820e-04  1.2207031e-04 -1.5258789e-04 ...  9.1552734e-05\n",
      "  3.0517578e-05  6.1035156e-05] as keyword args. From version 0.10 passing these as positional arguments will result in an error\n",
      "  mel=np.mean(librosa.feature.melspectrogram(X, sr=sample_rate).T,axis=0)\n"
     ]
    },
    {
     "name": "stdout",
     "output_type": "stream",
     "text": [
      "disgust\n",
      "surprised\n",
      "neutral\n",
      "sad\n",
      "sad\n",
      "angry\n",
      "happy\n",
      "calm\n",
      "disgust\n",
      "sad\n",
      "calm\n",
      "angry\n",
      "calm\n",
      "fearful\n",
      "fearful\n"
     ]
    },
    {
     "name": "stderr",
     "output_type": "stream",
     "text": [
      "/tmp/ipykernel_15993/1336662531.py:15: FutureWarning: Pass y=[6.1035156e-05 3.0517578e-05 1.2207031e-04 ... 0.0000000e+00 0.0000000e+00\n",
      " 0.0000000e+00] as keyword args. From version 0.10 passing these as positional arguments will result in an error\n",
      "  mel=np.mean(librosa.feature.melspectrogram(X, sr=sample_rate).T,axis=0)\n",
      "/tmp/ipykernel_15993/1336662531.py:15: FutureWarning: Pass y=[0.         0.         0.         ... 0.00027466 0.00024414 0.00024414] as keyword args. From version 0.10 passing these as positional arguments will result in an error\n",
      "  mel=np.mean(librosa.feature.melspectrogram(X, sr=sample_rate).T,axis=0)\n",
      "/tmp/ipykernel_15993/1336662531.py:15: FutureWarning: Pass y=[-9.1552734e-05 -9.1552734e-05 -1.5258789e-04 ...  1.2207031e-04\n",
      "  9.1552734e-05  1.2207031e-04] as keyword args. From version 0.10 passing these as positional arguments will result in an error\n",
      "  mel=np.mean(librosa.feature.melspectrogram(X, sr=sample_rate).T,axis=0)\n"
     ]
    },
    {
     "name": "stdout",
     "output_type": "stream",
     "text": [
      "calm\n",
      "happy\n",
      "neutral\n",
      "fearful\n",
      "sad\n",
      "surprised\n",
      "surprised\n",
      "calm\n"
     ]
    },
    {
     "name": "stderr",
     "output_type": "stream",
     "text": [
      "/tmp/ipykernel_15993/1336662531.py:15: FutureWarning: Pass y=[6.1035156e-05 6.1035156e-05 9.1552734e-05 ... 0.0000000e+00 0.0000000e+00\n",
      " 0.0000000e+00] as keyword args. From version 0.10 passing these as positional arguments will result in an error\n",
      "  mel=np.mean(librosa.feature.melspectrogram(X, sr=sample_rate).T,axis=0)\n",
      "/tmp/ipykernel_15993/1336662531.py:15: FutureWarning: Pass y=[0.00027466 0.00027466 0.00027466 ... 0.00018311 0.00018311 0.00012207] as keyword args. From version 0.10 passing these as positional arguments will result in an error\n",
      "  mel=np.mean(librosa.feature.melspectrogram(X, sr=sample_rate).T,axis=0)\n",
      "/tmp/ipykernel_15993/1336662531.py:15: FutureWarning: Pass y=[9.1552734e-05 9.1552734e-05 6.1035156e-05 ... 0.0000000e+00 0.0000000e+00\n",
      " 0.0000000e+00] as keyword args. From version 0.10 passing these as positional arguments will result in an error\n",
      "  mel=np.mean(librosa.feature.melspectrogram(X, sr=sample_rate).T,axis=0)\n"
     ]
    },
    {
     "name": "stdout",
     "output_type": "stream",
     "text": [
      "happy\n",
      "angry\n",
      "sad\n",
      "neutral\n",
      "neutral\n",
      "angry\n",
      "neutral\n",
      "disgust\n",
      "fearful\n",
      "angry\n",
      "happy\n"
     ]
    },
    {
     "name": "stderr",
     "output_type": "stream",
     "text": [
      "/tmp/ipykernel_15993/1336662531.py:15: FutureWarning: Pass y=[ 0.00085449  0.00064087 -0.00012207 ... -0.00021362 -0.00024414\n",
      " -0.00024414] as keyword args. From version 0.10 passing these as positional arguments will result in an error\n",
      "  mel=np.mean(librosa.feature.melspectrogram(X, sr=sample_rate).T,axis=0)\n",
      "/tmp/ipykernel_15993/1336662531.py:15: FutureWarning: Pass y=[1.8310547e-04 1.5258789e-04 3.0517578e-05 ... 9.1552734e-05 9.1552734e-05\n",
      " 9.1552734e-05] as keyword args. From version 0.10 passing these as positional arguments will result in an error\n",
      "  mel=np.mean(librosa.feature.melspectrogram(X, sr=sample_rate).T,axis=0)\n",
      "/tmp/ipykernel_15993/1336662531.py:15: FutureWarning: Pass y=[-3.3569336e-04 -9.1552734e-05  3.9672852e-04 ...  1.5258789e-04\n",
      "  1.2207031e-04  1.2207031e-04] as keyword args. From version 0.10 passing these as positional arguments will result in an error\n",
      "  mel=np.mean(librosa.feature.melspectrogram(X, sr=sample_rate).T,axis=0)\n"
     ]
    },
    {
     "name": "stdout",
     "output_type": "stream",
     "text": [
      "happy\n",
      "angry\n",
      "disgust\n",
      "sad\n",
      "fearful\n"
     ]
    },
    {
     "name": "stderr",
     "output_type": "stream",
     "text": [
      "/tmp/ipykernel_15993/1336662531.py:15: FutureWarning: Pass y=[6.1035156e-05 9.1552734e-05 6.1035156e-05 ... 0.0000000e+00 0.0000000e+00\n",
      " 0.0000000e+00] as keyword args. From version 0.10 passing these as positional arguments will result in an error\n",
      "  mel=np.mean(librosa.feature.melspectrogram(X, sr=sample_rate).T,axis=0)\n",
      "/tmp/ipykernel_15993/1336662531.py:15: FutureWarning: Pass y=[ 1.8310547e-04  1.8310547e-04  6.1035156e-05 ... -3.0517578e-05\n",
      "  0.0000000e+00 -3.0517578e-05] as keyword args. From version 0.10 passing these as positional arguments will result in an error\n",
      "  mel=np.mean(librosa.feature.melspectrogram(X, sr=sample_rate).T,axis=0)\n",
      "/tmp/ipykernel_15993/1336662531.py:15: FutureWarning: Pass y=[-1.5258789e-04 -1.2207031e-04 -9.1552734e-05 ... -3.3569336e-04\n",
      " -3.6621094e-04 -3.3569336e-04] as keyword args. From version 0.10 passing these as positional arguments will result in an error\n",
      "  mel=np.mean(librosa.feature.melspectrogram(X, sr=sample_rate).T,axis=0)\n"
     ]
    },
    {
     "name": "stdout",
     "output_type": "stream",
     "text": [
      "happy\n",
      "fearful\n",
      "surprised\n",
      "calm\n"
     ]
    },
    {
     "name": "stderr",
     "output_type": "stream",
     "text": [
      "/tmp/ipykernel_15993/1336662531.py:15: FutureWarning: Pass y=[ 9.1552734e-05  6.1035156e-05  9.1552734e-05 ... -3.0517578e-04\n",
      " -3.0517578e-04 -3.0517578e-04] as keyword args. From version 0.10 passing these as positional arguments will result in an error\n",
      "  mel=np.mean(librosa.feature.melspectrogram(X, sr=sample_rate).T,axis=0)\n",
      "/tmp/ipykernel_15993/1336662531.py:15: FutureWarning: Pass y=[ 0.0000000e+00  3.0517578e-05  0.0000000e+00 ... -9.1552734e-05\n",
      " -6.1035156e-05 -9.1552734e-05] as keyword args. From version 0.10 passing these as positional arguments will result in an error\n",
      "  mel=np.mean(librosa.feature.melspectrogram(X, sr=sample_rate).T,axis=0)\n",
      "/tmp/ipykernel_15993/1336662531.py:15: FutureWarning: Pass y=[ 1.2207031e-04  1.2207031e-04  1.5258789e-04 ... -2.4414062e-04\n",
      " -9.1552734e-05  0.0000000e+00] as keyword args. From version 0.10 passing these as positional arguments will result in an error\n",
      "  mel=np.mean(librosa.feature.melspectrogram(X, sr=sample_rate).T,axis=0)\n",
      "/tmp/ipykernel_15993/1336662531.py:15: FutureWarning: Pass y=[ 9.1552734e-05 -3.0517578e-05 -6.1035156e-05 ...  0.0000000e+00\n",
      "  0.0000000e+00  0.0000000e+00] as keyword args. From version 0.10 passing these as positional arguments will result in an error\n",
      "  mel=np.mean(librosa.feature.melspectrogram(X, sr=sample_rate).T,axis=0)\n"
     ]
    },
    {
     "name": "stdout",
     "output_type": "stream",
     "text": [
      "surprised\n",
      "calm\n",
      "surprised\n",
      "happy\n",
      "disgust\n",
      "sad\n",
      "surprised\n",
      "happy\n",
      "angry\n",
      "calm\n",
      "disgust\n",
      "disgust\n"
     ]
    },
    {
     "name": "stderr",
     "output_type": "stream",
     "text": [
      "/tmp/ipykernel_15993/1336662531.py:15: FutureWarning: Pass y=[ 6.1035156e-05  6.1035156e-05  6.1035156e-05 ... -9.1552734e-05\n",
      " -9.1552734e-05 -6.1035156e-05] as keyword args. From version 0.10 passing these as positional arguments will result in an error\n",
      "  mel=np.mean(librosa.feature.melspectrogram(X, sr=sample_rate).T,axis=0)\n",
      "/tmp/ipykernel_15993/1336662531.py:15: FutureWarning: Pass y=[ 0.00030518 -0.00015259 -0.00039673 ...  0.          0.\n",
      "  0.        ] as keyword args. From version 0.10 passing these as positional arguments will result in an error\n",
      "  mel=np.mean(librosa.feature.melspectrogram(X, sr=sample_rate).T,axis=0)\n",
      "/tmp/ipykernel_15993/1336662531.py:15: FutureWarning: Pass y=[2.7465820e-04 3.0517578e-04 3.0517578e-04 ... 3.0517578e-05 0.0000000e+00\n",
      " 0.0000000e+00] as keyword args. From version 0.10 passing these as positional arguments will result in an error\n",
      "  mel=np.mean(librosa.feature.melspectrogram(X, sr=sample_rate).T,axis=0)\n"
     ]
    },
    {
     "name": "stdout",
     "output_type": "stream",
     "text": [
      "happy\n",
      "fearful\n",
      "sad\n",
      "disgust\n",
      "calm\n"
     ]
    },
    {
     "name": "stderr",
     "output_type": "stream",
     "text": [
      "/tmp/ipykernel_15993/1336662531.py:15: FutureWarning: Pass y=[-2.1362305e-04 -9.1552734e-05  0.0000000e+00 ... -1.2207031e-04\n",
      " -1.5258789e-04 -1.2207031e-04] as keyword args. From version 0.10 passing these as positional arguments will result in an error\n",
      "  mel=np.mean(librosa.feature.melspectrogram(X, sr=sample_rate).T,axis=0)\n",
      "/tmp/ipykernel_15993/1336662531.py:15: FutureWarning: Pass y=[-0.00033569 -0.00021362  0.         ...  0.00021362  0.00021362\n",
      "  0.00021362] as keyword args. From version 0.10 passing these as positional arguments will result in an error\n",
      "  mel=np.mean(librosa.feature.melspectrogram(X, sr=sample_rate).T,axis=0)\n",
      "/tmp/ipykernel_15993/1336662531.py:15: FutureWarning: Pass y=[-6.1035156e-05 -6.1035156e-05 -6.1035156e-05 ...  3.0517578e-05\n",
      "  3.0517578e-05  3.0517578e-05] as keyword args. From version 0.10 passing these as positional arguments will result in an error\n",
      "  mel=np.mean(librosa.feature.melspectrogram(X, sr=sample_rate).T,axis=0)\n",
      "/tmp/ipykernel_15993/1336662531.py:15: FutureWarning: Pass y=[6.1035156e-05 3.0517578e-05 6.1035156e-05 ... 0.0000000e+00 0.0000000e+00\n",
      " 0.0000000e+00] as keyword args. From version 0.10 passing these as positional arguments will result in an error\n",
      "  mel=np.mean(librosa.feature.melspectrogram(X, sr=sample_rate).T,axis=0)\n"
     ]
    },
    {
     "name": "stdout",
     "output_type": "stream",
     "text": [
      "angry\n",
      "surprised\n",
      "disgust\n",
      "sad\n",
      "fearful\n",
      "disgust\n"
     ]
    },
    {
     "name": "stderr",
     "output_type": "stream",
     "text": [
      "/tmp/ipykernel_15993/1336662531.py:15: FutureWarning: Pass y=[-1.8310547e-04 -1.2207031e-04 -3.0517578e-05 ... -1.5258789e-04\n",
      " -2.1362305e-04 -1.8310547e-04] as keyword args. From version 0.10 passing these as positional arguments will result in an error\n",
      "  mel=np.mean(librosa.feature.melspectrogram(X, sr=sample_rate).T,axis=0)\n",
      "/tmp/ipykernel_15993/1336662531.py:15: FutureWarning: Pass y=[6.1035156e-05 3.0517578e-05 6.1035156e-05 ... 9.1552734e-05 1.2207031e-04\n",
      " 9.1552734e-05] as keyword args. From version 0.10 passing these as positional arguments will result in an error\n",
      "  mel=np.mean(librosa.feature.melspectrogram(X, sr=sample_rate).T,axis=0)\n"
     ]
    },
    {
     "name": "stdout",
     "output_type": "stream",
     "text": [
      "angry\n",
      "surprised\n",
      "sad\n",
      "angry\n",
      "happy\n",
      "sad\n",
      "sad\n",
      "surprised\n",
      "angry\n",
      "calm\n",
      "fearful\n",
      "surprised\n",
      "angry\n",
      "neutral\n",
      "calm\n",
      "happy\n",
      "fearful\n",
      "angry\n",
      "surprised\n",
      "happy\n",
      "disgust\n"
     ]
    },
    {
     "name": "stderr",
     "output_type": "stream",
     "text": [
      "/tmp/ipykernel_15993/1336662531.py:15: FutureWarning: Pass y=[ 0.0000000e+00  0.0000000e+00 -3.0517578e-05 ...  0.0000000e+00\n",
      "  0.0000000e+00  3.0517578e-05] as keyword args. From version 0.10 passing these as positional arguments will result in an error\n",
      "  mel=np.mean(librosa.feature.melspectrogram(X, sr=sample_rate).T,axis=0)\n"
     ]
    },
    {
     "name": "stdout",
     "output_type": "stream",
     "text": [
      "angry\n",
      "sad\n",
      "disgust\n",
      "fearful\n",
      "happy\n",
      "sad\n",
      "calm\n",
      "surprised\n",
      "surprised\n",
      "disgust\n",
      "calm\n",
      "sad\n",
      "disgust\n",
      "calm\n",
      "disgust\n"
     ]
    },
    {
     "name": "stderr",
     "output_type": "stream",
     "text": [
      "/tmp/ipykernel_15993/1336662531.py:15: FutureWarning: Pass y=[0.0000000e+00 0.0000000e+00 0.0000000e+00 ... 3.0517578e-05 6.1035156e-05\n",
      " 3.0517578e-05] as keyword args. From version 0.10 passing these as positional arguments will result in an error\n",
      "  mel=np.mean(librosa.feature.melspectrogram(X, sr=sample_rate).T,axis=0)\n",
      "/tmp/ipykernel_15993/1336662531.py:15: FutureWarning: Pass y=[ 0.          0.          0.         ... -0.00039673 -0.00042725\n",
      " -0.00057983] as keyword args. From version 0.10 passing these as positional arguments will result in an error\n",
      "  mel=np.mean(librosa.feature.melspectrogram(X, sr=sample_rate).T,axis=0)\n"
     ]
    },
    {
     "name": "stdout",
     "output_type": "stream",
     "text": [
      "disgust\n",
      "surprised\n",
      "fearful\n",
      "disgust\n",
      "sad\n",
      "neutral\n",
      "calm\n",
      "fearful\n",
      "surprised\n",
      "happy\n",
      "happy\n"
     ]
    },
    {
     "name": "stderr",
     "output_type": "stream",
     "text": [
      "/tmp/ipykernel_15993/1336662531.py:15: FutureWarning: Pass y=[ 3.0517578e-05  0.0000000e+00  0.0000000e+00 ...  0.0000000e+00\n",
      " -3.0517578e-05 -3.0517578e-05] as keyword args. From version 0.10 passing these as positional arguments will result in an error\n",
      "  mel=np.mean(librosa.feature.melspectrogram(X, sr=sample_rate).T,axis=0)\n"
     ]
    },
    {
     "name": "stdout",
     "output_type": "stream",
     "text": [
      "sad\n",
      "calm\n",
      "calm\n",
      "angry\n",
      "neutral\n",
      "surprised\n",
      "fearful\n",
      "fearful\n",
      "sad\n",
      "disgust\n",
      "angry\n",
      "angry\n",
      "happy\n",
      "neutral\n",
      "fearful\n"
     ]
    },
    {
     "name": "stderr",
     "output_type": "stream",
     "text": [
      "/tmp/ipykernel_15993/1336662531.py:15: FutureWarning: Pass y=[ 0.0000000e+00  0.0000000e+00  0.0000000e+00 ...  0.0000000e+00\n",
      " -6.1035156e-05  0.0000000e+00] as keyword args. From version 0.10 passing these as positional arguments will result in an error\n",
      "  mel=np.mean(librosa.feature.melspectrogram(X, sr=sample_rate).T,axis=0)\n",
      "/tmp/ipykernel_15993/1336662531.py:15: FutureWarning: Pass y=[ 0.0000000e+00  0.0000000e+00  0.0000000e+00 ... -9.1552734e-05\n",
      " -6.1035156e-05  9.1552734e-05] as keyword args. From version 0.10 passing these as positional arguments will result in an error\n",
      "  mel=np.mean(librosa.feature.melspectrogram(X, sr=sample_rate).T,axis=0)\n",
      "/tmp/ipykernel_15993/1336662531.py:15: FutureWarning: Pass y=[0.         0.00015259 0.00015259 ... 0.00024414 0.00024414 0.00018311] as keyword args. From version 0.10 passing these as positional arguments will result in an error\n",
      "  mel=np.mean(librosa.feature.melspectrogram(X, sr=sample_rate).T,axis=0)\n"
     ]
    },
    {
     "name": "stdout",
     "output_type": "stream",
     "text": [
      "happy\n",
      "neutral\n",
      "calm\n",
      "happy\n"
     ]
    },
    {
     "name": "stderr",
     "output_type": "stream",
     "text": [
      "/tmp/ipykernel_15993/1336662531.py:15: FutureWarning: Pass y=[ 6.1035156e-05  6.1035156e-05  9.1552734e-05 ... -3.0517578e-05\n",
      "  0.0000000e+00  0.0000000e+00] as keyword args. From version 0.10 passing these as positional arguments will result in an error\n",
      "  mel=np.mean(librosa.feature.melspectrogram(X, sr=sample_rate).T,axis=0)\n"
     ]
    },
    {
     "name": "stdout",
     "output_type": "stream",
     "text": [
      "surprised\n",
      "neutral\n",
      "surprised\n",
      "disgust\n",
      "calm\n"
     ]
    },
    {
     "name": "stderr",
     "output_type": "stream",
     "text": [
      "/tmp/ipykernel_15993/1336662531.py:15: FutureWarning: Pass y=[0.         0.         0.00015259 ... 0.         0.         0.        ] as keyword args. From version 0.10 passing these as positional arguments will result in an error\n",
      "  mel=np.mean(librosa.feature.melspectrogram(X, sr=sample_rate).T,axis=0)\n",
      "/tmp/ipykernel_15993/1336662531.py:15: FutureWarning: Pass y=[ 0.         -0.00012207 -0.00027466 ... -0.00015259 -0.00015259\n",
      " -0.00021362] as keyword args. From version 0.10 passing these as positional arguments will result in an error\n",
      "  mel=np.mean(librosa.feature.melspectrogram(X, sr=sample_rate).T,axis=0)\n"
     ]
    },
    {
     "name": "stdout",
     "output_type": "stream",
     "text": [
      "sad\n",
      "surprised\n",
      "sad\n",
      "angry\n",
      "neutral\n",
      "calm\n",
      "surprised\n",
      "angry\n",
      "happy\n",
      "disgust\n",
      "calm\n",
      "sad\n",
      "happy\n"
     ]
    },
    {
     "name": "stderr",
     "output_type": "stream",
     "text": [
      "/tmp/ipykernel_15993/1336662531.py:15: FutureWarning: Pass y=[ 1.2207031e-04  1.5258789e-04 -3.0517578e-05 ...  0.0000000e+00\n",
      "  0.0000000e+00  0.0000000e+00] as keyword args. From version 0.10 passing these as positional arguments will result in an error\n",
      "  mel=np.mean(librosa.feature.melspectrogram(X, sr=sample_rate).T,axis=0)\n",
      "/tmp/ipykernel_15993/1336662531.py:15: FutureWarning: Pass y=[0.0000000e+00 0.0000000e+00 0.0000000e+00 ... 9.1552734e-05 1.2207031e-04\n",
      " 1.2207031e-04] as keyword args. From version 0.10 passing these as positional arguments will result in an error\n",
      "  mel=np.mean(librosa.feature.melspectrogram(X, sr=sample_rate).T,axis=0)\n",
      "/tmp/ipykernel_15993/1336662531.py:15: FutureWarning: Pass y=[-1.5258789e-04  5.1879883e-04  1.5258789e-03 ... -1.2207031e-04\n",
      " -1.5258789e-04  9.1552734e-05] as keyword args. From version 0.10 passing these as positional arguments will result in an error\n",
      "  mel=np.mean(librosa.feature.melspectrogram(X, sr=sample_rate).T,axis=0)\n"
     ]
    },
    {
     "name": "stdout",
     "output_type": "stream",
     "text": [
      "calm\n",
      "disgust\n",
      "disgust\n"
     ]
    },
    {
     "name": "stderr",
     "output_type": "stream",
     "text": [
      "/tmp/ipykernel_15993/1336662531.py:15: FutureWarning: Pass y=[ 0.          0.          0.         ... -0.00015259 -0.00036621\n",
      " -0.00048828] as keyword args. From version 0.10 passing these as positional arguments will result in an error\n",
      "  mel=np.mean(librosa.feature.melspectrogram(X, sr=sample_rate).T,axis=0)\n",
      "/tmp/ipykernel_15993/1336662531.py:15: FutureWarning: Pass y=[ 0.          0.          0.         ... -0.0005188  -0.0005188\n",
      " -0.00054932] as keyword args. From version 0.10 passing these as positional arguments will result in an error\n",
      "  mel=np.mean(librosa.feature.melspectrogram(X, sr=sample_rate).T,axis=0)\n",
      "/tmp/ipykernel_15993/1336662531.py:15: FutureWarning: Pass y=[0.0000000e+00 0.0000000e+00 0.0000000e+00 ... 1.8310547e-04 6.1035156e-05\n",
      " 0.0000000e+00] as keyword args. From version 0.10 passing these as positional arguments will result in an error\n",
      "  mel=np.mean(librosa.feature.melspectrogram(X, sr=sample_rate).T,axis=0)\n"
     ]
    },
    {
     "name": "stdout",
     "output_type": "stream",
     "text": [
      "angry\n",
      "angry\n",
      "surprised\n",
      "surprised\n",
      "sad\n",
      "happy\n",
      "fearful\n",
      "calm\n",
      "disgust\n"
     ]
    },
    {
     "name": "stderr",
     "output_type": "stream",
     "text": [
      "/tmp/ipykernel_15993/1336662531.py:15: FutureWarning: Pass y=[-6.1035156e-05 -3.0517578e-05 -3.0517578e-05 ...  5.4931641e-04\n",
      "  3.9672852e-04  2.4414062e-04] as keyword args. From version 0.10 passing these as positional arguments will result in an error\n",
      "  mel=np.mean(librosa.feature.melspectrogram(X, sr=sample_rate).T,axis=0)\n",
      "/tmp/ipykernel_15993/1336662531.py:15: FutureWarning: Pass y=[ 5.1879883e-04 -6.1035156e-05 -4.2724609e-04 ...  0.0000000e+00\n",
      " -9.1552734e-05 -6.1035156e-05] as keyword args. From version 0.10 passing these as positional arguments will result in an error\n",
      "  mel=np.mean(librosa.feature.melspectrogram(X, sr=sample_rate).T,axis=0)\n",
      "/tmp/ipykernel_15993/1336662531.py:15: FutureWarning: Pass y=[ 0.0000000e+00  0.0000000e+00  0.0000000e+00 ... -6.1035156e-05\n",
      " -6.1035156e-05 -3.0517578e-05] as keyword args. From version 0.10 passing these as positional arguments will result in an error\n",
      "  mel=np.mean(librosa.feature.melspectrogram(X, sr=sample_rate).T,axis=0)\n",
      "/tmp/ipykernel_15993/1336662531.py:15: FutureWarning: Pass y=[-0.00027466 -0.00024414 -0.00027466 ... -0.00015259 -0.00021362\n",
      " -0.00024414] as keyword args. From version 0.10 passing these as positional arguments will result in an error\n",
      "  mel=np.mean(librosa.feature.melspectrogram(X, sr=sample_rate).T,axis=0)\n"
     ]
    },
    {
     "name": "stdout",
     "output_type": "stream",
     "text": [
      "happy\n",
      "angry\n",
      "angry\n",
      "calm\n",
      "happy\n",
      "fearful\n",
      "happy\n",
      "sad\n",
      "fearful\n",
      "surprised\n",
      "sad\n",
      "disgust\n",
      "disgust\n"
     ]
    },
    {
     "name": "stderr",
     "output_type": "stream",
     "text": [
      "/tmp/ipykernel_15993/1336662531.py:15: FutureWarning: Pass y=[-9.1552734e-05 -9.1552734e-04 -1.0986328e-03 ...  2.7465820e-04\n",
      "  3.0517578e-04  3.6621094e-04] as keyword args. From version 0.10 passing these as positional arguments will result in an error\n",
      "  mel=np.mean(librosa.feature.melspectrogram(X, sr=sample_rate).T,axis=0)\n",
      "/tmp/ipykernel_15993/1336662531.py:15: FutureWarning: Pass y=[-0.00033569 -0.00045776 -0.00042725 ... -0.00082397 -0.00082397\n",
      " -0.00061035] as keyword args. From version 0.10 passing these as positional arguments will result in an error\n",
      "  mel=np.mean(librosa.feature.melspectrogram(X, sr=sample_rate).T,axis=0)\n",
      "/tmp/ipykernel_15993/1336662531.py:15: FutureWarning: Pass y=[ 0.0007019   0.0012207   0.00125122 ...  0.          0.00039673\n",
      " -0.00048828] as keyword args. From version 0.10 passing these as positional arguments will result in an error\n",
      "  mel=np.mean(librosa.feature.melspectrogram(X, sr=sample_rate).T,axis=0)\n",
      "/tmp/ipykernel_15993/1336662531.py:15: FutureWarning: Pass y=[-1.5258789e-04 -2.7465820e-04 -3.3569336e-04 ...  0.0000000e+00\n",
      "  3.0517578e-05  3.0517578e-05] as keyword args. From version 0.10 passing these as positional arguments will result in an error\n",
      "  mel=np.mean(librosa.feature.melspectrogram(X, sr=sample_rate).T,axis=0)\n"
     ]
    },
    {
     "name": "stdout",
     "output_type": "stream",
     "text": [
      "fearful\n",
      "disgust\n",
      "angry\n",
      "fearful\n",
      "fearful\n"
     ]
    },
    {
     "name": "stderr",
     "output_type": "stream",
     "text": [
      "/tmp/ipykernel_15993/1336662531.py:15: FutureWarning: Pass y=[-0.00210571 -0.00375366 -0.00332642 ... -0.00073242 -0.0007019\n",
      " -0.00057983] as keyword args. From version 0.10 passing these as positional arguments will result in an error\n",
      "  mel=np.mean(librosa.feature.melspectrogram(X, sr=sample_rate).T,axis=0)\n",
      "/tmp/ipykernel_15993/1336662531.py:15: FutureWarning: Pass y=[-9.1552734e-05 -6.4086914e-04 -5.1879883e-04 ... -6.1035156e-05\n",
      "  2.4414062e-04  1.8310547e-04] as keyword args. From version 0.10 passing these as positional arguments will result in an error\n",
      "  mel=np.mean(librosa.feature.melspectrogram(X, sr=sample_rate).T,axis=0)\n",
      "/tmp/ipykernel_15993/1336662531.py:15: FutureWarning: Pass y=[ 0.          0.          0.         ... -0.00021362 -0.00033569\n",
      " -0.00042725] as keyword args. From version 0.10 passing these as positional arguments will result in an error\n",
      "  mel=np.mean(librosa.feature.melspectrogram(X, sr=sample_rate).T,axis=0)\n",
      "/tmp/ipykernel_15993/1336662531.py:15: FutureWarning: Pass y=[ 0.0000000e+00  0.0000000e+00 -3.0517578e-05 ... -1.5258789e-04\n",
      " -1.5258789e-04 -3.0517578e-05] as keyword args. From version 0.10 passing these as positional arguments will result in an error\n",
      "  mel=np.mean(librosa.feature.melspectrogram(X, sr=sample_rate).T,axis=0)\n"
     ]
    },
    {
     "name": "stdout",
     "output_type": "stream",
     "text": [
      "fearful\n",
      "calm\n",
      "fearful\n",
      "surprised\n",
      "sad\n",
      "neutral\n",
      "sad\n",
      "happy\n"
     ]
    },
    {
     "name": "stderr",
     "output_type": "stream",
     "text": [
      "/tmp/ipykernel_15993/1336662531.py:15: FutureWarning: Pass y=[ 0.00018311  0.00018311  0.00018311 ...  0.00027466  0.00021362\n",
      " -0.00061035] as keyword args. From version 0.10 passing these as positional arguments will result in an error\n",
      "  mel=np.mean(librosa.feature.melspectrogram(X, sr=sample_rate).T,axis=0)\n",
      "/tmp/ipykernel_15993/1336662531.py:15: FutureWarning: Pass y=[ 0.0000000e+00  0.0000000e+00  0.0000000e+00 ...  0.0000000e+00\n",
      "  0.0000000e+00 -6.1035156e-05] as keyword args. From version 0.10 passing these as positional arguments will result in an error\n",
      "  mel=np.mean(librosa.feature.melspectrogram(X, sr=sample_rate).T,axis=0)\n",
      "/tmp/ipykernel_15993/1336662531.py:15: FutureWarning: Pass y=[-0.01373291 -0.01370239 -0.01379395 ... -0.00057983 -0.00180054\n",
      " -0.00396729] as keyword args. From version 0.10 passing these as positional arguments will result in an error\n",
      "  mel=np.mean(librosa.feature.melspectrogram(X, sr=sample_rate).T,axis=0)\n"
     ]
    },
    {
     "name": "stdout",
     "output_type": "stream",
     "text": [
      "angry\n",
      "angry\n",
      "disgust\n",
      "sad\n",
      "neutral\n",
      "neutral\n",
      "calm\n",
      "angry\n",
      "happy\n",
      "sad\n",
      "disgust\n"
     ]
    },
    {
     "name": "stderr",
     "output_type": "stream",
     "text": [
      "/tmp/ipykernel_15993/1336662531.py:15: FutureWarning: Pass y=[0.0000000e+00 3.0517578e-05 3.0517578e-05 ... 0.0000000e+00 0.0000000e+00\n",
      " 0.0000000e+00] as keyword args. From version 0.10 passing these as positional arguments will result in an error\n",
      "  mel=np.mean(librosa.feature.melspectrogram(X, sr=sample_rate).T,axis=0)\n"
     ]
    },
    {
     "name": "stdout",
     "output_type": "stream",
     "text": [
      "calm\n",
      "happy\n",
      "disgust\n",
      "happy\n",
      "angry\n",
      "sad\n",
      "neutral\n",
      "disgust\n",
      "disgust\n",
      "surprised\n",
      "disgust\n",
      "fearful\n"
     ]
    },
    {
     "name": "stderr",
     "output_type": "stream",
     "text": [
      "/tmp/ipykernel_15993/1336662531.py:15: FutureWarning: Pass y=[3.0517578e-05 2.7465820e-04 5.1879883e-04 ... 0.0000000e+00 0.0000000e+00\n",
      " 0.0000000e+00] as keyword args. From version 0.10 passing these as positional arguments will result in an error\n",
      "  mel=np.mean(librosa.feature.melspectrogram(X, sr=sample_rate).T,axis=0)\n",
      "/tmp/ipykernel_15993/1336662531.py:15: FutureWarning: Pass y=[1.5258789e-04 1.5258789e-04 9.1552734e-05 ... 0.0000000e+00 0.0000000e+00\n",
      " 0.0000000e+00] as keyword args. From version 0.10 passing these as positional arguments will result in an error\n",
      "  mel=np.mean(librosa.feature.melspectrogram(X, sr=sample_rate).T,axis=0)\n"
     ]
    },
    {
     "name": "stdout",
     "output_type": "stream",
     "text": [
      "calm\n",
      "surprised\n",
      "happy\n",
      "happy\n",
      "fearful\n"
     ]
    },
    {
     "name": "stderr",
     "output_type": "stream",
     "text": [
      "/tmp/ipykernel_15993/1336662531.py:15: FutureWarning: Pass y=[5.1879883e-04 2.4414062e-04 1.5258789e-04 ... 0.0000000e+00 0.0000000e+00\n",
      " 6.1035156e-05] as keyword args. From version 0.10 passing these as positional arguments will result in an error\n",
      "  mel=np.mean(librosa.feature.melspectrogram(X, sr=sample_rate).T,axis=0)\n"
     ]
    },
    {
     "name": "stdout",
     "output_type": "stream",
     "text": [
      "fearful\n",
      "neutral\n",
      "disgust\n",
      "calm\n",
      "angry\n",
      "angry\n",
      "disgust\n"
     ]
    },
    {
     "name": "stderr",
     "output_type": "stream",
     "text": [
      "/tmp/ipykernel_15993/1336662531.py:15: FutureWarning: Pass y=[-1.0375977e-03 -7.9345703e-04 -3.0517578e-05 ...  0.0000000e+00\n",
      "  0.0000000e+00  0.0000000e+00] as keyword args. From version 0.10 passing these as positional arguments will result in an error\n",
      "  mel=np.mean(librosa.feature.melspectrogram(X, sr=sample_rate).T,axis=0)\n"
     ]
    },
    {
     "name": "stdout",
     "output_type": "stream",
     "text": [
      "happy\n",
      "happy\n",
      "fearful\n",
      "calm\n",
      "surprised\n",
      "surprised\n",
      "sad\n",
      "sad\n",
      "sad\n",
      "calm\n",
      "happy\n",
      "angry\n",
      "surprised\n",
      "calm\n",
      "surprised\n",
      "sad\n",
      "fearful\n"
     ]
    },
    {
     "name": "stderr",
     "output_type": "stream",
     "text": [
      "/tmp/ipykernel_15993/1336662531.py:15: FutureWarning: Pass y=[-9.1552734e-05 -1.2207031e-04 -6.1035156e-05 ...  1.0986328e-03\n",
      "  3.3569336e-04 -3.0517578e-05] as keyword args. From version 0.10 passing these as positional arguments will result in an error\n",
      "  mel=np.mean(librosa.feature.melspectrogram(X, sr=sample_rate).T,axis=0)\n",
      "/tmp/ipykernel_15993/1336662531.py:15: FutureWarning: Pass y=[-0.00091553 -0.00091553 -0.00097656 ... -0.0017395  -0.0017395\n",
      " -0.0017395 ] as keyword args. From version 0.10 passing these as positional arguments will result in an error\n",
      "  mel=np.mean(librosa.feature.melspectrogram(X, sr=sample_rate).T,axis=0)\n",
      "/tmp/ipykernel_15993/1336662531.py:15: FutureWarning: Pass y=[2.5726318e-02 3.1707764e-02 3.5552979e-02 ... 0.0000000e+00 3.0517578e-05\n",
      " 0.0000000e+00] as keyword args. From version 0.10 passing these as positional arguments will result in an error\n",
      "  mel=np.mean(librosa.feature.melspectrogram(X, sr=sample_rate).T,axis=0)\n",
      "/tmp/ipykernel_15993/1336662531.py:15: FutureWarning: Pass y=[ 0.0000000e+00  0.0000000e+00 -3.0517578e-05 ... -3.0517578e-05\n",
      " -3.0517578e-05 -3.0517578e-05] as keyword args. From version 0.10 passing these as positional arguments will result in an error\n",
      "  mel=np.mean(librosa.feature.melspectrogram(X, sr=sample_rate).T,axis=0)\n"
     ]
    },
    {
     "name": "stdout",
     "output_type": "stream",
     "text": [
      "fearful\n",
      "surprised\n",
      "fearful\n",
      "sad\n",
      "calm\n",
      "fearful\n"
     ]
    },
    {
     "name": "stderr",
     "output_type": "stream",
     "text": [
      "/tmp/ipykernel_15993/1336662531.py:15: FutureWarning: Pass y=[ 0.          0.          0.         ... -0.00039673 -0.00012207\n",
      "  0.        ] as keyword args. From version 0.10 passing these as positional arguments will result in an error\n",
      "  mel=np.mean(librosa.feature.melspectrogram(X, sr=sample_rate).T,axis=0)\n",
      "/tmp/ipykernel_15993/1336662531.py:15: FutureWarning: Pass y=[6.1035156e-05 0.0000000e+00 3.0517578e-05 ... 1.5258789e-04 1.5258789e-04\n",
      " 1.8310547e-04] as keyword args. From version 0.10 passing these as positional arguments will result in an error\n",
      "  mel=np.mean(librosa.feature.melspectrogram(X, sr=sample_rate).T,axis=0)\n",
      "/tmp/ipykernel_15993/1336662531.py:15: FutureWarning: Pass y=[-1.2207031e-04 -1.2207031e-04 -1.2207031e-04 ...  6.1035156e-05\n",
      "  6.1035156e-05  6.1035156e-05] as keyword args. From version 0.10 passing these as positional arguments will result in an error\n",
      "  mel=np.mean(librosa.feature.melspectrogram(X, sr=sample_rate).T,axis=0)\n",
      "/tmp/ipykernel_15993/1336662531.py:15: FutureWarning: Pass y=[0.00021362 0.00021362 0.00021362 ... 0.00030518 0.00033569 0.00033569] as keyword args. From version 0.10 passing these as positional arguments will result in an error\n",
      "  mel=np.mean(librosa.feature.melspectrogram(X, sr=sample_rate).T,axis=0)\n"
     ]
    },
    {
     "name": "stdout",
     "output_type": "stream",
     "text": [
      "angry\n",
      "angry\n",
      "surprised\n",
      "surprised\n",
      "happy\n",
      "disgust\n",
      "neutral\n",
      "fearful\n",
      "angry\n",
      "angry\n",
      "disgust\n"
     ]
    },
    {
     "name": "stderr",
     "output_type": "stream",
     "text": [
      "/tmp/ipykernel_15993/1336662531.py:15: FutureWarning: Pass y=[1.8310547e-04 2.1362305e-04 2.1362305e-04 ... 6.1035156e-05 6.1035156e-05\n",
      " 9.1552734e-05] as keyword args. From version 0.10 passing these as positional arguments will result in an error\n",
      "  mel=np.mean(librosa.feature.melspectrogram(X, sr=sample_rate).T,axis=0)\n",
      "/tmp/ipykernel_15993/1336662531.py:15: FutureWarning: Pass y=[0.0005188  0.00054932 0.00036621 ... 0.         0.         0.        ] as keyword args. From version 0.10 passing these as positional arguments will result in an error\n",
      "  mel=np.mean(librosa.feature.melspectrogram(X, sr=sample_rate).T,axis=0)\n",
      "/tmp/ipykernel_15993/1336662531.py:15: FutureWarning: Pass y=[3.0517578e-05 3.0517578e-05 3.0517578e-05 ... 3.0517578e-05 3.0517578e-05\n",
      " 6.1035156e-05] as keyword args. From version 0.10 passing these as positional arguments will result in an error\n",
      "  mel=np.mean(librosa.feature.melspectrogram(X, sr=sample_rate).T,axis=0)\n"
     ]
    },
    {
     "name": "stdout",
     "output_type": "stream",
     "text": [
      "angry\n",
      "disgust\n",
      "angry\n",
      "angry\n",
      "surprised\n",
      "disgust\n",
      "calm\n",
      "sad\n",
      "surprised\n",
      "surprised\n",
      "sad\n",
      "fearful\n"
     ]
    },
    {
     "name": "stderr",
     "output_type": "stream",
     "text": [
      "/tmp/ipykernel_15993/1336662531.py:15: FutureWarning: Pass y=[0.00039673 0.00042725 0.00039673 ... 0.         0.         0.        ] as keyword args. From version 0.10 passing these as positional arguments will result in an error\n",
      "  mel=np.mean(librosa.feature.melspectrogram(X, sr=sample_rate).T,axis=0)\n",
      "/tmp/ipykernel_15993/1336662531.py:15: FutureWarning: Pass y=[-3.0517578e-05 -6.1035156e-05 -3.0517578e-05 ...  0.0000000e+00\n",
      "  0.0000000e+00  0.0000000e+00] as keyword args. From version 0.10 passing these as positional arguments will result in an error\n",
      "  mel=np.mean(librosa.feature.melspectrogram(X, sr=sample_rate).T,axis=0)\n",
      "/tmp/ipykernel_15993/1336662531.py:15: FutureWarning: Pass y=[0.0000000e+00 0.0000000e+00 0.0000000e+00 ... 1.2207031e-04 1.5258789e-04\n",
      " 9.1552734e-05] as keyword args. From version 0.10 passing these as positional arguments will result in an error\n",
      "  mel=np.mean(librosa.feature.melspectrogram(X, sr=sample_rate).T,axis=0)\n"
     ]
    },
    {
     "name": "stdout",
     "output_type": "stream",
     "text": [
      "angry\n",
      "surprised\n",
      "calm\n",
      "sad\n",
      "sad\n",
      "happy\n",
      "surprised\n",
      "disgust\n",
      "fearful\n"
     ]
    },
    {
     "name": "stderr",
     "output_type": "stream",
     "text": [
      "/tmp/ipykernel_15993/1336662531.py:15: FutureWarning: Pass y=[0.         0.         0.         ... 0.00012207 0.00015259 0.00015259] as keyword args. From version 0.10 passing these as positional arguments will result in an error\n",
      "  mel=np.mean(librosa.feature.melspectrogram(X, sr=sample_rate).T,axis=0)\n",
      "/tmp/ipykernel_15993/1336662531.py:15: FutureWarning: Pass y=[1.3122559e-03 1.3122559e-03 1.2817383e-03 ... 9.1552734e-05 9.1552734e-05\n",
      " 6.1035156e-05] as keyword args. From version 0.10 passing these as positional arguments will result in an error\n",
      "  mel=np.mean(librosa.feature.melspectrogram(X, sr=sample_rate).T,axis=0)\n",
      "/tmp/ipykernel_15993/1336662531.py:15: FutureWarning: Pass y=[-6.1035156e-05 -9.1552734e-05 -9.1552734e-05 ...  1.2817383e-03\n",
      "  1.2512207e-03  1.2207031e-03] as keyword args. From version 0.10 passing these as positional arguments will result in an error\n",
      "  mel=np.mean(librosa.feature.melspectrogram(X, sr=sample_rate).T,axis=0)\n"
     ]
    },
    {
     "name": "stdout",
     "output_type": "stream",
     "text": [
      "disgust\n",
      "sad\n",
      "disgust\n",
      "calm\n",
      "sad\n",
      "fearful\n"
     ]
    },
    {
     "name": "stderr",
     "output_type": "stream",
     "text": [
      "/tmp/ipykernel_15993/1336662531.py:15: FutureWarning: Pass y=[-9.1552734e-05 -6.1035156e-05  0.0000000e+00 ... -1.8310547e-04\n",
      " -1.8310547e-04 -2.1362305e-04] as keyword args. From version 0.10 passing these as positional arguments will result in an error\n",
      "  mel=np.mean(librosa.feature.melspectrogram(X, sr=sample_rate).T,axis=0)\n",
      "/tmp/ipykernel_15993/1336662531.py:15: FutureWarning: Pass y=[3.0517578e-05 3.0517578e-05 3.0517578e-05 ... 3.0517578e-05 3.0517578e-05\n",
      " 0.0000000e+00] as keyword args. From version 0.10 passing these as positional arguments will result in an error\n",
      "  mel=np.mean(librosa.feature.melspectrogram(X, sr=sample_rate).T,axis=0)\n"
     ]
    },
    {
     "name": "stdout",
     "output_type": "stream",
     "text": [
      "neutral\n",
      "surprised\n",
      "sad\n",
      "fearful\n",
      "sad\n",
      "happy\n",
      "happy\n",
      "surprised\n",
      "neutral\n",
      "neutral\n",
      "disgust\n"
     ]
    },
    {
     "name": "stderr",
     "output_type": "stream",
     "text": [
      "/tmp/ipykernel_15993/1336662531.py:15: FutureWarning: Pass y=[ 0.00015259  0.00015259  0.00015259 ... -0.00024414 -0.00027466\n",
      " -0.00024414] as keyword args. From version 0.10 passing these as positional arguments will result in an error\n",
      "  mel=np.mean(librosa.feature.melspectrogram(X, sr=sample_rate).T,axis=0)\n",
      "/tmp/ipykernel_15993/1336662531.py:15: FutureWarning: Pass y=[-3.0517578e-05 -3.0517578e-05  0.0000000e+00 ... -9.1552734e-05\n",
      " -9.1552734e-05 -9.1552734e-05] as keyword args. From version 0.10 passing these as positional arguments will result in an error\n",
      "  mel=np.mean(librosa.feature.melspectrogram(X, sr=sample_rate).T,axis=0)\n",
      "/tmp/ipykernel_15993/1336662531.py:15: FutureWarning: Pass y=[2.1362305e-04 2.1362305e-04 2.1362305e-04 ... 3.0517578e-05 3.0517578e-05\n",
      " 3.0517578e-05] as keyword args. From version 0.10 passing these as positional arguments will result in an error\n",
      "  mel=np.mean(librosa.feature.melspectrogram(X, sr=sample_rate).T,axis=0)\n",
      "/tmp/ipykernel_15993/1336662531.py:15: FutureWarning: Pass y=[6.1035156e-05 6.1035156e-05 3.0517578e-05 ... 1.8310547e-04 1.8310547e-04\n",
      " 1.8310547e-04] as keyword args. From version 0.10 passing these as positional arguments will result in an error\n",
      "  mel=np.mean(librosa.feature.melspectrogram(X, sr=sample_rate).T,axis=0)\n"
     ]
    },
    {
     "name": "stdout",
     "output_type": "stream",
     "text": [
      "fearful\n",
      "fearful\n",
      "calm\n",
      "angry\n",
      "calm\n",
      "happy\n",
      "happy\n",
      "happy\n"
     ]
    },
    {
     "name": "stderr",
     "output_type": "stream",
     "text": [
      "/tmp/ipykernel_15993/1336662531.py:15: FutureWarning: Pass y=[-3.0517578e-05  0.0000000e+00 -3.0517578e-05 ...  0.0000000e+00\n",
      "  0.0000000e+00  3.0517578e-05] as keyword args. From version 0.10 passing these as positional arguments will result in an error\n",
      "  mel=np.mean(librosa.feature.melspectrogram(X, sr=sample_rate).T,axis=0)\n",
      "/tmp/ipykernel_15993/1336662531.py:15: FutureWarning: Pass y=[ 0.          0.          0.         ... -0.00210571 -0.00216675\n",
      " -0.0020752 ] as keyword args. From version 0.10 passing these as positional arguments will result in an error\n",
      "  mel=np.mean(librosa.feature.melspectrogram(X, sr=sample_rate).T,axis=0)\n"
     ]
    },
    {
     "name": "stdout",
     "output_type": "stream",
     "text": [
      "angry\n",
      "happy\n",
      "calm\n",
      "calm\n",
      "calm\n"
     ]
    },
    {
     "name": "stderr",
     "output_type": "stream",
     "text": [
      "/tmp/ipykernel_15993/1336662531.py:15: FutureWarning: Pass y=[-3.0517578e-05 -3.0517578e-05 -3.0517578e-05 ... -6.1035156e-05\n",
      " -6.1035156e-05 -6.1035156e-05] as keyword args. From version 0.10 passing these as positional arguments will result in an error\n",
      "  mel=np.mean(librosa.feature.melspectrogram(X, sr=sample_rate).T,axis=0)\n",
      "/tmp/ipykernel_15993/1336662531.py:15: FutureWarning: Pass y=[-3.0517578e-05  0.0000000e+00  0.0000000e+00 ...  1.2207031e-04\n",
      "  1.2207031e-04  1.2207031e-04] as keyword args. From version 0.10 passing these as positional arguments will result in an error\n",
      "  mel=np.mean(librosa.feature.melspectrogram(X, sr=sample_rate).T,axis=0)\n",
      "/tmp/ipykernel_15993/1336662531.py:15: FutureWarning: Pass y=[0.         0.         0.         ... 0.00018311 0.00018311 0.00021362] as keyword args. From version 0.10 passing these as positional arguments will result in an error\n",
      "  mel=np.mean(librosa.feature.melspectrogram(X, sr=sample_rate).T,axis=0)\n",
      "/tmp/ipykernel_15993/1336662531.py:15: FutureWarning: Pass y=[0.00082397 0.00082397 0.00073242 ... 0.         0.         0.        ] as keyword args. From version 0.10 passing these as positional arguments will result in an error\n",
      "  mel=np.mean(librosa.feature.melspectrogram(X, sr=sample_rate).T,axis=0)\n"
     ]
    },
    {
     "name": "stdout",
     "output_type": "stream",
     "text": [
      "fearful\n",
      "happy\n",
      "fearful\n",
      "surprised\n",
      "sad\n",
      "disgust\n",
      "angry\n",
      "angry\n",
      "sad\n",
      "surprised\n",
      "angry\n",
      "calm\n",
      "disgust\n",
      "surprised\n",
      "angry\n",
      "surprised\n",
      "happy\n",
      "fearful\n",
      "calm\n",
      "neutral\n",
      "disgust\n",
      "calm\n",
      "sad\n",
      "angry\n",
      "happy\n",
      "fearful\n",
      "happy\n",
      "disgust\n",
      "disgust\n"
     ]
    },
    {
     "name": "stderr",
     "output_type": "stream",
     "text": [
      "/tmp/ipykernel_15993/1336662531.py:15: FutureWarning: Pass y=[0.0000000e+00 0.0000000e+00 0.0000000e+00 ... 6.1035156e-05 0.0000000e+00\n",
      " 0.0000000e+00] as keyword args. From version 0.10 passing these as positional arguments will result in an error\n",
      "  mel=np.mean(librosa.feature.melspectrogram(X, sr=sample_rate).T,axis=0)\n",
      "/tmp/ipykernel_15993/1336662531.py:15: FutureWarning: Pass y=[ 0.0000000e+00  0.0000000e+00  0.0000000e+00 ... -3.0517578e-05\n",
      " -1.8310547e-04  0.0000000e+00] as keyword args. From version 0.10 passing these as positional arguments will result in an error\n",
      "  mel=np.mean(librosa.feature.melspectrogram(X, sr=sample_rate).T,axis=0)\n"
     ]
    },
    {
     "name": "stdout",
     "output_type": "stream",
     "text": [
      "angry\n",
      "surprised\n",
      "disgust\n",
      "calm\n",
      "surprised\n",
      "fearful\n",
      "angry\n",
      "surprised\n",
      "fearful\n",
      "happy\n",
      "calm\n",
      "sad\n",
      "neutral\n",
      "sad\n",
      "disgust\n"
     ]
    },
    {
     "name": "stderr",
     "output_type": "stream",
     "text": [
      "/tmp/ipykernel_15993/1336662531.py:15: FutureWarning: Pass y=[ 0.0000000e+00  0.0000000e+00  0.0000000e+00 ...  3.0517578e-05\n",
      " -3.0517578e-05 -6.1035156e-05] as keyword args. From version 0.10 passing these as positional arguments will result in an error\n",
      "  mel=np.mean(librosa.feature.melspectrogram(X, sr=sample_rate).T,axis=0)\n"
     ]
    },
    {
     "name": "stdout",
     "output_type": "stream",
     "text": [
      "sad\n",
      "neutral\n",
      "sad\n",
      "fearful\n",
      "calm\n",
      "calm\n",
      "fearful\n",
      "surprised\n",
      "calm\n",
      "happy\n",
      "sad\n",
      "happy\n",
      "neutral\n",
      "disgust\n",
      "angry\n",
      "fearful\n",
      "happy\n"
     ]
    }
   ],
   "source": [
    "x_train,x_test,y_train,y_test=load_data(test_size=0.25)"
   ]
  },
  {
   "cell_type": "markdown",
   "id": "d0df460c",
   "metadata": {},
   "source": [
    "## Get the shape of the training and testing datasets"
   ]
  },
  {
   "cell_type": "code",
   "execution_count": 41,
   "id": "def0c4f0",
   "metadata": {},
   "outputs": [
    {
     "name": "stdout",
     "output_type": "stream",
     "text": [
      "(576, 192)\n"
     ]
    }
   ],
   "source": [
    "print((x_train.shape[0], x_test.shape[0]))"
   ]
  },
  {
   "cell_type": "markdown",
   "id": "1471076e",
   "metadata": {},
   "source": [
    "## Get the number of features extracted"
   ]
  },
  {
   "cell_type": "code",
   "execution_count": 42,
   "id": "eed15fc9",
   "metadata": {},
   "outputs": [
    {
     "name": "stdout",
     "output_type": "stream",
     "text": [
      "Features extracted: 180\n"
     ]
    }
   ],
   "source": [
    "print(f'Features extracted: {x_train.shape[1]}')"
   ]
  },
  {
   "cell_type": "markdown",
   "id": "27db52bd",
   "metadata": {},
   "source": [
    "## Initialize the Multi Layer Perceptron Classifier"
   ]
  },
  {
   "cell_type": "code",
   "execution_count": 43,
   "id": "7dab27ab",
   "metadata": {},
   "outputs": [],
   "source": [
    "model=MLPClassifier(alpha=0.01, batch_size=256, epsilon=1e-08, hidden_layer_sizes=(300,), learning_rate='adaptive', max_iter=500)\n"
   ]
  },
  {
   "cell_type": "markdown",
   "id": "cdee1d16",
   "metadata": {},
   "source": [
    "## Train the model"
   ]
  },
  {
   "cell_type": "code",
   "execution_count": 44,
   "id": "30ad270c",
   "metadata": {},
   "outputs": [
    {
     "data": {
      "text/plain": [
       "MLPClassifier(alpha=0.01, batch_size=256, hidden_layer_sizes=(300,),\n",
       "              learning_rate='adaptive', max_iter=500)"
      ]
     },
     "execution_count": 44,
     "metadata": {},
     "output_type": "execute_result"
    }
   ],
   "source": [
    "model.fit(x_train,y_train)"
   ]
  },
  {
   "cell_type": "markdown",
   "id": "961fbe48",
   "metadata": {},
   "source": [
    " ## Predict for the test set"
   ]
  },
  {
   "cell_type": "code",
   "execution_count": 45,
   "id": "fae47f97",
   "metadata": {},
   "outputs": [],
   "source": [
    "y_pred=model.predict(x_test)"
   ]
  },
  {
   "cell_type": "markdown",
   "id": "7d9584c1",
   "metadata": {},
   "source": [
    "##  Calculate the accuracy of our model"
   ]
  },
  {
   "cell_type": "code",
   "execution_count": 46,
   "id": "57df7da2",
   "metadata": {},
   "outputs": [],
   "source": [
    "accuracy=accuracy_score(y_true=y_test, y_pred=y_pred)"
   ]
  },
  {
   "cell_type": "markdown",
   "id": "1d71efc9",
   "metadata": {},
   "source": [
    "## Print the accuracy"
   ]
  },
  {
   "cell_type": "code",
   "execution_count": 47,
   "id": "18cc7d56",
   "metadata": {},
   "outputs": [
    {
     "name": "stdout",
     "output_type": "stream",
     "text": [
      "Accuracy: 73.96%\n"
     ]
    }
   ],
   "source": [
    "print(\"Accuracy: {:.2f}%\".format(accuracy*100))"
   ]
  }
 ],
 "metadata": {
  "interpreter": {
   "hash": "e7370f93d1d0cde622a1f8e1c04877d8463912d04d973331ad4851f04de6915a"
  },
  "kernelspec": {
   "display_name": "Python 3.8.10 64-bit",
   "language": "python",
   "name": "python3"
  },
  "language_info": {
   "codemirror_mode": {
    "name": "ipython",
    "version": 3
   },
   "file_extension": ".py",
   "mimetype": "text/x-python",
   "name": "python",
   "nbconvert_exporter": "python",
   "pygments_lexer": "ipython3",
   "version": "3.8.10"
  }
 },
 "nbformat": 4,
 "nbformat_minor": 5
}
